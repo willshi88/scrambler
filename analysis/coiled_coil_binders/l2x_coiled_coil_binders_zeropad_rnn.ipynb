{
 "cells": [
  {
   "cell_type": "code",
   "execution_count": 1,
   "metadata": {
    "scrolled": true
   },
   "outputs": [
    {
     "name": "stderr",
     "output_type": "stream",
     "text": [
      "Using TensorFlow backend.\n"
     ]
    }
   ],
   "source": [
    "import keras\n",
    "import keras.backend as K\n",
    "from keras.datasets import mnist\n",
    "from keras.models import Sequential, Model, load_model\n",
    "from keras.layers import Dense, Dropout, Activation, Flatten, Input, Lambda\n",
    "from keras.layers import Conv2D, MaxPooling2D, AveragePooling2D, Conv1D, MaxPooling1D, LSTM, ConvLSTM2D, GRU, CuDNNLSTM, CuDNNGRU, BatchNormalization, LocallyConnected2D, Permute, TimeDistributed, Bidirectional\n",
    "from keras.layers import Concatenate, Reshape, Conv2DTranspose, Embedding, Multiply, Activation\n",
    "\n",
    "from functools import partial\n",
    "\n",
    "from collections import defaultdict\n",
    "\n",
    "import os\n",
    "import pickle\n",
    "import numpy as np\n",
    "\n",
    "import scipy.sparse as sp\n",
    "import scipy.io as spio\n",
    "\n",
    "import isolearn.io as isoio\n",
    "import isolearn.keras as isol\n",
    "\n",
    "import matplotlib.pyplot as plt\n",
    "\n",
    "import tensorflow as tf\n",
    "\n",
    "from keras.backend.tensorflow_backend import set_session\n",
    "\n",
    "import pandas as pd\n",
    "\n",
    "def contain_tf_gpu_mem_usage() :\n",
    "    config = tf.ConfigProto()\n",
    "    config.gpu_options.allow_growth = True\n",
    "    sess = tf.Session(config=config)\n",
    "    set_session(sess)\n",
    "\n",
    "contain_tf_gpu_mem_usage()\n",
    "\n",
    "class MySequence :\n",
    "    def __init__(self) :\n",
    "        self.dummy = 1\n",
    "\n",
    "keras.utils.Sequence = MySequence\n",
    "\n",
    "import isolearn.keras as iso\n",
    "\n",
    "from sequence_logo_helper_protein import plot_protein_logo, letterAt_protein\n",
    "\n",
    "class IdentityEncoder(iso.SequenceEncoder) :\n",
    "    \n",
    "    def __init__(self, seq_len, channel_map) :\n",
    "        super(IdentityEncoder, self).__init__('identity', (seq_len, len(channel_map)))\n",
    "        \n",
    "        self.seq_len = seq_len\n",
    "        self.n_channels = len(channel_map)\n",
    "        self.encode_map = channel_map\n",
    "        self.decode_map = {\n",
    "            val : key for key, val in channel_map.items()\n",
    "        }\n",
    "    \n",
    "    def encode(self, seq) :\n",
    "        encoding = np.zeros((self.seq_len, self.n_channels))\n",
    "        \n",
    "        for i in range(len(seq)) :\n",
    "            if seq[i] in self.encode_map :\n",
    "                channel_ix = self.encode_map[seq[i]]\n",
    "                encoding[i, channel_ix] = 1.\n",
    "\n",
    "        return encoding\n",
    "    \n",
    "    def encode_inplace(self, seq, encoding) :\n",
    "        for i in range(len(seq)) :\n",
    "            if seq[i] in self.encode_map :\n",
    "                channel_ix = self.encode_map[seq[i]]\n",
    "                encoding[i, channel_ix] = 1.\n",
    "    \n",
    "    def encode_inplace_sparse(self, seq, encoding_mat, row_index) :\n",
    "        raise NotImplementError()\n",
    "    \n",
    "    def decode(self, encoding) :\n",
    "        seq = ''\n",
    "    \n",
    "        for pos in range(0, encoding.shape[0]) :\n",
    "            argmax_nt = np.argmax(encoding[pos, :])\n",
    "            max_nt = np.max(encoding[pos, :])\n",
    "            if max_nt == 1 :\n",
    "                seq += self.decode_map[argmax_nt]\n",
    "            else :\n",
    "                seq += \"0\"\n",
    "\n",
    "        return seq\n",
    "    \n",
    "    def decode_sparse(self, encoding_mat, row_index) :\n",
    "        encoding = np.array(encoding_mat[row_index, :].todense()).reshape(-1, 4)\n",
    "        return self.decode(encoding)\n",
    "\n",
    "class NopTransformer(iso.ValueTransformer) :\n",
    "    \n",
    "    def __init__(self, n_classes) :\n",
    "        super(NopTransformer, self).__init__('nop', (n_classes, ))\n",
    "        \n",
    "        self.n_classes = n_classes\n",
    "    \n",
    "    def transform(self, values) :\n",
    "        return values\n",
    "    \n",
    "    def transform_inplace(self, values, transform) :\n",
    "        transform[:] = values\n",
    "    \n",
    "    def transform_inplace_sparse(self, values, transform_mat, row_index) :\n",
    "        transform_mat[row_index, :] = np.ravel(values)\n"
   ]
  },
  {
   "cell_type": "code",
   "execution_count": 2,
   "metadata": {},
   "outputs": [
    {
     "name": "stdout",
     "output_type": "stream",
     "text": [
      "len(pair_df) = 890124\n",
      "   Unnamed: 0                                       monomer_id_1  \\\n",
      "0           0  redesigned_closed_6_6_9_9middlesbobby_1_4_S_01...   \n",
      "1           1  redesigned_closed_6_8_9_9middlesbobby_1_4_S_40...   \n",
      "2           2  redesigned_closed_6_6_9_10middlesbobby_1_4_S_1...   \n",
      "3           3  redesigned_closed_5_7_9_9middlesbobby_1_1_S_43...   \n",
      "4           4  redesigned_closed_6_6_8_10middlesbobby_1_5_S_2...   \n",
      "\n",
      "                                        monomer_id_2  \\\n",
      "0  redesigned_closed_6_6_8_10middlesbobby_1_5_S_2...   \n",
      "1  redesigned_closed_5_7_8_10middlesbobby_1_2_S_0...   \n",
      "2  redesigned_closed_6_6_9_9middlesbobby_1_4_S_07...   \n",
      "3  redesigned_closed_5_6_9_9middlesbobby_1_1_S_25...   \n",
      "4  redesigned_closed_6_6_8_9middlesbobby_1_5_S_16...   \n",
      "\n",
      "                                         amino_seq_1  \\\n",
      "0  SEKDLLRLNREILEEIERIQKDLEELLERAERDAEGGLEELEKLVR...   \n",
      "1  SEKEVMKEQIRLIRENIKAQEEILRLLKELERKGVDKEVEEVIKRI...   \n",
      "2  DEEEILKILEENLRIQREIDRIHEEQVKALERITRRREDREEIEKL...   \n",
      "3  STEDIARELRKIIRRDKESKKEIKRVHDEQRELAKDAEDSRVVRRL...   \n",
      "4  SEKEIIKRLNKLNEDLTRLLETYRRLVEEVERAGALEEELRRRQRE...   \n",
      "\n",
      "                                         amino_seq_2  interacts  \n",
      "0  TSEENVERQREHVRTTDEAIKEMEKIIRLLEVVARGEMDRDELRKV...        0.0  \n",
      "1  STEEVERIVEEVERISRRVVEISRRVVEKIRELIRRMKNERLVELL...        0.0  \n",
      "2  RTRELLDEHRKLLEEQERQTKQDEELLREVERRLREELIEMAKDVQ...        0.0  \n",
      "3  GKEEVLEVAKRLLELQEKLQRLHEELQRILDDIVRRKNADDTLVRR...        0.0  \n",
      "4  SEKEELKRLLEESNKLLELVKEQLRLAEDALRKIAKKARGEVEILE...        0.0  \n",
      "Training set size = 801112\n",
      "Validation set size = 445\n",
      "Test set size = 88567\n"
     ]
    }
   ],
   "source": [
    "#Re-load cached dataframe (shuffled)\n",
    "\n",
    "dataset_name = \"coiled_coil_binders\"\n",
    "\n",
    "experiment = \"baker_big_set_5x_negatives\"\n",
    "\n",
    "pair_df = pd.read_csv(\"pair_df_\" + experiment + \"_in_shuffled.csv\", sep=\"\\t\")\n",
    "\n",
    "print(\"len(pair_df) = \" + str(len(pair_df)))\n",
    "\n",
    "print(pair_df.head())\n",
    "\n",
    "#Generate training and test set indexes\n",
    "valid_set_size = 0.0005\n",
    "test_set_size = 0.0995\n",
    "\n",
    "data_index = np.arange(len(pair_df), dtype=np.int)\n",
    "\n",
    "train_index = data_index[:-int(len(pair_df) * (valid_set_size + test_set_size))]\n",
    "valid_index = data_index[train_index.shape[0]:-int(len(pair_df) * test_set_size)]\n",
    "test_index = data_index[train_index.shape[0] + valid_index.shape[0]:]\n",
    "\n",
    "print('Training set size = ' + str(train_index.shape[0]))\n",
    "print('Validation set size = ' + str(valid_index.shape[0]))\n",
    "print('Test set size = ' + str(test_index.shape[0]))\n"
   ]
  },
  {
   "cell_type": "code",
   "execution_count": 3,
   "metadata": {},
   "outputs": [
    {
     "name": "stdout",
     "output_type": "stream",
     "text": [
      "Training set size = 40000\n",
      "Test set size = 4000\n"
     ]
    }
   ],
   "source": [
    "#Sub-select smaller dataset\n",
    "\n",
    "n_train_pos = 20000\n",
    "n_train_neg = 20000\n",
    "\n",
    "n_test_pos = 2000\n",
    "n_test_neg = 2000\n",
    "\n",
    "orig_n_train = train_index.shape[0]\n",
    "orig_n_valid = valid_index.shape[0]\n",
    "orig_n_test = test_index.shape[0]\n",
    "\n",
    "train_index_pos = np.nonzero((pair_df.iloc[train_index]['interacts'] == 1).values)[0][:n_train_pos]\n",
    "train_index_neg = np.nonzero((pair_df.iloc[train_index]['interacts'] == 0).values)[0][:n_train_neg]\n",
    "\n",
    "train_index = np.concatenate([train_index_pos, train_index_neg], axis=0)\n",
    "np.random.shuffle(train_index)\n",
    "\n",
    "test_index_pos = np.nonzero((pair_df.iloc[test_index]['interacts'] == 1).values)[0][:n_test_pos] + orig_n_train + orig_n_valid\n",
    "test_index_neg = np.nonzero((pair_df.iloc[test_index]['interacts'] == 0).values)[0][:n_test_neg] + orig_n_train + orig_n_valid\n",
    "\n",
    "test_index = np.concatenate([test_index_pos, test_index_neg], axis=0)\n",
    "np.random.shuffle(test_index)\n",
    "\n",
    "print('Training set size = ' + str(train_index.shape[0]))\n",
    "print('Test set size = ' + str(test_index.shape[0]))\n"
   ]
  },
  {
   "cell_type": "code",
   "execution_count": 4,
   "metadata": {},
   "outputs": [],
   "source": [
    "#Calculate sequence lengths\n",
    "\n",
    "pair_df['amino_seq_1_len'] = pair_df['amino_seq_1'].str.len()\n",
    "pair_df['amino_seq_2_len'] = pair_df['amino_seq_2'].str.len()\n"
   ]
  },
  {
   "cell_type": "code",
   "execution_count": 5,
   "metadata": {},
   "outputs": [],
   "source": [
    "#Initialize sequence encoder\n",
    "\n",
    "seq_length = 81\n",
    "\n",
    "residue_map = {'D': 0, 'E': 1, 'V': 2, 'K': 3, 'R': 4, 'L': 5, 'S': 6, 'T': 7, 'N': 8, 'H': 9, 'A': 10, 'I': 11, 'G': 12, 'P': 13, 'Q': 14, 'Y': 15, 'W': 16, 'M': 17, 'F': 18, '#': 19}\n",
    "\n",
    "encoder = IdentityEncoder(seq_length, residue_map)\n"
   ]
  },
  {
   "cell_type": "code",
   "execution_count": 6,
   "metadata": {},
   "outputs": [],
   "source": [
    "#Construct data generators\n",
    "\n",
    "class CategoricalRandomizer :\n",
    "    \n",
    "    def __init__(self, case_range, case_probs) :\n",
    "        self.case_range = case_range\n",
    "        self.case_probs = case_probs\n",
    "        self.cases = 0\n",
    "        \n",
    "    def get_random_sample(self, index=None) :\n",
    "        if index is None :\n",
    "            return self.cases\n",
    "        else :\n",
    "            return self.cases[index]\n",
    "    \n",
    "    def generate_random_sample(self, batch_size=1, data_ids=None) :\n",
    "        self.cases = np.random.choice(self.case_range, size=batch_size, replace=True, p=self.case_probs)\n",
    "\n",
    "def get_amino_seq(row, index, flip_randomizer, homodimer_randomizer, max_seq_len=seq_length) :\n",
    "    \n",
    "    is_flip = True if flip_randomizer.get_random_sample(index=index) == 1 else False\n",
    "    is_homodimer = True if homodimer_randomizer.get_random_sample(index=index) == 1 else False\n",
    "    \n",
    "    amino_seq_1, amino_seq_2 = row['amino_seq_1'], row['amino_seq_2']\n",
    "    if is_flip :\n",
    "        amino_seq_1, amino_seq_2 = row['amino_seq_2'], row['amino_seq_1']\n",
    "    if is_homodimer and row['interacts'] < 0.5 :\n",
    "        amino_seq_2 = amino_seq_1\n",
    "    \n",
    "    return amino_seq_1, amino_seq_2\n",
    "\n",
    "flip_randomizer = CategoricalRandomizer(np.arange(2), np.array([0.5, 0.5]))\n",
    "homodimer_randomizer = CategoricalRandomizer(np.arange(2), np.array([0.95, 0.05]))\n",
    "\n",
    "batch_size = 32\n",
    "\n",
    "data_gens = {\n",
    "    gen_id : iso.DataGenerator(\n",
    "        idx,\n",
    "        { 'df' : pair_df },\n",
    "        batch_size=(idx.shape[0] // batch_size) * batch_size,\n",
    "        inputs = [\n",
    "            {\n",
    "                'id' : 'amino_seq_1',\n",
    "                'source_type' : 'dataframe',\n",
    "                'source' : 'df',\n",
    "                #'extractor' : lambda row, index, flip_randomizer=flip_randomizer, homodimer_randomizer=homodimer_randomizer: (get_amino_seq(row, index, flip_randomizer, homodimer_randomizer)[0] + \"#\" * seq_length)[:seq_length],\n",
    "                'extractor' : lambda row, index, flip_randomizer=flip_randomizer, homodimer_randomizer=homodimer_randomizer: get_amino_seq(row, index, flip_randomizer, homodimer_randomizer)[0],\n",
    "                'encoder' : IdentityEncoder(seq_length, residue_map),\n",
    "                'dim' : (1, seq_length, len(residue_map)),\n",
    "                'sparsify' : False\n",
    "            },\n",
    "            {\n",
    "                'id' : 'amino_seq_2',\n",
    "                'source_type' : 'dataframe',\n",
    "                'source' : 'df',\n",
    "                #'extractor' : lambda row, index, flip_randomizer=flip_randomizer, homodimer_randomizer=homodimer_randomizer: (get_amino_seq(row, index, flip_randomizer, homodimer_randomizer)[1] + \"#\" * seq_length)[:seq_length],\n",
    "                'extractor' : lambda row, index, flip_randomizer=flip_randomizer, homodimer_randomizer=homodimer_randomizer: get_amino_seq(row, index, flip_randomizer, homodimer_randomizer)[1],\n",
    "                'encoder' : IdentityEncoder(seq_length, residue_map),\n",
    "                'dim' : (1, seq_length, len(residue_map)),\n",
    "                'sparsify' : False\n",
    "            },\n",
    "            {\n",
    "                'id' : 'amino_seq_1_len',\n",
    "                'source_type' : 'dataframe',\n",
    "                'source' : 'df',\n",
    "                'extractor' : lambda row, index, flip_randomizer=flip_randomizer, homodimer_randomizer=homodimer_randomizer: len(get_amino_seq(row, index, flip_randomizer, homodimer_randomizer)[0]),\n",
    "                'encoder' : lambda t: t,\n",
    "                'dim' : (1,),\n",
    "                'sparsify' : False\n",
    "            },\n",
    "            {\n",
    "                'id' : 'amino_seq_2_len',\n",
    "                'source_type' : 'dataframe',\n",
    "                'source' : 'df',\n",
    "                'extractor' : lambda row, index, flip_randomizer=flip_randomizer, homodimer_randomizer=homodimer_randomizer: len(get_amino_seq(row, index, flip_randomizer, homodimer_randomizer)[1]),\n",
    "                'encoder' : lambda t: t,\n",
    "                'dim' : (1,),\n",
    "                'sparsify' : False\n",
    "            }\n",
    "        ],\n",
    "        outputs = [\n",
    "            {\n",
    "                'id' : 'interacts',\n",
    "                'source_type' : 'dataframe',\n",
    "                'source' : 'df',\n",
    "                'extractor' : lambda row, index: row['interacts'],\n",
    "                'transformer' : NopTransformer(1),\n",
    "                'dim' : (1,),\n",
    "                'sparsify' : False\n",
    "            }\n",
    "        ],\n",
    "        randomizers = [flip_randomizer, homodimer_randomizer],\n",
    "        shuffle = True\n",
    "    ) for gen_id, idx in [('train', train_index), ('valid', valid_index), ('test', test_index)]\n",
    "}\n"
   ]
  },
  {
   "cell_type": "code",
   "execution_count": 7,
   "metadata": {},
   "outputs": [
    {
     "name": "stdout",
     "output_type": "stream",
     "text": [
      "x_1_train.shape = (40000, 1, 81, 20)\n",
      "x_2_train.shape = (40000, 1, 81, 20)\n",
      "x_1_test.shape = (4000, 1, 81, 20)\n",
      "x_2_test.shape = (4000, 1, 81, 20)\n",
      "l_1_train.shape = (40000, 1)\n",
      "l2_train.shape = (40000, 1)\n",
      "l_1_test.shape = (4000, 1)\n",
      "l2_test.shape = (4000, 1)\n",
      "y_train.shape = (40000, 1)\n",
      "y_test.shape = (4000, 1)\n"
     ]
    }
   ],
   "source": [
    "#Load data matrices\n",
    "\n",
    "[x_1_train, x_2_train, l_1_train, l_2_train], [y_train] = data_gens['train'][0]\n",
    "[x_1_test, x_2_test, l_1_test, l_2_test], [y_test] = data_gens['test'][0]\n",
    "\n",
    "print(\"x_1_train.shape = \" + str(x_1_train.shape))\n",
    "print(\"x_2_train.shape = \" + str(x_2_train.shape))\n",
    "print(\"x_1_test.shape = \" + str(x_1_test.shape))\n",
    "print(\"x_2_test.shape = \" + str(x_2_test.shape))\n",
    "\n",
    "print(\"l_1_train.shape = \" + str(l_1_train.shape))\n",
    "print(\"l2_train.shape = \" + str(l_2_train.shape))\n",
    "print(\"l_1_test.shape = \" + str(l_1_test.shape))\n",
    "print(\"l2_test.shape = \" + str(l_2_test.shape))\n",
    "\n",
    "print(\"y_train.shape = \" + str(y_train.shape))\n",
    "print(\"y_test.shape = \" + str(y_test.shape))\n"
   ]
  },
  {
   "cell_type": "code",
   "execution_count": 8,
   "metadata": {},
   "outputs": [],
   "source": [
    "#Define sequence templates\n",
    "\n",
    "sequence_templates = [\n",
    "    '$' * i + '@' * (seq_length - i)\n",
    "    for i in range(seq_length+1)\n",
    "]\n",
    "\n",
    "sequence_masks = [\n",
    "    np.array([1 if sequence_templates[i][j] == '$' else 0 for j in range(len(sequence_templates[i]))])\n",
    "    for i in range(seq_length+1)\n",
    "]\n"
   ]
  },
  {
   "cell_type": "code",
   "execution_count": 9,
   "metadata": {},
   "outputs": [
    {
     "name": "stdout",
     "output_type": "stream",
     "text": [
      "len(data_df) = 481\n",
      "len(test_df) = 480\n",
      "                                        monomer_id_1  \\\n",
      "0  redesigned_closed_5_7_9_9middlesbobby_1_1_S_39...   \n",
      "1  redesigned_closed_6_6_9_9middlesbobby_1_4_S_07...   \n",
      "2  redesigned_closed_6_6_9_9middlesbobby_1_4_S_08...   \n",
      "3  redesigned_closed_5_6_9_10middlesscott_1_1_S_3...   \n",
      "4  redesigned_closed_6_6_9_10middlesbobby_1_4_S_1...   \n",
      "\n",
      "                                        monomer_id_2  \\\n",
      "0  redesigned_closed_5_7_9_9middlesbobby_1_1_S_39...   \n",
      "1  redesigned_closed_6_6_9_9middlesbobby_1_4_S_07...   \n",
      "2  redesigned_closed_6_6_9_9middlesbobby_1_4_S_08...   \n",
      "3  redesigned_closed_5_6_9_10middlesscott_1_1_S_3...   \n",
      "4  redesigned_closed_6_6_9_10middlesbobby_1_4_S_1...   \n",
      "\n",
      "                                         amino_seq_1  \\\n",
      "0  DEEELLKLIEDLLKSNKELLDLSKKNLRLLRELVRERNMDDTALRK...   \n",
      "1  SEKELLELLRELIEDLDRDVKLLRRNVDLHRRVAREGMREELIKKS...   \n",
      "2  SEEERITEIVKRVEELLRRYEELVKEYKRVLEELRRELREEEQKEL...   \n",
      "3  SDEEELDEIIKRSEEVMREVEEIDKRVEDIVRKAAKEGASELVKRS...   \n",
      "4  TVKELVKTLLDLTREQQRIDKEVHRTSLSLLEEAKDRGNEELVRRS...   \n",
      "\n",
      "                                         amino_seq_2  interacts  \\\n",
      "0  SVEEVIKESEKIKKESERVKRENEELIRRAEEIAKRRGPVRAVKEL...        1.0   \n",
      "1  SLKELIEEILRLAERHIELSEEHLRIQEKVLEDAGKREELLRESLE...        1.0   \n",
      "2  STKENLEIHEDNLRVLDENLKVLTEVVKLLRLVTKNTLDKSVIREI...        1.0   \n",
      "3  SIKELLEEILRLSRELVKEAERNVRELKRIVDKVRERNKQPEEVLK...        1.0   \n",
      "4  SEEESLDRIEREQTRVLKEVKDSLDKVRKILEDLEREGADEAIREL...        1.0   \n",
      "\n",
      "   amino_seq_1_len  amino_seq_2_len  \n",
      "0               73               72  \n",
      "1               72               74  \n",
      "2               76               72  \n",
      "3               72               77  \n",
      "4               73               72  \n"
     ]
    }
   ],
   "source": [
    "#Load cached dataframe (shuffled)\n",
    "\n",
    "dataset_name = \"coiled_coil_binders\"\n",
    "\n",
    "experiment = \"coiled_coil_binders_alyssa\"\n",
    "\n",
    "data_df = pd.read_csv(experiment + \".csv\", sep=\"\\t\")\n",
    "\n",
    "print(\"len(data_df) = \" + str(len(data_df)))\n",
    "\n",
    "test_df = data_df.copy().reset_index(drop=True)\n",
    "\n",
    "batch_size = 32\n",
    "test_df = test_df.iloc[:(len(test_df) // batch_size) * batch_size].copy().reset_index(drop=True)\n",
    "\n",
    "print(\"len(test_df) = \" + str(len(test_df)))\n",
    "\n",
    "print(test_df.head())\n"
   ]
  },
  {
   "cell_type": "code",
   "execution_count": 10,
   "metadata": {},
   "outputs": [
    {
     "name": "stdout",
     "output_type": "stream",
     "text": [
      "x_1_test.shape = (480, 1, 81, 20)\n",
      "x_2_test.shape = (480, 1, 81, 20)\n",
      "l_1_test.shape = (480, 1)\n",
      "l_2_test.shape = (480, 1)\n",
      "y_test.shape = (480, 1)\n"
     ]
    }
   ],
   "source": [
    "#Construct test data\n",
    "\n",
    "batch_size = 32\n",
    "\n",
    "test_gen = iso.DataGenerator(\n",
    "    np.arange(len(test_df), dtype=np.int),\n",
    "    { 'df' : test_df },\n",
    "    batch_size=(len(test_df) // batch_size) * batch_size,\n",
    "    inputs = [\n",
    "        {\n",
    "            'id' : 'amino_seq_1',\n",
    "            'source_type' : 'dataframe',\n",
    "            'source' : 'df',\n",
    "            #'extractor' : lambda row, index: (row['amino_seq_1'] + \"#\" * seq_length)[:seq_length],\n",
    "            'extractor' : lambda row, index: row['amino_seq_1'],\n",
    "            'encoder' : IdentityEncoder(seq_length, residue_map),\n",
    "            'dim' : (1, seq_length, len(residue_map)),\n",
    "            'sparsify' : False\n",
    "        },\n",
    "        {\n",
    "            'id' : 'amino_seq_2',\n",
    "            'source_type' : 'dataframe',\n",
    "            'source' : 'df',\n",
    "            #'extractor' : lambda row, index: row['amino_seq_2'] + \"#\" * seq_length)[:seq_length],\n",
    "            'extractor' : lambda row, index: row['amino_seq_2'],\n",
    "            'encoder' : IdentityEncoder(seq_length, residue_map),\n",
    "            'dim' : (1, seq_length, len(residue_map)),\n",
    "            'sparsify' : False\n",
    "        },\n",
    "        {\n",
    "            'id' : 'amino_seq_1_len',\n",
    "            'source_type' : 'dataframe',\n",
    "            'source' : 'df',\n",
    "            'extractor' : lambda row, index: len(row['amino_seq_1']),\n",
    "            'encoder' : lambda t: t,\n",
    "            'dim' : (1,),\n",
    "            'sparsify' : False\n",
    "        },\n",
    "        {\n",
    "            'id' : 'amino_seq_2_len',\n",
    "            'source_type' : 'dataframe',\n",
    "            'source' : 'df',\n",
    "            'extractor' : lambda row, index: len(row['amino_seq_2']),\n",
    "            'encoder' : lambda t: t,\n",
    "            'dim' : (1,),\n",
    "            'sparsify' : False\n",
    "        }\n",
    "    ],\n",
    "    outputs = [\n",
    "        {\n",
    "            'id' : 'interacts',\n",
    "            'source_type' : 'dataframe',\n",
    "            'source' : 'df',\n",
    "            'extractor' : lambda row, index: row['interacts'],\n",
    "            'transformer' : NopTransformer(1),\n",
    "            'dim' : (1,),\n",
    "            'sparsify' : False\n",
    "        }\n",
    "    ],\n",
    "    randomizers = [],\n",
    "    shuffle = False\n",
    ")\n",
    "\n",
    "#Load data matrices\n",
    "\n",
    "[x_1_test, x_2_test, l_1_test, l_2_test], [y_test] = test_gen[0]\n",
    "\n",
    "print(\"x_1_test.shape = \" + str(x_1_test.shape))\n",
    "print(\"x_2_test.shape = \" + str(x_2_test.shape))\n",
    "print(\"l_1_test.shape = \" + str(l_1_test.shape))\n",
    "print(\"l_2_test.shape = \" + str(l_2_test.shape))\n",
    "\n",
    "print(\"y_test.shape = \" + str(y_test.shape))\n"
   ]
  },
  {
   "cell_type": "code",
   "execution_count": 11,
   "metadata": {},
   "outputs": [
    {
     "name": "stdout",
     "output_type": "stream",
     "text": [
      "WARNING:tensorflow:From /home/ubuntu/anaconda3/envs/tensorflow_p36/lib/python3.6/site-packages/tensorflow/python/framework/op_def_library.py:263: colocate_with (from tensorflow.python.framework.ops) is deprecated and will be removed in a future version.\n",
      "Instructions for updating:\n",
      "Colocations handled automatically by placer.\n",
      "WARNING:tensorflow:From /home/ubuntu/anaconda3/envs/tensorflow_p36/lib/python3.6/site-packages/keras/backend/tensorflow_backend.py:3445: calling dropout (from tensorflow.python.ops.nn_ops) with keep_prob is deprecated and will be removed in a future version.\n",
      "Instructions for updating:\n",
      "Please use `rate` instead of `keep_prob`. Rate should be set to `rate = 1 - keep_prob`.\n"
     ]
    }
   ],
   "source": [
    "#Load predictor model\n",
    "\n",
    "def get_shared_model() :\n",
    "    \n",
    "    gru_1 = Bidirectional(CuDNNGRU(64, return_sequences=False), merge_mode='concat')\n",
    "    \n",
    "    drop_1 = Dropout(0.25)\n",
    "\n",
    "    def shared_model(inp) :\n",
    "\n",
    "        gru_1_out = gru_1(inp)\n",
    "        \n",
    "        drop_1_out = drop_1(gru_1_out)\n",
    "\n",
    "        return drop_1_out\n",
    "    \n",
    "    return shared_model\n",
    "\n",
    "shared_model = get_shared_model()\n",
    "\n",
    "#Inputs\n",
    "res_1 = Input(shape=(seq_length, 19 + 1))\n",
    "res_2 = Input(shape=(seq_length, 19 + 1))\n",
    "\n",
    "#Outputs\n",
    "true_interacts = Input(shape=(1,))\n",
    "\n",
    "#Interaction model definition\n",
    "dense_out_1 = shared_model(res_1)\n",
    "dense_out_2 = shared_model(res_2)\n",
    "\n",
    "layer_dense_pair_1 = Dense(128, activation='relu')\n",
    "dense_out_pair = layer_dense_pair_1(Concatenate(axis=-1)([dense_out_1, dense_out_2]))\n",
    "\n",
    "pred_interacts = Dense(1, activation='sigmoid', kernel_initializer='zeros')(dense_out_pair)\n",
    "\n",
    "predictor = Model(\n",
    "    inputs=[\n",
    "        res_1,\n",
    "        res_2\n",
    "    ],\n",
    "    outputs=pred_interacts\n",
    ")\n",
    "\n",
    "predictor.load_weights('saved_models/ppi_rnn_baker_big_set_5x_negatives_classifier_symmetric_drop_25_5x_negatives_balanced_partitioned_data_epoch_10.h5', by_name=True)\n",
    "predictor.trainable = False\n",
    "\n",
    "predictor.compile(\n",
    "    optimizer=keras.optimizers.SGD(lr=0.1),\n",
    "    loss='mean_squared_error'\n",
    ")\n"
   ]
  },
  {
   "cell_type": "code",
   "execution_count": 12,
   "metadata": {},
   "outputs": [],
   "source": [
    "#Generate (original) predictions\n",
    "\n",
    "pred_train = predictor.predict([x_1_train[:, 0, ...], x_2_train[:, 0, ...]], batch_size=32)\n",
    "pred_test = predictor.predict([x_1_test[:, 0, ...], x_2_test[:, 0, ...]], batch_size=32)\n",
    "\n",
    "pred_train = np.concatenate([1. - pred_train, pred_train], axis=1)\n",
    "pred_test = np.concatenate([1. - pred_test, pred_test], axis=1)\n"
   ]
  },
  {
   "cell_type": "code",
   "execution_count": 13,
   "metadata": {},
   "outputs": [],
   "source": [
    "#Make two-channel targets\n",
    "\n",
    "y_train = np.concatenate([1. - y_train, y_train], axis=1)\n",
    "y_test = np.concatenate([1. - y_test, y_test], axis=1)\n"
   ]
  },
  {
   "cell_type": "code",
   "execution_count": 24,
   "metadata": {},
   "outputs": [],
   "source": [
    "###########################################\n",
    "####################L2X####################\n",
    "###########################################\n",
    "\n",
    "from keras.callbacks import ModelCheckpoint\n",
    "from keras.models import Model, Sequential \n",
    "\n",
    "import numpy as np\n",
    "import tensorflow as tf\n",
    "\n",
    "from keras.layers import MaxPooling2D, Flatten, Conv2D, Input, GlobalMaxPooling2D, Multiply, Lambda, Embedding, Dense, Dropout, Activation\n",
    "from keras.datasets import imdb\n",
    "from keras import backend as K  \n",
    "from keras.engine.topology import Layer \n",
    "\n",
    "# Define various Keras layers.\n",
    "class Concatenate1D(Layer):\n",
    "    \"\"\"\n",
    "    Layer for concatenation. \n",
    "\n",
    "    \"\"\"\n",
    "    def __init__(self, **kwargs): \n",
    "        super(Concatenate1D, self).__init__(**kwargs)\n",
    "\n",
    "    def call(self, inputs):\n",
    "        input1, input2 = inputs  \n",
    "        input1 = tf.expand_dims(input1, axis = -2) # [batchsize, 1, input1_dim] \n",
    "        dim1 = int(input2.get_shape()[1])\n",
    "        input1 = tf.tile(input1, [1, dim1, 1])\n",
    "        return tf.concat([input1, input2], axis = -1)\n",
    "\n",
    "    def compute_output_shape(self, input_shapes):\n",
    "        input_shape1, input_shape2 = input_shapes\n",
    "        input_shape = list(input_shape2)\n",
    "        input_shape[-1] = int(input_shape[-1]) + int(input_shape1[-1])\n",
    "        input_shape[-2] = int(input_shape[-2])\n",
    "        return tuple(input_shape)\n",
    "\n",
    "class Concatenate2D(Layer):\n",
    "    \"\"\"\n",
    "    Layer for concatenation. \n",
    "\n",
    "    \"\"\"\n",
    "    def __init__(self, **kwargs): \n",
    "        super(Concatenate2D, self).__init__(**kwargs)\n",
    "\n",
    "    def call(self, inputs):\n",
    "        input1, input2 = inputs  \n",
    "        input1 = tf.expand_dims(tf.expand_dims(input1, axis = -2), axis = -2) # [batchsize, 1, 1, input1_dim] \n",
    "        dim1 = int(input2.get_shape()[1])\n",
    "        dim2 = int(input2.get_shape()[2])\n",
    "        input1 = tf.tile(input1, [1, dim1, dim2, 1])\n",
    "        return tf.concat([input1, input2], axis = -1)\n",
    "\n",
    "    def compute_output_shape(self, input_shapes):\n",
    "        input_shape1, input_shape2 = input_shapes\n",
    "        input_shape = list(input_shape2)\n",
    "        input_shape[-1] = int(input_shape[-1]) + int(input_shape1[-1])\n",
    "        input_shape[-2] = int(input_shape[-2])\n",
    "        input_shape[-3] = int(input_shape[-3])\n",
    "        return tuple(input_shape)\n",
    "\n",
    "class Sample_Concrete(Layer):\n",
    "    \"\"\"\n",
    "    Layer for sample Concrete / Gumbel-Softmax variables. \n",
    "\n",
    "    \"\"\"\n",
    "    def __init__(self, tau0, k, **kwargs): \n",
    "        self.tau0 = tau0\n",
    "        self.k = k\n",
    "        super(Sample_Concrete, self).__init__(**kwargs)\n",
    "\n",
    "    def call(self, logits):   \n",
    "        # logits: [batch_size, d, 1]\n",
    "        logits_ = K.permute_dimensions(logits, (0,2,1))# [batch_size, 1, d]\n",
    "        \n",
    "        d = int(logits_.get_shape()[2])\n",
    "        unif_shape = [batch_size,self.k,d]\n",
    "\n",
    "        uniform = K.random_uniform_variable(shape=unif_shape,\n",
    "            low = np.finfo(tf.float32.as_numpy_dtype).tiny,\n",
    "            high = 1.0)\n",
    "        gumbel = - K.log(-K.log(uniform))\n",
    "        noisy_logits = (gumbel + logits_)/self.tau0\n",
    "        samples = K.softmax(noisy_logits)\n",
    "        samples = K.max(samples, axis = 1) \n",
    "        logits = tf.reshape(logits,[-1, d]) \n",
    "        threshold = tf.expand_dims(tf.nn.top_k(logits, self.k, sorted = True)[0][:,-1], -1)\n",
    "        discrete_logits = tf.cast(tf.greater_equal(logits,threshold),tf.float32)\n",
    "\n",
    "        output = K.in_train_phase(samples, discrete_logits) \n",
    "        return tf.expand_dims(output,-1)\n",
    "\n",
    "    def compute_output_shape(self, input_shape):\n",
    "        return input_shape\n",
    "\n",
    "def construct_gumbel_selector(X_ph, n_filters=32, n_dense_units=32):\n",
    "    \"\"\"\n",
    "    Build the L2X model for selection operator. \n",
    "\n",
    "    \"\"\"\n",
    "    first_layer = Conv2D(n_filters, (1, 3), padding='same', activation='relu', strides=1, name = 'conv1_gumbel')(X_ph)    \n",
    "\n",
    "    # global info\n",
    "    net_new = GlobalMaxPooling2D(name = 'new_global_max_pooling1d_1')(first_layer)\n",
    "    global_info = Dense(n_dense_units, name = 'new_dense_1', activation='relu')(net_new) \n",
    "\n",
    "    # local info\n",
    "    net = Conv2D(n_filters, (1, 3), padding='same', activation='relu', strides=1, name = 'conv2_gumbel')(first_layer) \n",
    "    local_info = Conv2D(n_filters, (1, 3), padding='same', activation='relu', strides=1, name = 'conv3_gumbel')(net)  \n",
    "    combined = Concatenate2D()([global_info,local_info]) \n",
    "    net = Dropout(0.2, name = 'new_dropout_2')(combined)\n",
    "    net = Conv2D(n_filters, (1, 1), padding='same', activation='relu', strides=1, name = 'conv_last_gumbel')(net)   \n",
    "\n",
    "    logits_T = Conv2D(1, (1, 1), padding='same', activation=None, strides=1, name = 'conv4_gumbel')(net)  \n",
    "\n",
    "    return logits_T\n",
    "\n",
    "\n",
    "def L2X(x_train, y_train, pred_train, x_val, y_val, pred_val, k=10, batch_size=32, epochs=5, hidden_dims=250): \n",
    "    \"\"\"\n",
    "    Generate scores on features on validation by L2X.\n",
    "\n",
    "    Train the L2X model with variational approaches \n",
    "    if train = True. \n",
    "\n",
    "    \"\"\"\n",
    "    \n",
    "    Mean1D = Lambda(lambda x, k=k: K.sum(x, axis = 1) / float(k), output_shape=lambda x: [x[0],x[2]]) \n",
    "\n",
    "    Mean2D = Lambda(lambda x, k=k: K.sum(x, axis = (1, 2)) / float(k), output_shape=lambda x: [x[0],x[3]]) \n",
    "    \n",
    "    print('Creating model...')\n",
    "\n",
    "    # P(S|X)\n",
    "    with tf.variable_scope('selection_model'):\n",
    "        X_ph = Input(shape=(x_train.shape[1], x_train.shape[2], x_train.shape[3]))\n",
    "\n",
    "        logits_T = construct_gumbel_selector(X_ph)\n",
    "        tau = 0.5\n",
    "        \n",
    "        #Extra code: Flatten 2D\n",
    "        orig_logits_T = logits_T\n",
    "        logits_T = Lambda(lambda x: K.reshape(x, (K.shape(x)[0], x_train.shape[1] * x_train.shape[2], 1)))(logits_T)\n",
    "        \n",
    "        T = Sample_Concrete(tau, k)(logits_T)\n",
    "        \n",
    "        #Extra code: Inflate 2D\n",
    "        T = Lambda(lambda x: K.reshape(x, (K.shape(x)[0], x_train.shape[1], x_train.shape[2], 1)))(T)\n",
    "\n",
    "    # q(X_S)\n",
    "    with tf.variable_scope('prediction_model'):\n",
    "        \n",
    "        #Same architecture as original predictor\n",
    "        net = Multiply()([X_ph, T])\n",
    "        res_1, res_2 = Lambda(lambda x: [x[:, 0, :81, :], x[:, 0, 81:, :]])(net)\n",
    "        gru_1 = Bidirectional(CuDNNGRU(64, return_sequences=False), merge_mode='concat')\n",
    "        dense_out_1 = gru_1(res_1)\n",
    "        dense_out_2 = gru_1(res_2)\n",
    "        layer_dense_pair_1 = Dense(128, activation='relu')\n",
    "        net = layer_dense_pair_1(Concatenate(axis=-1)([dense_out_1, dense_out_2]))\n",
    "        preds = Dense(pred_train.shape[1], activation='softmax', name = 'new_dense')(net)\n",
    "        \n",
    "        '''\n",
    "        #Default approximator\n",
    "        \n",
    "        net = Mean2D(Multiply()([X_ph, T]))\n",
    "        net = Dense(hidden_dims)(net)\n",
    "        net = Dropout(0.2)(net)\n",
    "        net = Activation('relu')(net) \n",
    "        preds = Dense(pred_train.shape[1], activation='softmax', name = 'new_dense')(net)\n",
    "        '''\n",
    "\n",
    "\n",
    "    model = Model(inputs=X_ph, outputs=preds)\n",
    "\n",
    "    model.compile(loss='categorical_crossentropy', optimizer='rmsprop', metrics=['acc']) \n",
    "    train_acc = np.mean(np.argmax(pred_train, axis = 1)==np.argmax(y_train, axis = 1))\n",
    "    val_acc = np.mean(np.argmax(pred_val, axis = 1)==np.argmax(y_val, axis = 1))\n",
    "    print('The train and validation accuracy of the original model is {} and {}'.format(train_acc, val_acc))\n",
    "\n",
    "    print(model.summary())\n",
    "    \n",
    "    model.load_weights('saved_models/l2x.hdf5', by_name=True) \n",
    "    \n",
    "    checkpoint = ModelCheckpoint(\"saved_models/l2x_longer_train.hdf5\", monitor='val_acc', verbose=1, save_best_only=True, mode='max')\n",
    "    model.fit(x_train, pred_train, \n",
    "        validation_data=(x_val, pred_val), \n",
    "        callbacks=[checkpoint],\n",
    "        epochs=epochs, batch_size=batch_size\n",
    "    )\n",
    "\n",
    "    model.load_weights('saved_models/l2x_longer_train.hdf5', by_name=True) \n",
    "\n",
    "    pred_model = Model([X_ph], [orig_logits_T, preds])\n",
    "    pred_model.compile(loss='categorical_crossentropy', optimizer='adam', metrics=['acc'])\n",
    "    \n",
    "    pred_model.load_weights('saved_models/l2x_longer_train.hdf5', by_name=True) \n",
    "\n",
    "    scores, q = pred_model.predict(x_val, verbose=1, batch_size=batch_size)\n",
    "    \n",
    "    return scores, q\n"
   ]
  },
  {
   "cell_type": "code",
   "execution_count": 15,
   "metadata": {},
   "outputs": [],
   "source": [
    "#Concatenate input binder pairs\n",
    "\n",
    "x_train = np.concatenate([x_1_train, x_2_train], axis=2)\n",
    "x_test = np.concatenate([x_1_test, x_2_test], axis=2)\n"
   ]
  },
  {
   "cell_type": "code",
   "execution_count": 19,
   "metadata": {
    "scrolled": true
   },
   "outputs": [
    {
     "name": "stdout",
     "output_type": "stream",
     "text": [
      "Creating model...\n",
      "The train and validation accuracy of the original model is 0.8641 and 0.7416666666666667\n",
      "__________________________________________________________________________________________________\n",
      "Layer (type)                    Output Shape         Param #     Connected to                     \n",
      "==================================================================================================\n",
      "input_4 (InputLayer)            (None, 1, 162, 20)   0                                            \n",
      "__________________________________________________________________________________________________\n",
      "conv1_gumbel (Conv2D)           (None, 1, 162, 32)   1952        input_4[0][0]                    \n",
      "__________________________________________________________________________________________________\n",
      "new_global_max_pooling1d_1 (Glo (None, 32)           0           conv1_gumbel[0][0]               \n",
      "__________________________________________________________________________________________________\n",
      "conv2_gumbel (Conv2D)           (None, 1, 162, 32)   3104        conv1_gumbel[0][0]               \n",
      "__________________________________________________________________________________________________\n",
      "new_dense_1 (Dense)             (None, 32)           1056        new_global_max_pooling1d_1[0][0] \n",
      "__________________________________________________________________________________________________\n",
      "conv3_gumbel (Conv2D)           (None, 1, 162, 32)   3104        conv2_gumbel[0][0]               \n",
      "__________________________________________________________________________________________________\n",
      "concatenate2d_1 (Concatenate2D) (None, 1, 162, 64)   0           new_dense_1[0][0]                \n",
      "                                                                 conv3_gumbel[0][0]               \n",
      "__________________________________________________________________________________________________\n",
      "new_dropout_2 (Dropout)         (None, 1, 162, 64)   0           concatenate2d_1[0][0]            \n",
      "__________________________________________________________________________________________________\n",
      "conv_last_gumbel (Conv2D)       (None, 1, 162, 32)   2080        new_dropout_2[0][0]              \n",
      "__________________________________________________________________________________________________\n",
      "conv4_gumbel (Conv2D)           (None, 1, 162, 1)    33          conv_last_gumbel[0][0]           \n",
      "__________________________________________________________________________________________________\n",
      "lambda_3 (Lambda)               (None, 162, 1)       0           conv4_gumbel[0][0]               \n",
      "__________________________________________________________________________________________________\n",
      "sample__concrete_1 (Sample_Conc (None, 162, 1)       0           lambda_3[0][0]                   \n",
      "__________________________________________________________________________________________________\n",
      "lambda_4 (Lambda)               (None, 1, 162, 1)    0           sample__concrete_1[0][0]         \n",
      "__________________________________________________________________________________________________\n",
      "multiply_1 (Multiply)           (None, 1, 162, 20)   0           input_4[0][0]                    \n",
      "                                                                 lambda_4[0][0]                   \n",
      "__________________________________________________________________________________________________\n",
      "lambda_5 (Lambda)               [(None, 81, 20), (No 0           multiply_1[0][0]                 \n",
      "__________________________________________________________________________________________________\n",
      "bidirectional_2 (Bidirectional) (None, 128)          33024       lambda_5[0][0]                   \n",
      "                                                                 lambda_5[0][1]                   \n",
      "__________________________________________________________________________________________________\n",
      "concatenate_2 (Concatenate)     (None, 256)          0           bidirectional_2[0][0]            \n",
      "                                                                 bidirectional_2[1][0]            \n",
      "__________________________________________________________________________________________________\n",
      "dense_3 (Dense)                 (None, 128)          32896       concatenate_2[0][0]              \n",
      "__________________________________________________________________________________________________\n",
      "new_dense (Dense)               (None, 2)            258         dense_3[0][0]                    \n",
      "==================================================================================================\n",
      "Total params: 77,507\n",
      "Trainable params: 77,507\n",
      "Non-trainable params: 0\n",
      "__________________________________________________________________________________________________\n",
      "None\n",
      "480/480 [==============================] - 2s 4ms/step\n"
     ]
    }
   ],
   "source": [
    "#Execute L2X\n",
    "\n",
    "k = int(np.ceil(0.1 * seq_length * 2))\n",
    "batch_size = 32\n",
    "hidden_dims = 64\n",
    "epochs = 25\n",
    "\n",
    "importance_scores_test, q_test = L2X(\n",
    "    x_train,\n",
    "    y_train,\n",
    "    pred_train,\n",
    "    x_test,\n",
    "    y_test,\n",
    "    pred_test,\n",
    "    k=k,\n",
    "    batch_size=batch_size,\n",
    "    epochs=epochs,\n",
    "    hidden_dims=hidden_dims\n",
    ")\n",
    "\n",
    "importance_scores_1_test, importance_scores_2_test = importance_scores_test[:, :, :seq_length, :], importance_scores_test[:, :, seq_length:, :]\n"
   ]
  },
  {
   "cell_type": "code",
   "execution_count": 16,
   "metadata": {
    "scrolled": false
   },
   "outputs": [],
   "source": [
    "#Gradient saliency/backprop visualization\n",
    "\n",
    "import matplotlib.collections as collections\n",
    "import operator\n",
    "import matplotlib.pyplot as plt\n",
    "\n",
    "import matplotlib.cm as cm\n",
    "import matplotlib.colors as colors\n",
    "\n",
    "import matplotlib as mpl\n",
    "from matplotlib.text import TextPath\n",
    "from matplotlib.patches import PathPatch, Rectangle\n",
    "from matplotlib.font_manager import FontProperties\n",
    "from matplotlib import gridspec\n",
    "from matplotlib.ticker import FormatStrFormatter\n",
    "\n",
    "def plot_protein_logo(residue_map, pwm, sequence_template=None, figsize=(12, 3), logo_height=1.0, plot_start=0, plot_end=164) :\n",
    "\n",
    "    inv_residue_map = {\n",
    "        i : sp for sp, i in residue_map.items()\n",
    "    }\n",
    "\n",
    "    #Slice according to seq trim index\n",
    "    pwm = pwm[plot_start: plot_end, :]\n",
    "    sequence_template = sequence_template[plot_start: plot_end]\n",
    "\n",
    "    entropy = np.zeros(pwm.shape)\n",
    "    entropy[pwm > 0] = pwm[pwm > 0] * -np.log2(np.clip(pwm[pwm > 0], 1e-6, 1. - 1e-6))\n",
    "    entropy = np.sum(entropy, axis=1)\n",
    "    conservation = np.log2(len(residue_map)) - entropy#2 - entropy\n",
    "\n",
    "    fig = plt.figure(figsize=figsize)\n",
    "\n",
    "    ax = plt.gca()\n",
    "    \n",
    "    height_base = (1.0 - logo_height) / 2.\n",
    "\n",
    "    for j in range(0, pwm.shape[0]) :\n",
    "        sort_index = np.argsort(pwm[j, :])\n",
    "\n",
    "        for ii in range(0, len(residue_map)) :\n",
    "            i = sort_index[ii]\n",
    "            \n",
    "            if pwm[j, i] > 0 :\n",
    "                nt_prob = pwm[j, i] * conservation[j]\n",
    "\n",
    "                nt = inv_residue_map[i]\n",
    "\n",
    "                color = None\n",
    "                if sequence_template[j] != '$' :\n",
    "                    color = 'black'\n",
    "\n",
    "                if ii == 0 :\n",
    "                    letterAt_protein(nt, j + 0.5, height_base, nt_prob * logo_height, ax, color=color)\n",
    "                else :\n",
    "                    prev_prob = np.sum(pwm[j, sort_index[:ii]] * conservation[j]) * logo_height\n",
    "                    letterAt_protein(nt, j + 0.5, height_base + prev_prob, nt_prob * logo_height, ax, color=color)\n",
    "\n",
    "    plt.xlim((0, plot_end - plot_start))\n",
    "    plt.ylim((0, np.log2(len(residue_map))))\n",
    "    plt.xticks([], [])\n",
    "    plt.yticks([], [])\n",
    "    plt.axis('off')\n",
    "    plt.axhline(y=0.01 + height_base, color='black', linestyle='-', linewidth=2)\n",
    "\n",
    "\n",
    "    for axis in fig.axes :\n",
    "        axis.get_xaxis().set_visible(False)\n",
    "        axis.get_yaxis().set_visible(False)\n",
    "\n",
    "    plt.tight_layout()\n",
    "\n",
    "    plt.show()\n",
    "\n",
    "def plot_importance_scores(importance_scores, ref_seq, figsize=(12, 2), score_clip=None, sequence_template='', plot_start=0, plot_end=96, save_figs=False, fig_name=None) :\n",
    "\n",
    "    end_pos = ref_seq.find(\"#\")\n",
    "    \n",
    "    fig = plt.figure(figsize=figsize)\n",
    "    \n",
    "    ax = plt.gca()\n",
    "    \n",
    "    if score_clip is not None :\n",
    "        importance_scores = np.clip(np.copy(importance_scores), -score_clip, score_clip)\n",
    "    \n",
    "    max_score = np.max(np.sum(importance_scores[:, :], axis=0)) + 0.01\n",
    "\n",
    "    for i in range(0, len(ref_seq)) :\n",
    "        mutability_score = np.sum(importance_scores[:, i])\n",
    "        letterAt_protein(ref_seq[i], i + 0.5, 0, mutability_score, ax, color=None)\n",
    "\n",
    "    plt.sca(ax)\n",
    "    plt.xlim((0, len(ref_seq)))\n",
    "    plt.ylim((0, max_score))\n",
    "    plt.axis('off')\n",
    "    plt.yticks([0.0, max_score], [0.0, max_score], fontsize=16)\n",
    "    \n",
    "    for axis in fig.axes :\n",
    "        axis.get_xaxis().set_visible(False)\n",
    "        axis.get_yaxis().set_visible(False)\n",
    "    \n",
    "    plt.tight_layout()\n",
    "\n",
    "    if save_figs :\n",
    "        plt.savefig(fig_name + \".png\", transparent=True, dpi=300)\n",
    "        plt.savefig(fig_name + \".eps\")\n",
    "\n",
    "    plt.show()\n"
   ]
  },
  {
   "cell_type": "code",
   "execution_count": 21,
   "metadata": {
    "scrolled": true
   },
   "outputs": [
    {
     "name": "stdout",
     "output_type": "stream",
     "text": [
      "Test sequence 0:\n"
     ]
    },
    {
     "data": {
      "image/png": "[encoded data removed]",
      "text/plain": [
       "<Figure size 864x72 with 1 Axes>"
      ]
     },
     "metadata": {},
     "output_type": "display_data"
    },
    {
     "data": {
      "image/png": "[encoded data removed]",
      "text/plain": [
       "<Figure size 864x72 with 1 Axes>"
      ]
     },
     "metadata": {},
     "output_type": "display_data"
    },
    {
     "name": "stdout",
     "output_type": "stream",
     "text": [
      "Test sequence 1:\n"
     ]
    },
    {
     "data": {
      "image/png": "[encoded data removed]",
      "text/plain": [
       "<Figure size 864x72 with 1 Axes>"
      ]
     },
     "metadata": {},
     "output_type": "display_data"
    },
    {
     "data": {
      "image/png": "[encoded data removed]",
      "text/plain": [
       "<Figure size 864x72 with 1 Axes>"
      ]
     },
     "metadata": {},
     "output_type": "display_data"
    },
    {
     "name": "stdout",
     "output_type": "stream",
     "text": [
      "Test sequence 2:\n"
     ]
    },
    {
     "data": {
      "image/png": "[encoded data removed]",
      "text/plain": [
       "<Figure size 864x72 with 1 Axes>"
      ]
     },
     "metadata": {},
     "output_type": "display_data"
    },
    {
     "data": {
      "image/png": "[encoded data removed]",
      "text/plain": [
       "<Figure size 864x72 with 1 Axes>"
      ]
     },
     "metadata": {},
     "output_type": "display_data"
    },
    {
     "name": "stdout",
     "output_type": "stream",
     "text": [
      "Test sequence 3:\n"
     ]
    },
    {
     "data": {
      "image/png": "[encoded data removed]",
      "text/plain": [
       "<Figure size 864x72 with 1 Axes>"
      ]
     },
     "metadata": {},
     "output_type": "display_data"
    },
    {
     "data": {
      "image/png": "[encoded data removed]",
      "text/plain": [
       "<Figure size 864x72 with 1 Axes>"
      ]
     },
     "metadata": {},
     "output_type": "display_data"
    },
    {
     "name": "stdout",
     "output_type": "stream",
     "text": [
      "Test sequence 4:\n"
     ]
    },
    {
     "data": {
      "image/png": "[encoded data removed]",
      "text/plain": [
       "<Figure size 864x72 with 1 Axes>"
      ]
     },
     "metadata": {},
     "output_type": "display_data"
    },
    {
     "data": {
      "image/png": "[encoded data removed]",
      "text/plain": [
       "<Figure size 864x72 with 1 Axes>"
      ]
     },
     "metadata": {},
     "output_type": "display_data"
    },
    {
     "name": "stdout",
     "output_type": "stream",
     "text": [
      "Test sequence 0:\n"
     ]
    },
    {
     "data": {
      "image/png": "[encoded data removed]",
      "text/plain": [
       "<Figure size 864x72 with 1 Axes>"
      ]
     },
     "metadata": {},
     "output_type": "display_data"
    },
    {
     "data": {
      "image/png": "[encoded data removed]",
      "text/plain": [
       "<Figure size 864x72 with 1 Axes>"
      ]
     },
     "metadata": {},
     "output_type": "display_data"
    },
    {
     "name": "stdout",
     "output_type": "stream",
     "text": [
      "Test sequence 1:\n"
     ]
    },
    {
     "data": {
      "image/png": "[encoded data removed]",
      "text/plain": [
       "<Figure size 864x72 with 1 Axes>"
      ]
     },
     "metadata": {},
     "output_type": "display_data"
    },
    {
     "data": {
      "image/png": "[encoded data removed]",
      "text/plain": [
       "<Figure size 864x72 with 1 Axes>"
      ]
     },
     "metadata": {},
     "output_type": "display_data"
    },
    {
     "name": "stdout",
     "output_type": "stream",
     "text": [
      "Test sequence 2:\n"
     ]
    },
    {
     "data": {
      "image/png": "[encoded data removed]",
      "text/plain": [
       "<Figure size 864x72 with 1 Axes>"
      ]
     },
     "metadata": {},
     "output_type": "display_data"
    },
    {
     "data": {
      "image/png": "[encoded data removed]",
      "text/plain": [
       "<Figure size 864x72 with 1 Axes>"
      ]
     },
     "metadata": {},
     "output_type": "display_data"
    },
    {
     "name": "stdout",
     "output_type": "stream",
     "text": [
      "Test sequence 3:\n"
     ]
    },
    {
     "data": {
      "image/png": "[encoded data removed]",
      "text/plain": [
       "<Figure size 864x72 with 1 Axes>"
      ]
     },
     "metadata": {},
     "output_type": "display_data"
    },
    {
     "data": {
      "image/png": "[encoded data removed]",
      "text/plain": [
       "<Figure size 864x72 with 1 Axes>"
      ]
     },
     "metadata": {},
     "output_type": "display_data"
    },
    {
     "name": "stdout",
     "output_type": "stream",
     "text": [
      "Test sequence 4:\n"
     ]
    },
    {
     "data": {
      "image/png": "[encoded data removed]",
      "text/plain": [
       "<Figure size 864x72 with 1 Axes>"
      ]
     },
     "metadata": {},
     "output_type": "display_data"
    },
    {
     "data": {
      "image/png": "[encoded data removed]",
      "text/plain": [
       "<Figure size 864x72 with 1 Axes>"
      ]
     },
     "metadata": {},
     "output_type": "display_data"
    }
   ],
   "source": [
    "#Visualize importance for binder 1\n",
    "\n",
    "for plot_i in range(0, 5) :\n",
    "\n",
    "    print(\"Test sequence \" + str(plot_i) + \":\")\n",
    "    \n",
    "    sequence_template = sequence_templates[l_1_test[plot_i, 0]]\n",
    "\n",
    "    plot_protein_logo(residue_map, x_1_test[plot_i, 0, :, :], sequence_template=sequence_template, figsize=(12, 1), plot_start=0, plot_end=81)\n",
    "    plot_importance_scores(np.maximum(importance_scores_1_test[plot_i, 0, :, :].T, 0.), encoder.decode(x_1_test[plot_i, 0, :, :]), figsize=(12, 1), score_clip=None, sequence_template=sequence_template, plot_start=0, plot_end=81)\n",
    "\n",
    "#Visualize importance for binder 2\n",
    "\n",
    "for plot_i in range(0, 5) :\n",
    "\n",
    "    print(\"Test sequence \" + str(plot_i) + \":\")\n",
    "    \n",
    "    sequence_template = sequence_templates[l_2_test[plot_i, 0]]\n",
    "\n",
    "    plot_protein_logo(residue_map, x_2_test[plot_i, 0, :, :], sequence_template=sequence_template, figsize=(12, 1), plot_start=0, plot_end=81)\n",
    "    plot_importance_scores(np.maximum(importance_scores_2_test[plot_i, 0, :, :].T, 0.), encoder.decode(x_2_test[plot_i, 0, :, :]), figsize=(12, 1), score_clip=None, sequence_template=sequence_template, plot_start=0, plot_end=81)\n"
   ]
  },
  {
   "cell_type": "code",
   "execution_count": 23,
   "metadata": {},
   "outputs": [],
   "source": [
    "#Save predicted importance scores\n",
    "\n",
    "model_name = \"l2x_\" + dataset_name + \"_zeropad_rnn\"\n",
    "\n",
    "np.save(model_name + \"_importance_scores_1_test\", importance_scores_1_test)\n",
    "np.save(model_name + \"_importance_scores_2_test\", importance_scores_2_test)\n"
   ]
  },
  {
   "cell_type": "code",
   "execution_count": 17,
   "metadata": {},
   "outputs": [
    {
     "name": "stdout",
     "output_type": "stream",
     "text": [
      "Seq 1 = TAEELLEVHKKSDRVTKEHLRVSEEILKVVEVLTRGEVSSEVLKRVLRKLEELTDKLRRVTEEQRRVVEKLN\n",
      "Seq 2 = DLEDLLRRLRRLVDEQRRLVEELERVSRRLEKAVRDNEDERELARLSREHSDIQDKHDKLAREILEVLKRLLERTE\n",
      "Predicted interaction prob = 0.8533\n"
     ]
    }
   ],
   "source": [
    "#Binder DHD_154\n",
    "\n",
    "seq_1 = \"TAEELLEVHKKSDRVTKEHLRVSEEILKVVEVLTRGEVSSEVLKRVLRKLEELTDKLRRVTEEQRRVVEKLN\"[:81]\n",
    "seq_2 = \"DLEDLLRRLRRLVDEQRRLVEELERVSRRLEKAVRDNEDERELARLSREHSDIQDKHDKLAREILEVLKRLLERTE\"[:81]\n",
    "\n",
    "print(\"Seq 1 = \" + seq_1)\n",
    "print(\"Seq 2 = \" + seq_2)\n",
    "\n",
    "encoder = IdentityEncoder(81, residue_map)\n",
    "\n",
    "test_onehot_1 = np.tile(np.expand_dims(np.expand_dims(encoder(seq_1), axis=0), axis=0), (batch_size, 1, 1, 1))\n",
    "test_onehot_2 = np.tile(np.expand_dims(np.expand_dims(encoder(seq_2), axis=0), axis=0), (batch_size, 1, 1, 1))\n",
    "\n",
    "test_len_1 = np.tile(np.array([[len(seq_1)]]), (batch_size, 1))\n",
    "test_len_2 = np.tile(np.array([[len(seq_2)]]), (batch_size, 1))\n",
    "\n",
    "pred_interacts = predictor.predict(x=[test_onehot_1[:, 0, ...], test_onehot_2[:, 0, ...]])[0, 0]\n",
    "\n",
    "print(\"Predicted interaction prob = \" + str(round(pred_interacts, 4)))\n"
   ]
  },
  {
   "cell_type": "code",
   "execution_count": 25,
   "metadata": {
    "scrolled": true
   },
   "outputs": [
    {
     "name": "stdout",
     "output_type": "stream",
     "text": [
      "Creating model...\n",
      "The train and validation accuracy of the original model is 1.0 and 1.0\n",
      "__________________________________________________________________________________________________\n",
      "Layer (type)                    Output Shape         Param #     Connected to                     \n",
      "==================================================================================================\n",
      "input_6 (InputLayer)            (None, 1, 162, 20)   0                                            \n",
      "__________________________________________________________________________________________________\n",
      "conv1_gumbel (Conv2D)           (None, 1, 162, 32)   1952        input_6[0][0]                    \n",
      "__________________________________________________________________________________________________\n",
      "new_global_max_pooling1d_1 (Glo (None, 32)           0           conv1_gumbel[0][0]               \n",
      "__________________________________________________________________________________________________\n",
      "conv2_gumbel (Conv2D)           (None, 1, 162, 32)   3104        conv1_gumbel[0][0]               \n",
      "__________________________________________________________________________________________________\n",
      "new_dense_1 (Dense)             (None, 32)           1056        new_global_max_pooling1d_1[0][0] \n",
      "__________________________________________________________________________________________________\n",
      "conv3_gumbel (Conv2D)           (None, 1, 162, 32)   3104        conv2_gumbel[0][0]               \n",
      "__________________________________________________________________________________________________\n",
      "concatenate2d_3 (Concatenate2D) (None, 1, 162, 64)   0           new_dense_1[0][0]                \n",
      "                                                                 conv3_gumbel[0][0]               \n",
      "__________________________________________________________________________________________________\n",
      "new_dropout_2 (Dropout)         (None, 1, 162, 64)   0           concatenate2d_3[0][0]            \n",
      "__________________________________________________________________________________________________\n",
      "conv_last_gumbel (Conv2D)       (None, 1, 162, 32)   2080        new_dropout_2[0][0]              \n",
      "__________________________________________________________________________________________________\n",
      "conv4_gumbel (Conv2D)           (None, 1, 162, 1)    33          conv_last_gumbel[0][0]           \n",
      "__________________________________________________________________________________________________\n",
      "lambda_13 (Lambda)              (None, 162, 1)       0           conv4_gumbel[0][0]               \n",
      "__________________________________________________________________________________________________\n",
      "sample__concrete_3 (Sample_Conc (None, 162, 1)       0           lambda_13[0][0]                  \n",
      "__________________________________________________________________________________________________\n",
      "lambda_14 (Lambda)              (None, 1, 162, 1)    0           sample__concrete_3[0][0]         \n",
      "__________________________________________________________________________________________________\n",
      "multiply_3 (Multiply)           (None, 1, 162, 20)   0           input_6[0][0]                    \n",
      "                                                                 lambda_14[0][0]                  \n",
      "__________________________________________________________________________________________________\n",
      "lambda_15 (Lambda)              [(None, 81, 20), (No 0           multiply_3[0][0]                 \n",
      "__________________________________________________________________________________________________\n",
      "bidirectional_4 (Bidirectional) (None, 128)          33024       lambda_15[0][0]                  \n",
      "                                                                 lambda_15[0][1]                  \n",
      "__________________________________________________________________________________________________\n",
      "concatenate_4 (Concatenate)     (None, 256)          0           bidirectional_4[0][0]            \n",
      "                                                                 bidirectional_4[1][0]            \n",
      "__________________________________________________________________________________________________\n",
      "dense_5 (Dense)                 (None, 128)          32896       concatenate_4[0][0]              \n",
      "__________________________________________________________________________________________________\n",
      "new_dense (Dense)               (None, 2)            258         dense_5[0][0]                    \n",
      "==================================================================================================\n",
      "Total params: 77,507\n",
      "Trainable params: 77,507\n",
      "Non-trainable params: 0\n",
      "__________________________________________________________________________________________________\n",
      "None\n",
      "1/1 [==============================] - 0s 351ms/step\n"
     ]
    }
   ],
   "source": [
    "\n",
    "x_1_test = test_onehot_1[:1]\n",
    "x_2_test = test_onehot_2[:1]\n",
    "\n",
    "#Concatenate input binder pairs\n",
    "\n",
    "x_test = np.concatenate([x_1_test, x_2_test], axis=2)\n",
    "\n",
    "#Execute L2X\n",
    "\n",
    "k = int(np.ceil(0.1 * seq_length * 2))\n",
    "batch_size = 32\n",
    "hidden_dims = 64\n",
    "epochs = 25\n",
    "\n",
    "importance_scores_test, q_test = L2X(\n",
    "    x_test,\n",
    "    np.zeros((1, 2)),\n",
    "    np.zeros((1, 2)),\n",
    "    x_test,\n",
    "    np.zeros((1, 2)),\n",
    "    np.zeros((1, 2)),\n",
    "    k=k,\n",
    "    batch_size=1,\n",
    "    epochs=epochs,\n",
    "    hidden_dims=hidden_dims\n",
    ")\n",
    "\n",
    "importance_scores_1_test, importance_scores_2_test = importance_scores_test[:, :, :seq_length, :], importance_scores_test[:, :, seq_length:, :]\n"
   ]
  },
  {
   "cell_type": "code",
   "execution_count": 28,
   "metadata": {},
   "outputs": [
    {
     "name": "stdout",
     "output_type": "stream",
     "text": [
      "Test sequence 0:\n"
     ]
    },
    {
     "data": {
      "image/png": "[encoded data removed]",
      "text/plain": [
       "<Figure size 864x72 with 1 Axes>"
      ]
     },
     "metadata": {},
     "output_type": "display_data"
    },
    {
     "data": {
      "image/png": "[encoded data removed]",
      "text/plain": [
       "<Figure size 864x72 with 1 Axes>"
      ]
     },
     "metadata": {},
     "output_type": "display_data"
    },
    {
     "name": "stdout",
     "output_type": "stream",
     "text": [
      "Test sequence 0:\n"
     ]
    },
    {
     "data": {
      "image/png": "[encoded data removed]",
      "text/plain": [
       "<Figure size 864x72 with 1 Axes>"
      ]
     },
     "metadata": {},
     "output_type": "display_data"
    },
    {
     "data": {
      "image/png": "[encoded data removed]",
      "text/plain": [
       "<Figure size 864x72 with 1 Axes>"
      ]
     },
     "metadata": {},
     "output_type": "display_data"
    }
   ],
   "source": [
    "\n",
    "save_figs = True\n",
    "\n",
    "model_name = \"l2x_\" + dataset_name + \"_zeropad_rnn\"\n",
    "\n",
    "pair_name = \"DHD_154\"\n",
    "\n",
    "#Visualize importance for binder 1\n",
    "\n",
    "for plot_i in range(0, 1) :\n",
    "\n",
    "    print(\"Test sequence \" + str(plot_i) + \":\")\n",
    "    \n",
    "    sequence_template = sequence_templates[l_1_test[plot_i, 0]]\n",
    "\n",
    "    plot_protein_logo(residue_map, x_1_test[plot_i, 0, :, :], sequence_template=sequence_template, figsize=(12, 1), plot_start=0, plot_end=81)\n",
    "    plot_importance_scores(np.maximum(importance_scores_1_test[plot_i, 0, :, :].T, 0.), encoder.decode(x_1_test[plot_i, 0, :, :]), figsize=(12, 1), score_clip=None, sequence_template=sequence_template, plot_start=0, plot_end=81, save_figs=save_figs, fig_name=model_name + \"_scores_\" + pair_name + \"_binder_1\")\n",
    "\n",
    "#Visualize importance for binder 2\n",
    "\n",
    "for plot_i in range(0, 1) :\n",
    "\n",
    "    print(\"Test sequence \" + str(plot_i) + \":\")\n",
    "    \n",
    "    sequence_template = sequence_templates[l_2_test[plot_i, 0]]\n",
    "\n",
    "    plot_protein_logo(residue_map, x_2_test[plot_i, 0, :, :], sequence_template=sequence_template, figsize=(12, 1), plot_start=0, plot_end=81)\n",
    "    plot_importance_scores(np.maximum(importance_scores_2_test[plot_i, 0, :, :].T, 0.), encoder.decode(x_2_test[plot_i, 0, :, :]), figsize=(12, 1), score_clip=None, sequence_template=sequence_template, plot_start=0, plot_end=81, save_figs=save_figs, fig_name=model_name + \"_scores_\" + pair_name + \"_binder_2\")\n"
   ]
  },
  {
   "cell_type": "code",
   "execution_count": null,
   "metadata": {},
   "outputs": [],
   "source": []
  }
 ],
 "metadata": {
  "kernelspec": {
   "display_name": "Environment (conda_tensorflow_p36)",
   "language": "python",
   "name": "conda_tensorflow_p36"
  },
  "language_info": {
   "codemirror_mode": {
    "name": "ipython",
    "version": 3
   },
   "file_extension": ".py",
   "mimetype": "text/x-python",
   "name": "python",
   "nbconvert_exporter": "python",
   "pygments_lexer": "ipython3",
   "version": "3.6.5"
  }
 },
 "nbformat": 4,
 "nbformat_minor": 2
}
