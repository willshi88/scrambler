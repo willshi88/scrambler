{
 "cells": [
  {
   "cell_type": "code",
   "execution_count": 1,
   "metadata": {},
   "outputs": [
    {
     "name": "stderr",
     "output_type": "stream",
     "text": [
      "INFO:pyrosetta.rosetta:Found rosetta database at: /home/jlinder2/anaconda3/envs/tensorflow/lib/python3.6/site-packages/pyrosetta-2017-py3.6-linux-x86_64.egg/pyrosetta/database; using it....\n",
      "INFO:pyrosetta.rosetta:PyRosetta-4 2019 [Rosetta PyRosetta4.Release.python36.linux 2019.04+release.fd666910a5edac957383b32b3b4c9d10020f34c1 2019-01-22T15:55:37] retrieved from: http://www.pyrosetta.org\n",
      "(C) Copyright Rosetta Commons Member Institutions.\n",
      "Created in JHU by Sergey Lyskov and PyRosetta Team.\n",
      "\n",
      "INFO:rosetta:\u001b[0mcore.init: \u001b[0mChecking for fconfig files in pwd and ./rosetta/flags\n",
      "INFO:rosetta:\u001b[0mcore.init: \u001b[0mRosetta version: PyRosetta4.Release.python36.linux r208 2019.04+release.fd66691 fd666910a5edac957383b32b3b4c9d10020f34c1 http://www.pyrosetta.org 2019-01-22T15:55:37\n",
      "INFO:rosetta:\u001b[0mcore.init: \u001b[0mcommand: PyRosetta -ex1 -ex2aro -database /home/jlinder2/anaconda3/envs/tensorflow/lib/python3.6/site-packages/pyrosetta-2017-py3.6-linux-x86_64.egg/pyrosetta/database\n",
      "INFO:rosetta:\u001b[0mcore.init: \u001b[0m'RNG device' seed mode, using '/dev/urandom', seed=-1089040358 seed_offset=0 real_seed=-1089040358\n",
      "INFO:rosetta:\u001b[0mcore.init.random: \u001b[0mRandomGenerator:init: Normal mode, seed=-1089040358 RG_type=mt19937\n"
     ]
    }
   ],
   "source": [
    "#comparing relaxed, not relaxed, repack input True and repack input False \n",
    "#using Pool to speed things up to be less awful \n",
    "#adapting the multiprocessing supported pyrosetta scripts to run single mutation scan across all of a protein \n",
    "\n",
    "import logging\n",
    "logging.basicConfig(level=logging.INFO)\n",
    "import pandas\n",
    "import seaborn\n",
    "import matplotlib\n",
    "import Bio.SeqUtils\n",
    "import Bio.Data.IUPACData as IUPACData\n",
    "import pyrosetta\n",
    "import pyrosetta.distributed.io as io\n",
    "import pyrosetta.distributed.packed_pose as dist_packed_pose\n",
    "import pyrosetta.distributed.tasks.rosetta_scripts as dist_rosetta_scripts\n",
    "import pyrosetta.distributed.tasks.score as dist_score\n",
    "\n",
    "from multiprocessing import Pool\n",
    "import itertools\n",
    "import pandas as pd\n",
    "\n",
    "        \n",
    "import dask.distributed\n",
    "import numpy as np\n",
    "\n",
    "from pyrosetta import *\n",
    "import random\n",
    "from pyrosetta.toolbox import cleanATOM\n",
    "from pyrosetta.rosetta.protocols.relax import FastRelax\n",
    "from pyrosetta.rosetta.core.pack.task import *\n",
    "from pyrosetta.rosetta.protocols import *\n",
    "from pyrosetta.rosetta.core.select import *\n",
    "\n",
    "\n",
    "import math\n",
    "import time\n",
    "from scipy.stats import pearsonr\n",
    "import matplotlib.pyplot as plt\n",
    "\n",
    "pyrosetta.init()"
   ]
  },
  {
   "cell_type": "code",
   "execution_count": 2,
   "metadata": {},
   "outputs": [
    {
     "data": {
      "text/html": [
       "<style>.container { width:100% !important; }</style>"
      ],
      "text/plain": [
       "<IPython.core.display.HTML object>"
      ]
     },
     "metadata": {},
     "output_type": "display_data"
    }
   ],
   "source": [
    "#wider jupyter cells\n",
    "from IPython.core.display import display, HTML\n",
    "display(HTML(\"<style>.container { width:100% !important; }</style>\"))"
   ]
  },
  {
   "cell_type": "code",
   "execution_count": 8,
   "metadata": {},
   "outputs": [],
   "source": [
    "#functions for mutation, unbinding and dG\n",
    "#10/30/20- changing so that it does not repack \n",
    "\n",
    "#my version - mutate a position to Alanine \n",
    "#code adapted from PyRosetta tutorials \n",
    "def pack(pose, strRep, amino, scorefxn):\n",
    "\n",
    "    # Select Mutate Position\n",
    "    mut_posi = pyrosetta.rosetta.core.select.residue_selector.ResidueIndexSelector()\n",
    "    mut_posi.set_index(strRep)\n",
    "    # print(pyrosetta.rosetta.core.select.get_residues_from_subset(mut_posi.apply(pose)))\n",
    "\n",
    "    # Select Neighbor Position\n",
    "    nbr_selector = pyrosetta.rosetta.core.select.residue_selector.NeighborhoodResidueSelector()\n",
    "    nbr_selector.set_focus_selector(mut_posi)\n",
    "    nbr_selector.set_include_focus_in_subset(True)\n",
    "    # print(pyrosetta.rosetta.core.select.get_residues_from_subset(nbr_selector.apply(pose)))\n",
    "\n",
    "    # Select No Design Area\n",
    "    not_design = pyrosetta.rosetta.core.select.residue_selector.NotResidueSelector(mut_posi)\n",
    "    # print(pyrosetta.rosetta.core.select.get_residues_from_subset(not_design.apply(pose)))\n",
    "\n",
    "    # The task factory accepts all the task operations\n",
    "    tf = pyrosetta.rosetta.core.pack.task.TaskFactory()\n",
    "\n",
    "    # These are pretty standard\n",
    "    tf.push_back(pyrosetta.rosetta.core.pack.task.operation.InitializeFromCommandline())\n",
    "    tf.push_back(pyrosetta.rosetta.core.pack.task.operation.IncludeCurrent())\n",
    "    tf.push_back(pyrosetta.rosetta.core.pack.task.operation.NoRepackDisulfides())\n",
    "\n",
    "    # Disable Packing\n",
    "    prevent_repacking_rlt = pyrosetta.rosetta.core.pack.task.operation.PreventRepackingRLT()\n",
    "    prevent_subset_repacking = pyrosetta.rosetta.core.pack.task.operation.OperateOnResidueSubset(prevent_repacking_rlt,\n",
    "                                                                                                 nbr_selector, True)\n",
    "    tf.push_back(prevent_subset_repacking)\n",
    "\n",
    "    # Disable design\n",
    "    tf.push_back(pyrosetta.rosetta.core.pack.task.operation.OperateOnResidueSubset(\n",
    "        pyrosetta.rosetta.core.pack.task.operation.RestrictToRepackingRLT(), not_design))\n",
    "\n",
    "    # Enable design\n",
    "    aa_to_design = pyrosetta.rosetta.core.pack.task.operation.RestrictAbsentCanonicalAASRLT()\n",
    "    aa_to_design.aas_to_keep(amino)\n",
    "    tf.push_back(pyrosetta.rosetta.core.pack.task.operation.OperateOnResidueSubset(aa_to_design, mut_posi))\n",
    "\n",
    "    # Create Packer\n",
    "    packer = pyrosetta.rosetta.protocols.minimization_packing.PackRotamersMover()\n",
    "    packer.task_factory(tf)\n",
    "\n",
    "    # Perform The Move\n",
    "    if not os.getenv(\"DEBUG\"):\n",
    "        packer.apply(pose)\n",
    "    return pose\n",
    "        \n",
    "def unbind(pose, partners, packInput):\n",
    "    #10/30/20: changing pack input to try and preserve inital HBNets for analysis per Ajasja's rec\n",
    "    #switching to InterfaceAnalyzerMover (IAM) \n",
    "    iamMover = analysis.InterfaceAnalyzerMover()\n",
    "    iamMover.set_interface(\"A_B\")\n",
    "    iamMover.set_pack_input(packInput)\n",
    "    iamMover.set_pack_separated(True)\n",
    "    iamMover.apply(pose)\n",
    "    interfaceData = iamMover.get_all_data()\n",
    "    return interfaceData.interface_hbonds, interfaceData.delta_unsat_hbonds, interfaceData.hbond_E_fraction, iamMover.get_interface_dG()\n",
    "\n",
    "\n",
    "#run a mutation where those in the list are changed to Alanine \n",
    "def runRandomMutation(packedPose, numbers, flag):\n",
    "    #return total h bonds, unsat h bonds, fraction inferace E from h bonds \n",
    "    pose = packedPose\n",
    "    #mutate and unbind \n",
    "    if len(numbers) != 0:\n",
    "        strRep = \",\".join(numbers)\n",
    "        scorefxn = get_score_function()\n",
    "        scores = []\n",
    "        times = []\n",
    "        #mTDG\n",
    "        original = pose.clone()\n",
    "        mutantPose = pack(original, strRep, 'A', scorefxn)\n",
    "        return unbind(mutantPose, \"A_B\", flag)\n",
    "    else:\n",
    "        #run the wt \n",
    "        strRep = \",\".join(numbers)\n",
    "        scorefxn = get_score_function()\n",
    "        scores = []\n",
    "        #wTDG\n",
    "        original = pose.clone()\n",
    "        return unbind(original, \"A_B\", flag)\n",
    "\n",
    "\n",
    "def allResidues(chainALen, chainBLen):\n",
    "    #creates all possible indexes for position selection\n",
    "    totalLen = chainALen + chainBLen\n",
    "    totalList = list(range(1, totalLen + 1))\n",
    "    return [str(x) for x in totalList]\n",
    "\n",
    "\n",
    "#changing so instead of mutating a group of top x%, select top x% then mutate each indiv.\n",
    "#takes N other random not in the top x% list and mutates them too \n",
    "def runAlaScanOnDimer(structureName, rowA, rowB, status, endName = \".relax.pdb\"):\n",
    "    \n",
    "    #setting up for starmapping of wt, mt, and randoms \n",
    "    runAll = []\n",
    "    runAll.append([])#for running wt\n",
    "\n",
    "    #for eah row, get the positions of a above the percentile\n",
    "    pose = pose_from_pdb(\"./test_set_structures/\" + structureName + endName)\n",
    "    \n",
    "    #select random residues not in the top X% \n",
    "    allPositions =allResidues(rowA, rowB)\n",
    "    allPosList = [[x] for x in allPositions]\n",
    "    runAll = runAll + allPosList\n",
    "\n",
    "    #attach pose info & run mutations\n",
    "    work = [(pose, pair, status) for pair in runAll]\n",
    "    with pyrosetta.distributed.utility.log.LoggingContext(logging.getLogger(\"rosetta\"), level=logging.WARN):\n",
    "        with Pool() as p:\n",
    "            logging.info(\"mutating\")\n",
    "            mutations = p.starmap(runRandomMutation, work)\n",
    "\n",
    "    #get wt info \n",
    "    wtNumberHbonds = mutations[0][0]\n",
    "    wtNumberUnsatHBonds = mutations[0][1]\n",
    "    wtFractionEnergyHBonds = mutations[0][2]\n",
    "    wtdG = mutations[0][3]\n",
    "\n",
    "    #mutation info \n",
    "    for i in range(1, len(mutations)):\n",
    "        otherHBonds.append( mutations[i][0] -  wtNumberHbonds)\n",
    "        otherHBondsUnsat.append( mutations[i][1] -  wtNumberUnsatHBonds)\n",
    "        otherHBondEnergyFraction.append( mutations[i][2] - wtFractionEnergyHBonds)\n",
    "        otherddGs.append( mutations[i][3] - wtdG)\n",
    "            \n",
    "    return  otherHBonds, otherHBondsUnsat, otherHBondEnergyFraction, otherddGs"
   ]
  },
  {
   "cell_type": "code",
   "execution_count": 4,
   "metadata": {},
   "outputs": [
    {
     "name": "stdout",
     "output_type": "stream",
     "text": [
      "(480, 7)\n"
     ]
    }
   ],
   "source": [
    "#running False and True for repack input & comparing results \n",
    "#opening csv scores \n",
    "\n",
    "csvName = \"test_set.csv\" # \"Pos95thPercentileWorkingVersion.csv\"\n",
    "scoresCSV = pd.read_csv(csvName)\n",
    "print (scoresCSV.shape)"
   ]
  },
  {
   "cell_type": "code",
   "execution_count": 10,
   "metadata": {
    "scrolled": true
   },
   "outputs": [
    {
     "name": "stderr",
     "output_type": "stream",
     "text": [
      "INFO:rosetta:\u001b[0mcore.import_pose.import_pose: \u001b[0mFile './test_set_structures/redesigned_closed_5_7_9_9middlesbobby_1_1_S_394469.pdb_middle1.pdb-5_7_9_9middlesscott_1_1_S_390782.pdb_middle1.pdb-bobby_1_1_S_435474_padded_0001_0002.pdb' automatically determined to be of type PDB\n"
     ]
    },
    {
     "name": "stdout",
     "output_type": "stream",
     "text": [
      "Done, time elapsed:  0.001180410385131836\n",
      "Starting:  0\n"
     ]
    },
    {
     "name": "stderr",
     "output_type": "stream",
     "text": [
      "INFO:root:mutating\n"
     ]
    },
    {
     "ename": "NotImplementedError",
     "evalue": "__cereal_getstate__ requires pyrosetta '--serialization' build.",
     "output_type": "error",
     "traceback": [
      "\u001b[0;31m---------------------------------------------------------------------------\u001b[0m",
      "\u001b[0;31mNotImplementedError\u001b[0m                       Traceback (most recent call last)",
      "\u001b[0;32m<ipython-input-10-8fc684a11c70>\u001b[0m in \u001b[0;36m<module>\u001b[0;34m()\u001b[0m\n\u001b[1;32m      5\u001b[0m     \u001b[0mprint\u001b[0m \u001b[0;34m(\u001b[0m\u001b[0;34m\"Done, time elapsed: \"\u001b[0m\u001b[0;34m,\u001b[0m \u001b[0mtime\u001b[0m\u001b[0;34m.\u001b[0m\u001b[0mtime\u001b[0m\u001b[0;34m(\u001b[0m\u001b[0;34m)\u001b[0m \u001b[0;34m-\u001b[0m \u001b[0mstartTime\u001b[0m\u001b[0;34m)\u001b[0m\u001b[0;34m\u001b[0m\u001b[0;34m\u001b[0m\u001b[0m\n\u001b[1;32m      6\u001b[0m     \u001b[0mprint\u001b[0m \u001b[0;34m(\u001b[0m\u001b[0;34m\"Starting: \"\u001b[0m\u001b[0;34m,\u001b[0m \u001b[0mind\u001b[0m\u001b[0;34m)\u001b[0m\u001b[0;34m\u001b[0m\u001b[0;34m\u001b[0m\u001b[0m\n\u001b[0;32m----> 7\u001b[0;31m     \u001b[0motherHBondsFalseNR\u001b[0m\u001b[0;34m,\u001b[0m \u001b[0motherHBondsUnsatFalseNR\u001b[0m\u001b[0;34m,\u001b[0m \u001b[0motherHBondEnergyFractionFalseNR\u001b[0m\u001b[0;34m,\u001b[0m \u001b[0motherddGsFalseNR\u001b[0m \u001b[0;34m=\u001b[0m \u001b[0mrunAlaScanOnDimer\u001b[0m\u001b[0;34m(\u001b[0m\u001b[0mrow\u001b[0m\u001b[0;34m[\u001b[0m\u001b[0;34m'structure'\u001b[0m\u001b[0;34m]\u001b[0m\u001b[0;34m,\u001b[0m\u001b[0mrow\u001b[0m\u001b[0;34m[\u001b[0m\u001b[0;34m'lenA'\u001b[0m\u001b[0;34m]\u001b[0m\u001b[0;34m,\u001b[0m \u001b[0mrow\u001b[0m\u001b[0;34m[\u001b[0m\u001b[0;34m'lenB'\u001b[0m\u001b[0;34m]\u001b[0m\u001b[0;34m,\u001b[0m \u001b[0;32mFalse\u001b[0m\u001b[0;34m,\u001b[0m \u001b[0;34m\".pdb\"\u001b[0m\u001b[0;34m)\u001b[0m\u001b[0;34m\u001b[0m\u001b[0;34m\u001b[0m\u001b[0m\n\u001b[0m\u001b[1;32m      8\u001b[0m     \u001b[0msaveName\u001b[0m \u001b[0;34m=\u001b[0m \u001b[0mrow\u001b[0m\u001b[0;34m[\u001b[0m\u001b[0;34m'structure'\u001b[0m\u001b[0;34m]\u001b[0m\u001b[0;34m\u001b[0m\u001b[0;34m\u001b[0m\u001b[0m\n\u001b[1;32m      9\u001b[0m     \u001b[0motherHBondsFalseNR\u001b[0m \u001b[0;34m=\u001b[0m \u001b[0mnp\u001b[0m\u001b[0;34m.\u001b[0m\u001b[0marray\u001b[0m\u001b[0;34m(\u001b[0m\u001b[0motherHBondsFalseNR\u001b[0m\u001b[0;34m)\u001b[0m\u001b[0;34m\u001b[0m\u001b[0;34m\u001b[0m\u001b[0m\n",
      "\u001b[0;32m<ipython-input-8-d94220037d9c>\u001b[0m in \u001b[0;36mrunAlaScanOnDimer\u001b[0;34m(structureName, rowA, rowB, status, endName)\u001b[0m\n\u001b[1;32m    117\u001b[0m         \u001b[0;32mwith\u001b[0m \u001b[0mPool\u001b[0m\u001b[0;34m(\u001b[0m\u001b[0;34m)\u001b[0m \u001b[0;32mas\u001b[0m \u001b[0mp\u001b[0m\u001b[0;34m:\u001b[0m\u001b[0;34m\u001b[0m\u001b[0;34m\u001b[0m\u001b[0m\n\u001b[1;32m    118\u001b[0m             \u001b[0mlogging\u001b[0m\u001b[0;34m.\u001b[0m\u001b[0minfo\u001b[0m\u001b[0;34m(\u001b[0m\u001b[0;34m\"mutating\"\u001b[0m\u001b[0;34m)\u001b[0m\u001b[0;34m\u001b[0m\u001b[0;34m\u001b[0m\u001b[0m\n\u001b[0;32m--> 119\u001b[0;31m             \u001b[0mmutations\u001b[0m \u001b[0;34m=\u001b[0m \u001b[0mp\u001b[0m\u001b[0;34m.\u001b[0m\u001b[0mstarmap\u001b[0m\u001b[0;34m(\u001b[0m\u001b[0mrunRandomMutation\u001b[0m\u001b[0;34m,\u001b[0m \u001b[0mwork\u001b[0m\u001b[0;34m)\u001b[0m\u001b[0;34m\u001b[0m\u001b[0;34m\u001b[0m\u001b[0m\n\u001b[0m\u001b[1;32m    120\u001b[0m \u001b[0;34m\u001b[0m\u001b[0m\n\u001b[1;32m    121\u001b[0m     \u001b[0;31m#get wt info\u001b[0m\u001b[0;34m\u001b[0m\u001b[0;34m\u001b[0m\u001b[0;34m\u001b[0m\u001b[0m\n",
      "\u001b[0;32m~/anaconda3/envs/tensorflow/lib/python3.6/multiprocessing/pool.py\u001b[0m in \u001b[0;36mstarmap\u001b[0;34m(self, func, iterable, chunksize)\u001b[0m\n\u001b[1;32m    272\u001b[0m         \u001b[0;31m`\u001b[0m\u001b[0mfunc\u001b[0m\u001b[0;31m`\u001b[0m \u001b[0;32mand\u001b[0m \u001b[0;34m(\u001b[0m\u001b[0ma\u001b[0m\u001b[0;34m,\u001b[0m \u001b[0mb\u001b[0m\u001b[0;34m)\u001b[0m \u001b[0mbecomes\u001b[0m \u001b[0mfunc\u001b[0m\u001b[0;34m(\u001b[0m\u001b[0ma\u001b[0m\u001b[0;34m,\u001b[0m \u001b[0mb\u001b[0m\u001b[0;34m)\u001b[0m\u001b[0;34m.\u001b[0m\u001b[0;34m\u001b[0m\u001b[0;34m\u001b[0m\u001b[0m\n\u001b[1;32m    273\u001b[0m         '''\n\u001b[0;32m--> 274\u001b[0;31m         \u001b[0;32mreturn\u001b[0m \u001b[0mself\u001b[0m\u001b[0;34m.\u001b[0m\u001b[0m_map_async\u001b[0m\u001b[0;34m(\u001b[0m\u001b[0mfunc\u001b[0m\u001b[0;34m,\u001b[0m \u001b[0miterable\u001b[0m\u001b[0;34m,\u001b[0m \u001b[0mstarmapstar\u001b[0m\u001b[0;34m,\u001b[0m \u001b[0mchunksize\u001b[0m\u001b[0;34m)\u001b[0m\u001b[0;34m.\u001b[0m\u001b[0mget\u001b[0m\u001b[0;34m(\u001b[0m\u001b[0;34m)\u001b[0m\u001b[0;34m\u001b[0m\u001b[0;34m\u001b[0m\u001b[0m\n\u001b[0m\u001b[1;32m    275\u001b[0m \u001b[0;34m\u001b[0m\u001b[0m\n\u001b[1;32m    276\u001b[0m     def starmap_async(self, func, iterable, chunksize=None, callback=None,\n",
      "\u001b[0;32m~/anaconda3/envs/tensorflow/lib/python3.6/multiprocessing/pool.py\u001b[0m in \u001b[0;36mget\u001b[0;34m(self, timeout)\u001b[0m\n\u001b[1;32m    642\u001b[0m             \u001b[0;32mreturn\u001b[0m \u001b[0mself\u001b[0m\u001b[0;34m.\u001b[0m\u001b[0m_value\u001b[0m\u001b[0;34m\u001b[0m\u001b[0;34m\u001b[0m\u001b[0m\n\u001b[1;32m    643\u001b[0m         \u001b[0;32melse\u001b[0m\u001b[0;34m:\u001b[0m\u001b[0;34m\u001b[0m\u001b[0;34m\u001b[0m\u001b[0m\n\u001b[0;32m--> 644\u001b[0;31m             \u001b[0;32mraise\u001b[0m \u001b[0mself\u001b[0m\u001b[0;34m.\u001b[0m\u001b[0m_value\u001b[0m\u001b[0;34m\u001b[0m\u001b[0;34m\u001b[0m\u001b[0m\n\u001b[0m\u001b[1;32m    645\u001b[0m \u001b[0;34m\u001b[0m\u001b[0m\n\u001b[1;32m    646\u001b[0m     \u001b[0;32mdef\u001b[0m \u001b[0m_set\u001b[0m\u001b[0;34m(\u001b[0m\u001b[0mself\u001b[0m\u001b[0;34m,\u001b[0m \u001b[0mi\u001b[0m\u001b[0;34m,\u001b[0m \u001b[0mobj\u001b[0m\u001b[0;34m)\u001b[0m\u001b[0;34m:\u001b[0m\u001b[0;34m\u001b[0m\u001b[0;34m\u001b[0m\u001b[0m\n",
      "\u001b[0;32m~/anaconda3/envs/tensorflow/lib/python3.6/multiprocessing/pool.py\u001b[0m in \u001b[0;36m_handle_tasks\u001b[0;34m(taskqueue, put, outqueue, pool, cache)\u001b[0m\n\u001b[1;32m    422\u001b[0m                         \u001b[0;32mbreak\u001b[0m\u001b[0;34m\u001b[0m\u001b[0;34m\u001b[0m\u001b[0m\n\u001b[1;32m    423\u001b[0m                     \u001b[0;32mtry\u001b[0m\u001b[0;34m:\u001b[0m\u001b[0;34m\u001b[0m\u001b[0;34m\u001b[0m\u001b[0m\n\u001b[0;32m--> 424\u001b[0;31m                         \u001b[0mput\u001b[0m\u001b[0;34m(\u001b[0m\u001b[0mtask\u001b[0m\u001b[0;34m)\u001b[0m\u001b[0;34m\u001b[0m\u001b[0;34m\u001b[0m\u001b[0m\n\u001b[0m\u001b[1;32m    425\u001b[0m                     \u001b[0;32mexcept\u001b[0m \u001b[0mException\u001b[0m \u001b[0;32mas\u001b[0m \u001b[0me\u001b[0m\u001b[0;34m:\u001b[0m\u001b[0;34m\u001b[0m\u001b[0;34m\u001b[0m\u001b[0m\n\u001b[1;32m    426\u001b[0m                         \u001b[0mjob\u001b[0m\u001b[0;34m,\u001b[0m \u001b[0midx\u001b[0m \u001b[0;34m=\u001b[0m \u001b[0mtask\u001b[0m\u001b[0;34m[\u001b[0m\u001b[0;34m:\u001b[0m\u001b[0;36m2\u001b[0m\u001b[0;34m]\u001b[0m\u001b[0;34m\u001b[0m\u001b[0;34m\u001b[0m\u001b[0m\n",
      "\u001b[0;32m~/anaconda3/envs/tensorflow/lib/python3.6/multiprocessing/connection.py\u001b[0m in \u001b[0;36msend\u001b[0;34m(self, obj)\u001b[0m\n\u001b[1;32m    204\u001b[0m         \u001b[0mself\u001b[0m\u001b[0;34m.\u001b[0m\u001b[0m_check_closed\u001b[0m\u001b[0;34m(\u001b[0m\u001b[0;34m)\u001b[0m\u001b[0;34m\u001b[0m\u001b[0;34m\u001b[0m\u001b[0m\n\u001b[1;32m    205\u001b[0m         \u001b[0mself\u001b[0m\u001b[0;34m.\u001b[0m\u001b[0m_check_writable\u001b[0m\u001b[0;34m(\u001b[0m\u001b[0;34m)\u001b[0m\u001b[0;34m\u001b[0m\u001b[0;34m\u001b[0m\u001b[0m\n\u001b[0;32m--> 206\u001b[0;31m         \u001b[0mself\u001b[0m\u001b[0;34m.\u001b[0m\u001b[0m_send_bytes\u001b[0m\u001b[0;34m(\u001b[0m\u001b[0m_ForkingPickler\u001b[0m\u001b[0;34m.\u001b[0m\u001b[0mdumps\u001b[0m\u001b[0;34m(\u001b[0m\u001b[0mobj\u001b[0m\u001b[0;34m)\u001b[0m\u001b[0;34m)\u001b[0m\u001b[0;34m\u001b[0m\u001b[0;34m\u001b[0m\u001b[0m\n\u001b[0m\u001b[1;32m    207\u001b[0m \u001b[0;34m\u001b[0m\u001b[0m\n\u001b[1;32m    208\u001b[0m     \u001b[0;32mdef\u001b[0m \u001b[0mrecv_bytes\u001b[0m\u001b[0;34m(\u001b[0m\u001b[0mself\u001b[0m\u001b[0;34m,\u001b[0m \u001b[0mmaxlength\u001b[0m\u001b[0;34m=\u001b[0m\u001b[0;32mNone\u001b[0m\u001b[0;34m)\u001b[0m\u001b[0;34m:\u001b[0m\u001b[0;34m\u001b[0m\u001b[0;34m\u001b[0m\u001b[0m\n",
      "\u001b[0;32m~/anaconda3/envs/tensorflow/lib/python3.6/multiprocessing/reduction.py\u001b[0m in \u001b[0;36mdumps\u001b[0;34m(cls, obj, protocol)\u001b[0m\n\u001b[1;32m     49\u001b[0m     \u001b[0;32mdef\u001b[0m \u001b[0mdumps\u001b[0m\u001b[0;34m(\u001b[0m\u001b[0mcls\u001b[0m\u001b[0;34m,\u001b[0m \u001b[0mobj\u001b[0m\u001b[0;34m,\u001b[0m \u001b[0mprotocol\u001b[0m\u001b[0;34m=\u001b[0m\u001b[0;32mNone\u001b[0m\u001b[0;34m)\u001b[0m\u001b[0;34m:\u001b[0m\u001b[0;34m\u001b[0m\u001b[0;34m\u001b[0m\u001b[0m\n\u001b[1;32m     50\u001b[0m         \u001b[0mbuf\u001b[0m \u001b[0;34m=\u001b[0m \u001b[0mio\u001b[0m\u001b[0;34m.\u001b[0m\u001b[0mBytesIO\u001b[0m\u001b[0;34m(\u001b[0m\u001b[0;34m)\u001b[0m\u001b[0;34m\u001b[0m\u001b[0;34m\u001b[0m\u001b[0m\n\u001b[0;32m---> 51\u001b[0;31m         \u001b[0mcls\u001b[0m\u001b[0;34m(\u001b[0m\u001b[0mbuf\u001b[0m\u001b[0;34m,\u001b[0m \u001b[0mprotocol\u001b[0m\u001b[0;34m)\u001b[0m\u001b[0;34m.\u001b[0m\u001b[0mdump\u001b[0m\u001b[0;34m(\u001b[0m\u001b[0mobj\u001b[0m\u001b[0;34m)\u001b[0m\u001b[0;34m\u001b[0m\u001b[0;34m\u001b[0m\u001b[0m\n\u001b[0m\u001b[1;32m     52\u001b[0m         \u001b[0;32mreturn\u001b[0m \u001b[0mbuf\u001b[0m\u001b[0;34m.\u001b[0m\u001b[0mgetbuffer\u001b[0m\u001b[0;34m(\u001b[0m\u001b[0;34m)\u001b[0m\u001b[0;34m\u001b[0m\u001b[0;34m\u001b[0m\u001b[0m\n\u001b[1;32m     53\u001b[0m \u001b[0;34m\u001b[0m\u001b[0m\n",
      "\u001b[0;32m~/anaconda3/envs/tensorflow/lib/python3.6/site-packages/pyrosetta-2017-py3.6-linux-x86_64.egg/pyrosetta/bindings/pose.py\u001b[0m in \u001b[0;36m__pose_getstate__\u001b[0;34m(pose)\u001b[0m\n\u001b[1;32m     66\u001b[0m         \u001b[0;32mreturn\u001b[0m \u001b[0m__pose_getstate__\u001b[0m\u001b[0;34m(\u001b[0m\u001b[0mwork_pose\u001b[0m\u001b[0;34m)\u001b[0m\u001b[0;34m\u001b[0m\u001b[0;34m\u001b[0m\u001b[0m\n\u001b[1;32m     67\u001b[0m \u001b[0;34m\u001b[0m\u001b[0m\n\u001b[0;32m---> 68\u001b[0;31m     \u001b[0;32mreturn\u001b[0m \u001b[0m__cereal_getstate__\u001b[0m\u001b[0;34m(\u001b[0m\u001b[0mpose\u001b[0m\u001b[0;34m)\u001b[0m\u001b[0;34m\u001b[0m\u001b[0;34m\u001b[0m\u001b[0m\n\u001b[0m\u001b[1;32m     69\u001b[0m \u001b[0;34m\u001b[0m\u001b[0m\n\u001b[1;32m     70\u001b[0m \u001b[0;34m\u001b[0m\u001b[0m\n",
      "\u001b[0;32m~/anaconda3/envs/tensorflow/lib/python3.6/site-packages/pyrosetta-2017-py3.6-linux-x86_64.egg/pyrosetta/distributed/__init__.py\u001b[0m in \u001b[0;36mfwrap\u001b[0;34m(*args, **kwargs)\u001b[0m\n\u001b[1;32m     28\u001b[0m         \u001b[0;32mwith\u001b[0m \u001b[0m_access_lock\u001b[0m\u001b[0;34m:\u001b[0m\u001b[0;34m\u001b[0m\u001b[0;34m\u001b[0m\u001b[0m\n\u001b[1;32m     29\u001b[0m             \u001b[0;32mtry\u001b[0m\u001b[0;34m:\u001b[0m\u001b[0;34m\u001b[0m\u001b[0;34m\u001b[0m\u001b[0m\n\u001b[0;32m---> 30\u001b[0;31m                 \u001b[0;32mreturn\u001b[0m \u001b[0mfunc\u001b[0m\u001b[0;34m(\u001b[0m\u001b[0;34m*\u001b[0m\u001b[0margs\u001b[0m\u001b[0;34m,\u001b[0m \u001b[0;34m**\u001b[0m\u001b[0mkwargs\u001b[0m\u001b[0;34m)\u001b[0m\u001b[0;34m\u001b[0m\u001b[0;34m\u001b[0m\u001b[0m\n\u001b[0m\u001b[1;32m     31\u001b[0m             \u001b[0;32mfinally\u001b[0m\u001b[0;34m:\u001b[0m\u001b[0;34m\u001b[0m\u001b[0;34m\u001b[0m\u001b[0m\n\u001b[1;32m     32\u001b[0m                 \u001b[0m_logger\u001b[0m\u001b[0;34m.\u001b[0m\u001b[0mdebug\u001b[0m\u001b[0;34m(\u001b[0m\u001b[0;34m\"with_lock finished: %s\"\u001b[0m\u001b[0;34m,\u001b[0m \u001b[0mfunc\u001b[0m\u001b[0;34m)\u001b[0m\u001b[0;34m\u001b[0m\u001b[0;34m\u001b[0m\u001b[0m\n",
      "\u001b[0;32m~/anaconda3/envs/tensorflow/lib/python3.6/site-packages/pyrosetta-2017-py3.6-linux-x86_64.egg/pyrosetta/distributed/utility/pickle.py\u001b[0m in \u001b[0;36m__cereal_getstate__\u001b[0;34m(self)\u001b[0m\n\u001b[1;32m     35\u001b[0m     \u001b[0;32mif\u001b[0m \u001b[0;32mnot\u001b[0m \u001b[0mcereal\u001b[0m\u001b[0;34m:\u001b[0m\u001b[0;34m\u001b[0m\u001b[0;34m\u001b[0m\u001b[0m\n\u001b[1;32m     36\u001b[0m         raise NotImplementedError(\n\u001b[0;32m---> 37\u001b[0;31m             \"__cereal_getstate__ requires pyrosetta '--serialization' build.\")\n\u001b[0m\u001b[1;32m     38\u001b[0m \u001b[0;34m\u001b[0m\u001b[0m\n\u001b[1;32m     39\u001b[0m     \u001b[0moss\u001b[0m \u001b[0;34m=\u001b[0m \u001b[0mrosetta\u001b[0m\u001b[0;34m.\u001b[0m\u001b[0mstd\u001b[0m\u001b[0;34m.\u001b[0m\u001b[0mostringstream\u001b[0m\u001b[0;34m(\u001b[0m\u001b[0;34m)\u001b[0m\u001b[0;34m\u001b[0m\u001b[0;34m\u001b[0m\u001b[0m\n",
      "\u001b[0;31mNotImplementedError\u001b[0m: __cereal_getstate__ requires pyrosetta '--serialization' build."
     ]
    }
   ],
   "source": [
    "#run the ddG procedure on all dimers in the test set \n",
    "\n",
    "startTime = time.time()\n",
    "for ind, row in scoresCSV.iterrows():\n",
    "    print (\"Done, time elapsed: \", time.time() - startTime)\n",
    "    print (\"Starting: \", ind)\n",
    "    otherHBondsFalseNR, otherHBondsUnsatFalseNR, otherHBondEnergyFractionFalseNR, otherddGsFalseNR = runAlaScanOnDimer(row['structure'],row['lenA'], row['lenB'], False, \".pdb\")\n",
    "    saveName = row['structure']\n",
    "    otherHBondsFalseNR = np.array(otherHBondsFalseNR)\n",
    "    np.save(\"./NRFalseScores/\" + row['structure'] + \"_hbonds.npy\", otherHBondsFalseNR)\n",
    "    otherHBondsUnsatFalseNR = np.array(otherHBondsUnsatFalseNR)\n",
    "    np.save(\"./NRFalseScores/\" + row['structure'] + \"_unsat_hbonds.npy\", otherHBondsUnsatFalseNR)\n",
    "    otherHBondEnergyFractionFalseNR = np.array(otherHBondEnergyFractionFalseNR)\n",
    "    np.save(\"./NRFalseScores/\" + row['structure'] + \"_hbonds_energy.npy\", otherHBondEnergyFractionFalseNR)\n",
    "    otherddGsFalseNR = np.array(otherddGsFalseNR)\n",
    "    np.save(\"./NRFalseScores/\" + row['structure'] + \"_ddg.npy\", otherddGsFalseNR)\n",
    "    print (time.time() - startTime)\n",
    "    startTime = time.time()\n",
    "    print (\"---------------------------------------------------------------------\")"
   ]
  },
  {
   "cell_type": "code",
   "execution_count": null,
   "metadata": {},
   "outputs": [],
   "source": []
  }
 ],
 "metadata": {
  "kernelspec": {
   "display_name": "Python [conda env:tensorflow]",
   "language": "python",
   "name": "conda-env-tensorflow-py"
  },
  "language_info": {
   "codemirror_mode": {
    "name": "ipython",
    "version": 3
   },
   "file_extension": ".py",
   "mimetype": "text/x-python",
   "name": "python",
   "nbconvert_exporter": "python",
   "pygments_lexer": "ipython3",
   "version": "3.6.8"
  }
 },
 "nbformat": 4,
 "nbformat_minor": 4
}
