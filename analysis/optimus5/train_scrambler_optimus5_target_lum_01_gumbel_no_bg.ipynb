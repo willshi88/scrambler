{
 "cells": [
  {
   "cell_type": "code",
   "execution_count": 1,
   "metadata": {
    "scrolled": true
   },
   "outputs": [
    {
     "name": "stderr",
     "output_type": "stream",
     "text": [
      "Using TensorFlow backend.\n"
     ]
    }
   ],
   "source": [
    "import keras\n",
    "from keras.models import Sequential, Model, load_model\n",
    "\n",
    "from keras.layers import Dense, Dropout, Activation, Flatten, Input, Lambda\n",
    "from keras.layers import Conv2D, MaxPooling2D, AveragePooling2D, Conv1D, MaxPooling1D, LSTM, ConvLSTM2D, GRU, CuDNNLSTM, CuDNNGRU, BatchNormalization, LocallyConnected2D, Permute, TimeDistributed, Bidirectional\n",
    "from keras.layers import Concatenate, Reshape, Softmax, Conv2DTranspose, Embedding, Multiply\n",
    "from keras.callbacks import ModelCheckpoint, EarlyStopping, Callback\n",
    "from keras import regularizers\n",
    "from keras import backend as K\n",
    "from keras.utils.generic_utils import Progbar\n",
    "from keras.layers.merge import _Merge\n",
    "import keras.losses\n",
    "\n",
    "from functools import partial\n",
    "\n",
    "from collections import defaultdict\n",
    "\n",
    "import tensorflow as tf\n",
    "from tensorflow.python.framework import ops\n",
    "\n",
    "import isolearn.keras as iso\n",
    "\n",
    "import numpy as np\n",
    "\n",
    "import tensorflow as tf\n",
    "import logging\n",
    "logging.getLogger('tensorflow').setLevel(logging.ERROR)\n",
    "from sklearn import preprocessing\n",
    "import pandas as pd\n",
    "\n",
    "import os\n",
    "import pickle\n",
    "import numpy as np\n",
    "\n",
    "import scipy.sparse as sp\n",
    "import scipy.io as spio\n",
    "import scipy as scp\n",
    "import matplotlib.pyplot as plt\n",
    "\n",
    "import isolearn.io as isoio\n",
    "import isolearn.keras as isol\n",
    "\n",
    "from sequence_logo_helper import plot_dna_logo, plot_importance_scores\n",
    "\n",
    "import pandas as pd\n",
    "\n",
    "from keras.backend.tensorflow_backend import set_session\n",
    "\n",
    "def contain_tf_gpu_mem_usage() :\n",
    "    config = tf.ConfigProto()\n",
    "    config.gpu_options.allow_growth = True\n",
    "    sess = tf.Session(config=config)\n",
    "    set_session(sess)\n",
    "\n",
    "contain_tf_gpu_mem_usage()\n",
    "\n",
    "class EpochVariableCallback(Callback) :\n",
    "    \n",
    "    def __init__(self, my_variable, my_func) :\n",
    "        self.my_variable = my_variable       \n",
    "        self.my_func = my_func\n",
    "        \n",
    "    def on_epoch_begin(self, epoch, logs={}) :\n",
    "        K.set_value(self.my_variable, self.my_func(K.get_value(self.my_variable), epoch))\n"
   ]
  },
  {
   "cell_type": "code",
   "execution_count": 2,
   "metadata": {
    "scrolled": true
   },
   "outputs": [
    {
     "name": "stdout",
     "output_type": "stream",
     "text": [
      "x_train.shape = (15008, 1, 50, 4)\n",
      "x_test.shape = (3200, 1, 50, 4)\n",
      "x_extra.shape = (3, 1, 50, 4)\n",
      "y_train.shape = (15008, 1)\n",
      "y_test.shape = (3200, 1)\n",
      "y_extra.shape = (3, 1)\n"
     ]
    }
   ],
   "source": [
    "\n",
    "#optimus 5-prime functions \n",
    "def test_data(df, model, test_seq, obs_col, output_col='pred'):\n",
    "    '''Predict mean ribosome load using model and test set UTRs'''\n",
    "    \n",
    "    # Scale the test set mean ribosome load\n",
    "    scaler = preprocessing.StandardScaler()\n",
    "    scaler.fit(df[obs_col].reshape(-1,1))\n",
    "    \n",
    "    # Make predictions\n",
    "    predictions = model.predict(test_seq).reshape(-1)\n",
    "    \n",
    "    # Inverse scaled predicted mean ribosome load and return in a column labeled 'pred'\n",
    "    df.loc[:,output_col] = scaler.inverse_transform(predictions)\n",
    "    return df\n",
    "\n",
    "\n",
    "def one_hot_encode(df, col='utr', seq_len=50):\n",
    "    # Dictionary returning one-hot encoding of nucleotides. \n",
    "    nuc_d = {'a':[1,0,0,0],'c':[0,1,0,0],'g':[0,0,1,0],'t':[0,0,0,1], 'n':[0,0,0,0]}\n",
    "    \n",
    "    # Creat empty matrix.\n",
    "    vectors=np.empty([len(df),seq_len,4])\n",
    "    \n",
    "    # Iterate through UTRs and one-hot encode\n",
    "    for i,seq in enumerate(df[col].str[:seq_len]): \n",
    "        seq = seq.lower()\n",
    "        a = np.array([nuc_d[x] for x in seq])\n",
    "        vectors[i] = a\n",
    "    return vectors\n",
    "\n",
    "\n",
    "def r2(x,y):\n",
    "    slope, intercept, r_value, p_value, std_err = stats.linregress(x,y)\n",
    "    return r_value**2\n",
    "\n",
    "\n",
    "#Train data\n",
    "e_train = pd.read_csv(\"bottom5KIFuAUGTop5KIFuAUG.csv\")\n",
    "e_train.loc[:,'scaled_rl'] = preprocessing.StandardScaler().fit_transform(e_train.loc[:,'rl'].values.reshape(-1,1))\n",
    "\n",
    "seq_e_train = one_hot_encode(e_train,seq_len=50)\n",
    "x_train = seq_e_train\n",
    "x_train = np.reshape(x_train, (x_train.shape[0], 1, x_train.shape[1], x_train.shape[2]))\n",
    "y_train = np.array(e_train['scaled_rl'].values)\n",
    "y_train = np.reshape(y_train, (y_train.shape[0],1))\n",
    "\n",
    "#Test data\n",
    "\n",
    "e_test = pd.read_csv(\"randomSampleTestingAllAUGtypes.csv\")\n",
    "e_test.loc[:,'scaled_rl'] = preprocessing.StandardScaler().fit_transform(e_test.loc[:,'rl'].values.reshape(-1,1))\n",
    "\n",
    "seq_e_test = one_hot_encode(e_test, seq_len=50)\n",
    "x_test = seq_e_test\n",
    "x_test = np.reshape(x_test, (x_test.shape[0], 1, x_test.shape[1], x_test.shape[2]))\n",
    "y_test = np.array(e_test['scaled_rl'].values)\n",
    "y_test = np.reshape(y_test, (y_test.shape[0],1))\n",
    "\n",
    "\n",
    "e_extra = pd.DataFrame({\n",
    "    'utr' : [\n",
    "        \"CCGGCTTATCAATGGGAAGCGTCGATTGCGACAAGGGTCGTGCTCGCTAG\",\n",
    "        \"CCGGCTTATCAATGGGAAGCGTCGATTGCGACAAGGGTCGTTAGCGCTAG\",\n",
    "        \"CCGGCTTATCAATGGGAATGGTCGATTGCGACAAGGGTCGTTAGCGCTAG\"\n",
    "    ]\n",
    "})\n",
    "seq_e_extra = one_hot_encode(e_extra, seq_len=50)\n",
    "x_extra = seq_e_extra\n",
    "x_extra = np.reshape(x_extra, (x_extra.shape[0], 1, x_extra.shape[1], x_extra.shape[2]))\n",
    "\n",
    "y_extra = np.zeros((x_extra.shape[0],1))\n",
    "\n",
    "print(\"x_train.shape = \" + str(x_train.shape))\n",
    "print(\"x_test.shape = \" + str(x_test.shape))\n",
    "print(\"x_extra.shape = \" + str(x_extra.shape))\n",
    "\n",
    "print(\"y_train.shape = \" + str(y_train.shape))\n",
    "print(\"y_test.shape = \" + str(y_test.shape))\n",
    "print(\"y_extra.shape = \" + str(y_extra.shape))\n"
   ]
  },
  {
   "cell_type": "code",
   "execution_count": 3,
   "metadata": {
    "scrolled": true
   },
   "outputs": [],
   "source": [
    "#Define sequence template\n",
    "\n",
    "sequence_template = \"N\" * 50\n",
    "sequence_mask = np.array([1 if sequence_template[j] == 'N' else 0 for j in range(len(sequence_template))])\n"
   ]
  },
  {
   "cell_type": "code",
   "execution_count": 4,
   "metadata": {
    "scrolled": true
   },
   "outputs": [
    {
     "data": {
      "image/png": "[encoded data removed]",
      "text/plain": [
       "<Figure size 1008x46.8 with 1 Axes>"
      ]
     },
     "metadata": {},
     "output_type": "display_data"
    }
   ],
   "source": [
    "#Visualize background sequence distribution\n",
    "\n",
    "pseudo_count = 1.0\n",
    "\n",
    "x_mean = (np.sum(x_train, axis=(0, 1)) + pseudo_count) / (x_train.shape[0] + 4. * pseudo_count)\n",
    "x_mean_logits = np.log(x_mean / (1. - x_mean))\n",
    "\n",
    "plot_dna_logo(np.copy(x_mean), sequence_template=sequence_template, figsize=(14, 0.65), logo_height=1.0, plot_start=0, plot_end=205)\n"
   ]
  },
  {
   "cell_type": "code",
   "execution_count": 5,
   "metadata": {
    "scrolled": true
   },
   "outputs": [
    {
     "name": "stdout",
     "output_type": "stream",
     "text": [
      "Mean conservation (bits) = 0.032049298346210106\n"
     ]
    }
   ],
   "source": [
    "#Calculate mean training set conservation\n",
    "\n",
    "entropy = np.sum(x_mean * -np.log(x_mean), axis=-1) / np.log(2.0)\n",
    "conservation = 2.0 - entropy\n",
    "\n",
    "x_mean_conservation = np.sum(conservation) / np.sum(sequence_mask)\n",
    "\n",
    "print(\"Mean conservation (bits) = \" + str(x_mean_conservation))\n"
   ]
  },
  {
   "cell_type": "code",
   "execution_count": 6,
   "metadata": {
    "scrolled": true
   },
   "outputs": [
    {
     "name": "stdout",
     "output_type": "stream",
     "text": [
      "Mean KL Div against background (bits) = 1.9679329305814974\n"
     ]
    }
   ],
   "source": [
    "#Calculate mean training set kl-divergence against background\n",
    "\n",
    "x_train_clipped = np.clip(np.copy(x_train[:, 0, :, :]), 1e-8, 1. - 1e-8)\n",
    "\n",
    "kl_divs = np.sum(x_train_clipped * np.log(x_train_clipped / np.tile(np.expand_dims(x_mean, axis=0), (x_train_clipped.shape[0], 1, 1))), axis=-1) / np.log(2.0)\n",
    "\n",
    "x_mean_kl_divs = np.sum(kl_divs * sequence_mask, axis=-1) / np.sum(sequence_mask)\n",
    "x_mean_kl_div = np.mean(x_mean_kl_divs)\n",
    "\n",
    "print(\"Mean KL Div against background (bits) = \" + str(x_mean_kl_div))\n"
   ]
  },
  {
   "cell_type": "code",
   "execution_count": 7,
   "metadata": {
    "scrolled": true
   },
   "outputs": [],
   "source": [
    "from tensorflow.python.framework import ops\n",
    "\n",
    "#Stochastic Binarized Neuron helper functions (Tensorflow)\n",
    "#ST Estimator code adopted from https://r2rt.com/beyond-binary-ternary-and-one-hot-neurons.html\n",
    "#See Github https://github.com/spitis/\n",
    "\n",
    "def st_sampled_softmax(logits):\n",
    "    with ops.name_scope(\"STSampledSoftmax\") as namescope :\n",
    "        nt_probs = tf.nn.softmax(logits)\n",
    "        onehot_dim = logits.get_shape().as_list()[1]\n",
    "        sampled_onehot = tf.one_hot(tf.squeeze(tf.multinomial(logits, 1), 1), onehot_dim, 1.0, 0.0)\n",
    "        with tf.get_default_graph().gradient_override_map({'Ceil': 'Identity', 'Mul': 'STMul'}):\n",
    "            return tf.ceil(sampled_onehot * nt_probs)\n",
    "\n",
    "def st_hardmax_softmax(logits):\n",
    "    with ops.name_scope(\"STHardmaxSoftmax\") as namescope :\n",
    "        nt_probs = tf.nn.softmax(logits)\n",
    "        onehot_dim = logits.get_shape().as_list()[1]\n",
    "        sampled_onehot = tf.one_hot(tf.argmax(nt_probs, 1), onehot_dim, 1.0, 0.0)\n",
    "        with tf.get_default_graph().gradient_override_map({'Ceil': 'Identity', 'Mul': 'STMul'}):\n",
    "            return tf.ceil(sampled_onehot * nt_probs)\n",
    "\n",
    "@ops.RegisterGradient(\"STMul\")\n",
    "def st_mul(op, grad):\n",
    "    return [grad, grad]\n",
    "\n",
    "#Gumbel Distribution Sampler\n",
    "def gumbel_softmax(logits, temperature=0.5) :\n",
    "    gumbel_dist = tf.contrib.distributions.RelaxedOneHotCategorical(temperature, logits=logits)\n",
    "    batch_dim = logits.get_shape().as_list()[0]\n",
    "    onehot_dim = logits.get_shape().as_list()[1]\n",
    "    return gumbel_dist.sample()\n"
   ]
  },
  {
   "cell_type": "code",
   "execution_count": 8,
   "metadata": {
    "scrolled": true
   },
   "outputs": [],
   "source": [
    "#PWM Masking and Sampling helper functions\n",
    "\n",
    "def sample_mask_gumbel(pwm_logits) :\n",
    "    n_sequences = K.shape(pwm_logits)[0]\n",
    "    seq_length = K.shape(pwm_logits)[2]\n",
    "\n",
    "    flat_pwm = K.reshape(pwm_logits, (n_sequences * seq_length, 2))\n",
    "    sampled_pwm = gumbel_softmax(flat_pwm, temperature=0.5)\n",
    "\n",
    "    return K.reshape(sampled_pwm, (n_sequences, 1, seq_length, 2))[..., :1]\n",
    "\n",
    "def mask_pwm(inputs) :\n",
    "    pwm, onehot_template, onehot_mask = inputs\n",
    "\n",
    "    return pwm * onehot_mask + onehot_template\n",
    "\n",
    "#Generator helper functions\n",
    "def initialize_sequence_templates(generator, sequence_templates) :\n",
    "\n",
    "    embedding_templates = []\n",
    "    embedding_masks = []\n",
    "\n",
    "    for k in range(len(sequence_templates)) :\n",
    "        sequence_template = sequence_templates[k]\n",
    "        onehot_template = iso.OneHotEncoder(seq_length=len(sequence_template))(sequence_template).reshape((1, len(sequence_template), 4))\n",
    "\n",
    "        for j in range(len(sequence_template)) :\n",
    "            if sequence_template[j] not in ['N', 'X'] :\n",
    "                nt_ix = np.argmax(onehot_template[0, j, :])\n",
    "                onehot_template[:, j, :] = 0.\n",
    "                onehot_template[:, j, nt_ix] = 1.\n",
    "\n",
    "        onehot_mask = np.zeros((1, len(sequence_template), 4))\n",
    "        for j in range(len(sequence_template)) :\n",
    "            if sequence_template[j] == 'N' :\n",
    "                onehot_mask[:, j, :] = 1.\n",
    "\n",
    "        embedding_templates.append(onehot_template.reshape(1, -1))\n",
    "        embedding_masks.append(onehot_mask.reshape(1, -1))\n",
    "\n",
    "    embedding_templates = np.concatenate(embedding_templates, axis=0)\n",
    "    embedding_masks = np.concatenate(embedding_masks, axis=0)\n",
    "\n",
    "    generator.get_layer('template_dense').set_weights([embedding_templates])\n",
    "    generator.get_layer('template_dense').trainable = False\n",
    "\n",
    "    generator.get_layer('mask_dense').set_weights([embedding_masks])\n",
    "    generator.get_layer('mask_dense').trainable = False\n",
    "\n",
    "#Generator construction function\n",
    "def build_sampler(batch_size, seq_length, n_classes=1) :\n",
    "\n",
    "    #Initialize Reshape layer\n",
    "    reshape_layer = Reshape((1, seq_length, 4))\n",
    "    \n",
    "    #Initialize background matrix\n",
    "    onehot_background_dense = Embedding(n_classes, seq_length * 4, embeddings_initializer='zeros', name='background_dense')\n",
    "\n",
    "    #Initialize template and mask matrices\n",
    "    onehot_template_dense = Embedding(n_classes, seq_length * 4, embeddings_initializer='zeros', name='template_dense')\n",
    "    onehot_mask_dense = Embedding(n_classes, seq_length * 4, embeddings_initializer='ones', name='mask_dense')\n",
    "\n",
    "    #Initialize Templating and Masking Lambda layer\n",
    "    masking_layer = Lambda(mask_pwm, output_shape = (1, seq_length, 4), name='masking_layer')\n",
    "    \n",
    "    def _sampler_func(class_input, scaled_pwm) :\n",
    "        \n",
    "        #Get Template and Mask\n",
    "        onehot_background = reshape_layer(onehot_background_dense(class_input))\n",
    "        onehot_template = reshape_layer(onehot_template_dense(class_input))\n",
    "        onehot_mask = reshape_layer(onehot_mask_dense(class_input))\n",
    "        \n",
    "        #Add Template and Multiply Mask\n",
    "        pwm = masking_layer([scaled_pwm, onehot_template, onehot_mask])\n",
    "        \n",
    "        return pwm, onehot_mask\n",
    "    \n",
    "    return _sampler_func\n"
   ]
  },
  {
   "cell_type": "code",
   "execution_count": 9,
   "metadata": {},
   "outputs": [],
   "source": [
    "#Scrambler network definition\n",
    "\n",
    "def make_resblock(n_channels=64, window_size=8, dilation_rate=1, group_ix=0, layer_ix=0, drop_rate=0.0) :\n",
    "\n",
    "    #Initialize res block layers\n",
    "    batch_norm_0 = BatchNormalization(name='scrambler_resblock_' + str(group_ix) + '_' + str(layer_ix) + '_batch_norm_0')\n",
    "\n",
    "    relu_0 = Lambda(lambda x: K.relu(x, alpha=0.0))\n",
    "\n",
    "    conv_0 = Conv2D(n_channels, (1, window_size), dilation_rate=dilation_rate, strides=(1, 1), padding='same', activation='linear', kernel_initializer='glorot_normal', name='scrambler_resblock_' + str(group_ix) + '_' + str(layer_ix) + '_conv_0')\n",
    "\n",
    "    batch_norm_1 = BatchNormalization(name='scrambler_resblock_' + str(group_ix) + '_' + str(layer_ix) + '_batch_norm_1')\n",
    "\n",
    "    relu_1 = Lambda(lambda x: K.relu(x, alpha=0.0))\n",
    "\n",
    "    conv_1 = Conv2D(n_channels, (1, window_size), dilation_rate=dilation_rate, strides=(1, 1), padding='same', activation='linear', kernel_initializer='glorot_normal', name='scrambler_resblock_' + str(group_ix) + '_' + str(layer_ix) + '_conv_1')\n",
    "\n",
    "    skip_1 = Lambda(lambda x: x[0] + x[1], name='scrambler_resblock_' + str(group_ix) + '_' + str(layer_ix) + '_skip_1')\n",
    "\n",
    "    drop_1 = None\n",
    "    if drop_rate > 0.0 :\n",
    "        drop_1 = Dropout(drop_rate)\n",
    "    \n",
    "    #Execute res block\n",
    "    def _resblock_func(input_tensor) :\n",
    "        batch_norm_0_out = batch_norm_0(input_tensor)\n",
    "        relu_0_out = relu_0(batch_norm_0_out)\n",
    "        conv_0_out = conv_0(relu_0_out)\n",
    "\n",
    "        batch_norm_1_out = batch_norm_1(conv_0_out)\n",
    "        relu_1_out = relu_1(batch_norm_1_out)\n",
    "        \n",
    "        if drop_rate > 0.0 :\n",
    "            conv_1_out = drop_1(conv_1(relu_1_out))\n",
    "        else :\n",
    "            conv_1_out = conv_1(relu_1_out)\n",
    "\n",
    "        skip_1_out = skip_1([conv_1_out, input_tensor])\n",
    "        \n",
    "        return skip_1_out\n",
    "\n",
    "    return _resblock_func\n",
    "\n",
    "def load_scrambler_network(n_groups=1, n_resblocks_per_group=4, n_channels=32, window_size=8, dilation_rates=[1], drop_rate=0.0) :\n",
    "\n",
    "    #Discriminator network definition\n",
    "    conv_0 = Conv2D(n_channels, (1, 1), strides=(1, 1), padding='same', activation='linear', kernel_initializer='glorot_normal', name='scrambler_conv_0')\n",
    "    \n",
    "    skip_convs = []\n",
    "    resblock_groups = []\n",
    "    for group_ix in range(n_groups) :\n",
    "        \n",
    "        skip_convs.append(Conv2D(n_channels, (1, 1), strides=(1, 1), padding='same', activation='linear', kernel_initializer='glorot_normal', name='scrambler_skip_conv_' + str(group_ix)))\n",
    "        \n",
    "        resblocks = []\n",
    "        for layer_ix in range(n_resblocks_per_group) :\n",
    "            resblocks.append(make_resblock(n_channels=n_channels, window_size=window_size, dilation_rate=dilation_rates[group_ix], group_ix=group_ix, layer_ix=layer_ix, drop_rate=drop_rate))\n",
    "        \n",
    "        resblock_groups.append(resblocks)\n",
    "\n",
    "    last_block_conv = Conv2D(n_channels, (1, 1), strides=(1, 1), padding='same', activation='linear', kernel_initializer='glorot_normal', name='scrambler_last_block_conv')\n",
    "    \n",
    "    skip_add = Lambda(lambda x: x[0] + x[1], name='scrambler_skip_add')\n",
    "    \n",
    "    final_conv_2_channels = Conv2D(2, (1, 1), strides=(1, 1), padding='same', activation='linear', kernel_initializer='glorot_normal', name='scrambler_final_conv')\n",
    "    \n",
    "    final_conv_sigm = Lambda(lambda x: K.softmax(x, axis=-1)[..., :1])\n",
    "    final_conv_gumbel = Lambda(lambda x: sample_mask_gumbel(x))\n",
    "    \n",
    "    scale_inputs = Lambda(lambda x: x[1] * K.tile(x[0], (1, 1, 1, 4)), name='scrambler_input_scale')\n",
    "    \n",
    "    def _scrambler_func(sequence_input) :\n",
    "        conv_0_out = conv_0(sequence_input)\n",
    "\n",
    "        #Connect group of res blocks\n",
    "        output_tensor = conv_0_out\n",
    "\n",
    "        #Res block group execution\n",
    "        skip_conv_outs = []\n",
    "        for group_ix in range(n_groups) :\n",
    "            skip_conv_out = skip_convs[group_ix](output_tensor)\n",
    "            skip_conv_outs.append(skip_conv_out)\n",
    "\n",
    "            for layer_ix in range(n_resblocks_per_group) :\n",
    "                output_tensor = resblock_groups[group_ix][layer_ix](output_tensor)\n",
    "        \n",
    "        #Last res block extr conv\n",
    "        last_block_conv_out = last_block_conv(output_tensor)\n",
    "\n",
    "        skip_add_out = last_block_conv_out\n",
    "        for group_ix in range(n_groups) :\n",
    "            skip_add_out = skip_add([skip_add_out, skip_conv_outs[group_ix]])\n",
    "\n",
    "        #Final conv out\n",
    "        final_conv_2_channels_out = final_conv_2_channels(skip_add_out)\n",
    "        \n",
    "        final_conv_sigm_out = final_conv_sigm(final_conv_2_channels_out)\n",
    "        final_conv_gumbel_out = final_conv_gumbel(final_conv_2_channels_out)\n",
    "        \n",
    "        #Scale inputs by importance scores\n",
    "        scaled_inputs = scale_inputs([final_conv_gumbel_out, sequence_input])\n",
    "        \n",
    "        return scaled_inputs, final_conv_sigm_out, final_conv_2_channels_out\n",
    "\n",
    "    return _scrambler_func\n"
   ]
  },
  {
   "cell_type": "code",
   "execution_count": 10,
   "metadata": {
    "scrolled": true
   },
   "outputs": [],
   "source": [
    "#Keras loss functions\n",
    "\n",
    "def get_margin_lum_ame_masked(pwm_start, pwm_end, max_lum=1.0) :\n",
    "    \n",
    "    def _margin_lum_ame(importance_scores, pwm_mask) :\n",
    "        p_ons = importance_scores[:, 0, pwm_start:pwm_end, 0]\n",
    "        \n",
    "        mask = K.max(pwm_mask[:, 0, pwm_start:pwm_end, :], axis=-1)\n",
    "        n_unmasked = K.sum(mask, axis=-1)\n",
    "        \n",
    "        mean_p_on = K.switch(n_unmasked > 0, K.sum(p_ons * mask, axis=-1) / n_unmasked, K.ones_like(p_ons[..., 0]) * max_lum)\n",
    "\n",
    "        margin_p_on = K.switch(mean_p_on > max_lum, mean_p_on - max_lum, K.zeros_like(mean_p_on))\n",
    "    \n",
    "        return margin_p_on\n",
    "    \n",
    "    return _margin_lum_ame\n",
    "\n",
    "def get_target_lum_sme_masked(pwm_start, pwm_end, target_lum=1.0) :\n",
    "    \n",
    "    def _target_lum_sme(importance_scores, pwm_mask) :\n",
    "        p_ons = importance_scores[:, 0, pwm_start:pwm_end, 0]\n",
    "        \n",
    "        mask = K.max(pwm_mask[:, 0, pwm_start:pwm_end, :], axis=-1)\n",
    "        n_unmasked = K.sum(mask, axis=-1)\n",
    "        \n",
    "        mean_p_on = K.switch(n_unmasked > 0, K.sum(p_ons * mask, axis=-1) / n_unmasked, K.ones_like(p_ons[..., 0]) * target_lum)\n",
    "        \n",
    "        return (mean_p_on - target_lum)**2\n",
    "    \n",
    "    return _target_lum_sme\n",
    "\n",
    "def get_weighted_loss(loss_coeff=1.) :\n",
    "    \n",
    "    def _min_pred(y_true, y_pred) :\n",
    "        return loss_coeff * y_pred\n",
    "    \n",
    "    return _min_pred\n",
    "\n",
    "def get_mse(loss_coeff=1.) :\n",
    "    #returns mse function for optimus \n",
    "    def _mse(y_true, y_pred):\n",
    "        return K.mean((y_true - y_pred)**2, axis=-1)\n",
    "    return _mse\n"
   ]
  },
  {
   "cell_type": "code",
   "execution_count": 11,
   "metadata": {},
   "outputs": [],
   "source": [
    "#Initialize Encoder and Decoder networks\n",
    "batch_size = 32\n",
    "seq_length = 50\n",
    "\n",
    "#Resnet parameters\n",
    "resnet_n_groups = 5\n",
    "resnet_n_resblocks_per_group = 4\n",
    "resnet_n_channels = 32\n",
    "resnet_window_size = 3\n",
    "resnet_dilation_rates = [1, 2, 4, 2, 1]\n",
    "resnet_drop_rate = 0.0\n",
    "\n",
    "#Load scrambler\n",
    "scrambler = load_scrambler_network(\n",
    "    n_groups=resnet_n_groups,\n",
    "    n_resblocks_per_group=resnet_n_resblocks_per_group,\n",
    "    n_channels=resnet_n_channels, window_size=resnet_window_size,\n",
    "    dilation_rates=resnet_dilation_rates,\n",
    "    drop_rate=resnet_drop_rate\n",
    ")\n",
    "\n",
    "#Load sampler\n",
    "sampler = build_sampler(batch_size, seq_length, n_classes=1)\n"
   ]
  },
  {
   "cell_type": "code",
   "execution_count": 12,
   "metadata": {
    "scrolled": true
   },
   "outputs": [],
   "source": [
    "#Load Predictor\n",
    "predictor_path = 'optimusRetrainedMain.hdf5'\n",
    "\n",
    "predictor = load_model(predictor_path)\n",
    "\n",
    "predictor.trainable = False\n",
    "predictor.compile(optimizer=keras.optimizers.SGD(lr=0.1), loss='mean_squared_error')\n"
   ]
  },
  {
   "cell_type": "code",
   "execution_count": 13,
   "metadata": {
    "scrolled": true
   },
   "outputs": [
    {
     "name": "stdout",
     "output_type": "stream",
     "text": [
      "\n",
      "WARNING: The TensorFlow contrib module will not be included in TensorFlow 2.0.\n",
      "For more information, please see:\n",
      "  * https://github.com/tensorflow/community/blob/master/rfcs/20180907-contrib-sunset.md\n",
      "  * https://github.com/tensorflow/addons\n",
      "If you depend on functionality not listed there, please file an issue.\n",
      "\n"
     ]
    }
   ],
   "source": [
    "#Build scrambler model\n",
    "scrambler_class = Input(shape=(1,), name='scrambler_class')\n",
    "scrambler_input = Input(shape=(1, seq_length, 4), name='scrambler_input')\n",
    "\n",
    "scaled_pwm, importance_scores, importance_scores_log = scrambler(scrambler_input)\n",
    "\n",
    "sampled_pwm, _ = sampler(scrambler_class, scaled_pwm)\n",
    "\n",
    "scrambler_model = Model([scrambler_input, scrambler_class], [sampled_pwm, importance_scores, importance_scores_log])\n",
    "\n",
    "#Initialize Sequence Templates and Masks\n",
    "initialize_sequence_templates(scrambler_model, [sequence_template])\n",
    "\n",
    "scrambler_model.compile(\n",
    "    optimizer=keras.optimizers.Adam(lr=0.001, beta_1=0.9, beta_2=0.999),\n",
    "    loss='mean_squared_error'\n",
    ")\n"
   ]
  },
  {
   "cell_type": "code",
   "execution_count": 14,
   "metadata": {
    "scrolled": true
   },
   "outputs": [],
   "source": [
    "#Build Auto-scrambler pipeline\n",
    "\n",
    "#Define model inputs\n",
    "ae_scrambler_class = Input(shape=(1,), name='ae_scrambler_class')\n",
    "ae_scrambler_input = Input(shape=(1, seq_length, 4), name='ae_scrambler_input')\n",
    "\n",
    "#Run encoder and decoder\n",
    "scaled_pwm, importance_scores, importance_scores_log = scrambler(ae_scrambler_input)\n",
    "\n",
    "scrambled_sample, pwm_mask = sampler(ae_scrambler_class, scaled_pwm)\n",
    "\n",
    "def _make_prediction(inputs, predictor=predictor) :\n",
    "    pred_seq_in = inputs\n",
    "     \n",
    "    pred_seq_in_perm = tf.squeeze(pred_seq_in, 1)\n",
    "    \n",
    "    outputs = predictor(pred_seq_in_perm)\n",
    "    \n",
    "    return outputs\n",
    "\n",
    "def _make_prediction_scrambled(inputs, predictor=predictor) :\n",
    "    pred_seq_in = inputs\n",
    "     \n",
    "    pred_seq_in_perm = tf.squeeze(pred_seq_in, 1)\n",
    "    \n",
    "    outputs = predictor(pred_seq_in_perm)\n",
    "    \n",
    "    return outputs\n",
    "\n",
    "#Make reference prediction on non-scrambled input sequence\n",
    "y_pred_non_scrambled = Lambda(_make_prediction, name='make_prediction_non_scrambled')(ae_scrambler_input)\n",
    "\n",
    "#Make prediction on scrambled sequence samples\n",
    "y_pred_scrambled = Lambda(_make_prediction_scrambled, name='make_prediction_scrambled')(scrambled_sample)\n",
    "\n",
    "#Cost function parameters\n",
    "pwm_start = 0\n",
    "pwm_end = 50\n",
    "target_lum = 0.1\n",
    "\n",
    "#OPTIMUS: switched to MSE \n",
    "mse_loss_func = get_mse()\n",
    "\n",
    "#Conservation cost\n",
    "conservation_loss_func = get_target_lum_sme_masked(pwm_start=pwm_start, pwm_end=pwm_end, target_lum=0.5)\n",
    "\n",
    "#Entropy cost\n",
    "entropy_loss_func = get_target_lum_sme_masked(pwm_start=pwm_start, pwm_end=pwm_end, target_lum=target_lum)\n",
    "#entropy_loss_func = get_margin_lum_ame_masked(pwm_start=pwm_start, pwm_end=pwm_end, max_lum=target_lum)\n",
    "\n",
    "#Define annealing coefficient\n",
    "anneal_coeff = K.variable(1.0)\n",
    "\n",
    "#Execute NLL cost\n",
    "mse_loss = Lambda(lambda x: mse_loss_func(x[0][..., None], x[1][..., None]), name='mse')([y_pred_non_scrambled, y_pred_scrambled])\n",
    "\n",
    "#Execute conservation cost\n",
    "conservation_loss = Lambda(lambda x: anneal_coeff * conservation_loss_func(x[0], x[1]), name='conservation')([importance_scores, pwm_mask])\n",
    "\n",
    "#Execute entropy cost\n",
    "entropy_loss = Lambda(lambda x: (1. - anneal_coeff) * entropy_loss_func(x[0], x[1]), name='entropy')([importance_scores, pwm_mask])\n",
    "\n",
    "loss_model = Model(\n",
    "    [ae_scrambler_class, ae_scrambler_input],\n",
    "    [mse_loss, conservation_loss, entropy_loss]\n",
    ")\n",
    "\n",
    "#Initialize Sequence Templates and Masks\n",
    "initialize_sequence_templates(loss_model, [sequence_template])\n",
    "\n",
    "opt = keras.optimizers.Adam(lr=0.0001, beta_1=0.5, beta_2=0.9)\n",
    "\n",
    "loss_model.compile(\n",
    "    optimizer=opt,\n",
    "    loss={\n",
    "        'mse' : get_weighted_loss(loss_coeff=1.0),\n",
    "        'conservation' : get_weighted_loss(loss_coeff=1.0),\n",
    "        'entropy' : get_weighted_loss(loss_coeff=10.0)\n",
    "    }\n",
    ")\n"
   ]
  },
  {
   "cell_type": "code",
   "execution_count": 15,
   "metadata": {
    "scrolled": true
   },
   "outputs": [
    {
     "name": "stdout",
     "output_type": "stream",
     "text": [
      "Model save name = autoscrambler_dataset_egfp_unmod_1_resnet_5_4_32_3_00_n_epochs_50_target_lum_01_synth_weight_10_gumbel_no_bg_lum\n"
     ]
    }
   ],
   "source": [
    "#Training configuration\n",
    "\n",
    "#Define number of training epochs\n",
    "n_epochs = 50\n",
    "\n",
    "#Define experiment suffix (optional)\n",
    "experiment_suffix = \"_synth_weight_10_gumbel_no_bg_lum\"\n",
    "\n",
    "#Define anneal function\n",
    "def _anneal_func(val, epoch, n_epochs=n_epochs) :\n",
    "    if epoch in [0] :\n",
    "        return 1.0\n",
    "    \n",
    "    return 0.0\n",
    "\n",
    "architecture_str = \"resnet_\" + str(resnet_n_groups) + \"_\" + str(resnet_n_resblocks_per_group) + \"_\" + str(resnet_n_channels) + \"_\" + str(resnet_window_size) + \"_\" + str(resnet_drop_rate).replace(\".\", \"\")\n",
    "\n",
    "dataset_name = \"egfp_unmod_1\"\n",
    "\n",
    "model_name = \"autoscrambler_dataset_\" + dataset_name + \"_\" + architecture_str + \"_n_epochs_\" + str(n_epochs) + \"_target_lum_\" + str(target_lum).replace(\".\", \"\") + experiment_suffix\n",
    "\n",
    "print(\"Model save name = \" + model_name)\n"
   ]
  },
  {
   "cell_type": "code",
   "execution_count": 26,
   "metadata": {
    "scrolled": true
   },
   "outputs": [
    {
     "name": "stdout",
     "output_type": "stream",
     "text": [
      "Train on 15008 samples, validate on 3200 samples\n",
      "Epoch 1/50\n",
      "15008/15008 [==============================] - 59s 4ms/step - loss: 0.3432 - mse_loss: 0.2084 - conservation_loss: 0.1348 - entropy_loss: 0.0000e+00 - val_loss: 0.2085 - val_mse_loss: 0.1600 - val_conservation_loss: 0.0485 - val_entropy_loss: 0.0000e+00\n",
      "Epoch 2/50\n",
      "15008/15008 [==============================] - 37s 2ms/step - loss: 0.8882 - mse_loss: 0.6659 - conservation_loss: 0.0000e+00 - entropy_loss: 0.2223 - val_loss: 0.5698 - val_mse_loss: 0.4394 - val_conservation_loss: 0.0000e+00 - val_entropy_loss: 0.1303\n",
      "Epoch 3/50\n",
      "15008/15008 [==============================] - 38s 3ms/step - loss: 0.5761 - mse_loss: 0.4721 - conservation_loss: 0.0000e+00 - entropy_loss: 0.1040 - val_loss: 0.5428 - val_mse_loss: 0.4736 - val_conservation_loss: 0.0000e+00 - val_entropy_loss: 0.0692\n",
      "Epoch 4/50\n",
      "15008/15008 [==============================] - 39s 3ms/step - loss: 0.4601 - mse_loss: 0.3710 - conservation_loss: 0.0000e+00 - entropy_loss: 0.0891 - val_loss: 0.3751 - val_mse_loss: 0.3318 - val_conservation_loss: 0.0000e+00 - val_entropy_loss: 0.0432\n",
      "Epoch 5/50\n",
      "15008/15008 [==============================] - 38s 3ms/step - loss: 0.3669 - mse_loss: 0.2816 - conservation_loss: 0.0000e+00 - entropy_loss: 0.0853 - val_loss: 0.2974 - val_mse_loss: 0.2405 - val_conservation_loss: 0.0000e+00 - val_entropy_loss: 0.0569\n",
      "Epoch 6/50\n",
      "15008/15008 [==============================] - 39s 3ms/step - loss: 0.3138 - mse_loss: 0.2343 - conservation_loss: 0.0000e+00 - entropy_loss: 0.0796 - val_loss: 0.2843 - val_mse_loss: 0.2288 - val_conservation_loss: 0.0000e+00 - val_entropy_loss: 0.0555\n",
      "Epoch 7/50\n",
      "15008/15008 [==============================] - 38s 3ms/step - loss: 0.2907 - mse_loss: 0.2212 - conservation_loss: 0.0000e+00 - entropy_loss: 0.0695 - val_loss: 0.2746 - val_mse_loss: 0.2336 - val_conservation_loss: 0.0000e+00 - val_entropy_loss: 0.0410\n",
      "Epoch 8/50\n",
      "15008/15008 [==============================] - 38s 3ms/step - loss: 0.2757 - mse_loss: 0.2075 - conservation_loss: 0.0000e+00 - entropy_loss: 0.0681 - val_loss: 0.2702 - val_mse_loss: 0.2367 - val_conservation_loss: 0.0000e+00 - val_entropy_loss: 0.0335\n",
      "Epoch 9/50\n",
      "15008/15008 [==============================] - 37s 2ms/step - loss: 0.2678 - mse_loss: 0.2040 - conservation_loss: 0.0000e+00 - entropy_loss: 0.0638 - val_loss: 0.2517 - val_mse_loss: 0.2139 - val_conservation_loss: 0.0000e+00 - val_entropy_loss: 0.0378\n",
      "Epoch 10/50\n",
      "15008/15008 [==============================] - 39s 3ms/step - loss: 0.2562 - mse_loss: 0.1964 - conservation_loss: 0.0000e+00 - entropy_loss: 0.0597 - val_loss: 0.2979 - val_mse_loss: 0.2687 - val_conservation_loss: 0.0000e+00 - val_entropy_loss: 0.0291\n",
      "Epoch 11/50\n",
      "15008/15008 [==============================] - 39s 3ms/step - loss: 0.2525 - mse_loss: 0.1891 - conservation_loss: 0.0000e+00 - entropy_loss: 0.0634 - val_loss: 0.2469 - val_mse_loss: 0.2044 - val_conservation_loss: 0.0000e+00 - val_entropy_loss: 0.0425\n",
      "Epoch 12/50\n",
      "15008/15008 [==============================] - 38s 3ms/step - loss: 0.2469 - mse_loss: 0.1897 - conservation_loss: 0.0000e+00 - entropy_loss: 0.0572 - val_loss: 0.2613 - val_mse_loss: 0.2216 - val_conservation_loss: 0.0000e+00 - val_entropy_loss: 0.0397\n",
      "Epoch 13/50\n",
      "15008/15008 [==============================] - 38s 3ms/step - loss: 0.2396 - mse_loss: 0.1823 - conservation_loss: 0.0000e+00 - entropy_loss: 0.0573 - val_loss: 0.2297 - val_mse_loss: 0.1870 - val_conservation_loss: 0.0000e+00 - val_entropy_loss: 0.0427\n",
      "Epoch 14/50\n",
      "15008/15008 [==============================] - 38s 3ms/step - loss: 0.2388 - mse_loss: 0.1845 - conservation_loss: 0.0000e+00 - entropy_loss: 0.0543 - val_loss: 0.2307 - val_mse_loss: 0.1995 - val_conservation_loss: 0.0000e+00 - val_entropy_loss: 0.0312\n",
      "Epoch 15/50\n",
      "15008/15008 [==============================] - 39s 3ms/step - loss: 0.2336 - mse_loss: 0.1795 - conservation_loss: 0.0000e+00 - entropy_loss: 0.0541 - val_loss: 0.2402 - val_mse_loss: 0.2115 - val_conservation_loss: 0.0000e+00 - val_entropy_loss: 0.0287\n",
      "Epoch 16/50\n",
      "15008/15008 [==============================] - 39s 3ms/step - loss: 0.2344 - mse_loss: 0.1838 - conservation_loss: 0.0000e+00 - entropy_loss: 0.0507 - val_loss: 0.2114 - val_mse_loss: 0.1738 - val_conservation_loss: 0.0000e+00 - val_entropy_loss: 0.0376\n",
      "Epoch 17/50\n",
      "15008/15008 [==============================] - 38s 3ms/step - loss: 0.2291 - mse_loss: 0.1828 - conservation_loss: 0.0000e+00 - entropy_loss: 0.0463 - val_loss: 0.2171 - val_mse_loss: 0.1817 - val_conservation_loss: 0.0000e+00 - val_entropy_loss: 0.0354\n",
      "Epoch 18/50\n",
      "15008/15008 [==============================] - 38s 3ms/step - loss: 0.2361 - mse_loss: 0.1903 - conservation_loss: 0.0000e+00 - entropy_loss: 0.0458 - val_loss: 0.2371 - val_mse_loss: 0.2118 - val_conservation_loss: 0.0000e+00 - val_entropy_loss: 0.0252\n",
      "Epoch 19/50\n",
      "15008/15008 [==============================] - 38s 3ms/step - loss: 0.2270 - mse_loss: 0.1797 - conservation_loss: 0.0000e+00 - entropy_loss: 0.0473 - val_loss: 0.1975 - val_mse_loss: 0.1556 - val_conservation_loss: 0.0000e+00 - val_entropy_loss: 0.0418\n",
      "Epoch 20/50\n",
      "15008/15008 [==============================] - 38s 3ms/step - loss: 0.2293 - mse_loss: 0.1857 - conservation_loss: 0.0000e+00 - entropy_loss: 0.0435 - val_loss: 0.1987 - val_mse_loss: 0.1688 - val_conservation_loss: 0.0000e+00 - val_entropy_loss: 0.0299\n",
      "Epoch 21/50\n",
      "15008/15008 [==============================] - 39s 3ms/step - loss: 0.2274 - mse_loss: 0.1822 - conservation_loss: 0.0000e+00 - entropy_loss: 0.0452 - val_loss: 0.1921 - val_mse_loss: 0.1622 - val_conservation_loss: 0.0000e+00 - val_entropy_loss: 0.0299\n",
      "Epoch 22/50\n",
      "15008/15008 [==============================] - 39s 3ms/step - loss: 0.2273 - mse_loss: 0.1843 - conservation_loss: 0.0000e+00 - entropy_loss: 0.0430 - val_loss: 0.1849 - val_mse_loss: 0.1553 - val_conservation_loss: 0.0000e+00 - val_entropy_loss: 0.0296\n",
      "Epoch 23/50\n",
      "15008/15008 [==============================] - 41s 3ms/step - loss: 0.2212 - mse_loss: 0.1753 - conservation_loss: 0.0000e+00 - entropy_loss: 0.0459 - val_loss: 0.1816 - val_mse_loss: 0.1493 - val_conservation_loss: 0.0000e+00 - val_entropy_loss: 0.0323\n",
      "Epoch 24/50\n",
      "15008/15008 [==============================] - 40s 3ms/step - loss: 0.2151 - mse_loss: 0.1719 - conservation_loss: 0.0000e+00 - entropy_loss: 0.0432 - val_loss: 0.1951 - val_mse_loss: 0.1633 - val_conservation_loss: 0.0000e+00 - val_entropy_loss: 0.0318\n",
      "Epoch 25/50\n",
      "15008/15008 [==============================] - 40s 3ms/step - loss: 0.2137 - mse_loss: 0.1723 - conservation_loss: 0.0000e+00 - entropy_loss: 0.0414 - val_loss: 0.1779 - val_mse_loss: 0.1532 - val_conservation_loss: 0.0000e+00 - val_entropy_loss: 0.0247\n",
      "Epoch 26/50\n",
      "15008/15008 [==============================] - 39s 3ms/step - loss: 0.2143 - mse_loss: 0.1737 - conservation_loss: 0.0000e+00 - entropy_loss: 0.0406 - val_loss: 0.1854 - val_mse_loss: 0.1585 - val_conservation_loss: 0.0000e+00 - val_entropy_loss: 0.0269\n",
      "Epoch 27/50\n",
      "15008/15008 [==============================] - 38s 3ms/step - loss: 0.2150 - mse_loss: 0.1760 - conservation_loss: 0.0000e+00 - entropy_loss: 0.0390 - val_loss: 0.1900 - val_mse_loss: 0.1656 - val_conservation_loss: 0.0000e+00 - val_entropy_loss: 0.0244\n",
      "Epoch 28/50\n",
      "15008/15008 [==============================] - 38s 3ms/step - loss: 0.2060 - mse_loss: 0.1681 - conservation_loss: 0.0000e+00 - entropy_loss: 0.0378 - val_loss: 0.2137 - val_mse_loss: 0.1911 - val_conservation_loss: 0.0000e+00 - val_entropy_loss: 0.0226\n",
      "Epoch 29/50\n",
      "15008/15008 [==============================] - 39s 3ms/step - loss: 0.2061 - mse_loss: 0.1676 - conservation_loss: 0.0000e+00 - entropy_loss: 0.0385 - val_loss: 0.1678 - val_mse_loss: 0.1464 - val_conservation_loss: 0.0000e+00 - val_entropy_loss: 0.0214\n",
      "Epoch 30/50\n",
      "15008/15008 [==============================] - 38s 3ms/step - loss: 0.2036 - mse_loss: 0.1620 - conservation_loss: 0.0000e+00 - entropy_loss: 0.0416 - val_loss: 0.1776 - val_mse_loss: 0.1470 - val_conservation_loss: 0.0000e+00 - val_entropy_loss: 0.0306\n",
      "Epoch 31/50\n",
      "15008/15008 [==============================] - 39s 3ms/step - loss: 0.2056 - mse_loss: 0.1676 - conservation_loss: 0.0000e+00 - entropy_loss: 0.0380 - val_loss: 0.2342 - val_mse_loss: 0.2123 - val_conservation_loss: 0.0000e+00 - val_entropy_loss: 0.0220\n"
     ]
    },
    {
     "name": "stdout",
     "output_type": "stream",
     "text": [
      "Epoch 32/50\n",
      "15008/15008 [==============================] - 39s 3ms/step - loss: 0.2049 - mse_loss: 0.1673 - conservation_loss: 0.0000e+00 - entropy_loss: 0.0377 - val_loss: 0.1800 - val_mse_loss: 0.1515 - val_conservation_loss: 0.0000e+00 - val_entropy_loss: 0.0284\n",
      "Epoch 33/50\n",
      "15008/15008 [==============================] - 39s 3ms/step - loss: 0.2043 - mse_loss: 0.1676 - conservation_loss: 0.0000e+00 - entropy_loss: 0.0366 - val_loss: 0.1772 - val_mse_loss: 0.1494 - val_conservation_loss: 0.0000e+00 - val_entropy_loss: 0.0278\n",
      "Epoch 34/50\n",
      "15008/15008 [==============================] - 38s 3ms/step - loss: 0.2057 - mse_loss: 0.1666 - conservation_loss: 0.0000e+00 - entropy_loss: 0.0391 - val_loss: 0.1794 - val_mse_loss: 0.1584 - val_conservation_loss: 0.0000e+00 - val_entropy_loss: 0.0210\n",
      "Epoch 35/50\n",
      "15008/15008 [==============================] - 38s 3ms/step - loss: 0.2031 - mse_loss: 0.1691 - conservation_loss: 0.0000e+00 - entropy_loss: 0.0340 - val_loss: 0.2240 - val_mse_loss: 0.2077 - val_conservation_loss: 0.0000e+00 - val_entropy_loss: 0.0163\n",
      "Epoch 36/50\n",
      "15008/15008 [==============================] - 38s 3ms/step - loss: 0.2009 - mse_loss: 0.1656 - conservation_loss: 0.0000e+00 - entropy_loss: 0.0353 - val_loss: 0.1931 - val_mse_loss: 0.1680 - val_conservation_loss: 0.0000e+00 - val_entropy_loss: 0.0251\n",
      "Epoch 37/50\n",
      "15008/15008 [==============================] - 38s 3ms/step - loss: 0.2054 - mse_loss: 0.1730 - conservation_loss: 0.0000e+00 - entropy_loss: 0.0324 - val_loss: 0.1879 - val_mse_loss: 0.1676 - val_conservation_loss: 0.0000e+00 - val_entropy_loss: 0.0203\n",
      "Epoch 38/50\n",
      "15008/15008 [==============================] - 39s 3ms/step - loss: 0.1987 - mse_loss: 0.1609 - conservation_loss: 0.0000e+00 - entropy_loss: 0.0378 - val_loss: 0.1764 - val_mse_loss: 0.1539 - val_conservation_loss: 0.0000e+00 - val_entropy_loss: 0.0225\n",
      "Epoch 39/50\n",
      "15008/15008 [==============================] - 40s 3ms/step - loss: 0.2020 - mse_loss: 0.1690 - conservation_loss: 0.0000e+00 - entropy_loss: 0.0330 - val_loss: 0.1670 - val_mse_loss: 0.1396 - val_conservation_loss: 0.0000e+00 - val_entropy_loss: 0.0274\n",
      "Epoch 40/50\n",
      "15008/15008 [==============================] - 39s 3ms/step - loss: 0.1977 - mse_loss: 0.1663 - conservation_loss: 0.0000e+00 - entropy_loss: 0.0314 - val_loss: 0.2127 - val_mse_loss: 0.1915 - val_conservation_loss: 0.0000e+00 - val_entropy_loss: 0.0212\n",
      "Epoch 41/50\n",
      "15008/15008 [==============================] - 39s 3ms/step - loss: 0.2000 - mse_loss: 0.1671 - conservation_loss: 0.0000e+00 - entropy_loss: 0.0329 - val_loss: 0.1745 - val_mse_loss: 0.1539 - val_conservation_loss: 0.0000e+00 - val_entropy_loss: 0.0206\n",
      "Epoch 42/50\n",
      "15008/15008 [==============================] - 39s 3ms/step - loss: 0.2037 - mse_loss: 0.1721 - conservation_loss: 0.0000e+00 - entropy_loss: 0.0316 - val_loss: 0.1700 - val_mse_loss: 0.1484 - val_conservation_loss: 0.0000e+00 - val_entropy_loss: 0.0216\n",
      "Epoch 43/50\n",
      "15008/15008 [==============================] - 39s 3ms/step - loss: 0.1936 - mse_loss: 0.1616 - conservation_loss: 0.0000e+00 - entropy_loss: 0.0320 - val_loss: 0.1694 - val_mse_loss: 0.1450 - val_conservation_loss: 0.0000e+00 - val_entropy_loss: 0.0244\n",
      "Epoch 44/50\n",
      "15008/15008 [==============================] - 38s 3ms/step - loss: 0.1985 - mse_loss: 0.1672 - conservation_loss: 0.0000e+00 - entropy_loss: 0.0313 - val_loss: 0.1898 - val_mse_loss: 0.1671 - val_conservation_loss: 0.0000e+00 - val_entropy_loss: 0.0228\n",
      "Epoch 45/50\n",
      "15008/15008 [==============================] - 38s 3ms/step - loss: 0.1950 - mse_loss: 0.1616 - conservation_loss: 0.0000e+00 - entropy_loss: 0.0334 - val_loss: 0.1931 - val_mse_loss: 0.1736 - val_conservation_loss: 0.0000e+00 - val_entropy_loss: 0.0195\n",
      "Epoch 46/50\n",
      "15008/15008 [==============================] - 39s 3ms/step - loss: 0.1940 - mse_loss: 0.1644 - conservation_loss: 0.0000e+00 - entropy_loss: 0.0296 - val_loss: 0.2196 - val_mse_loss: 0.2034 - val_conservation_loss: 0.0000e+00 - val_entropy_loss: 0.0162\n",
      "Epoch 47/50\n",
      "15008/15008 [==============================] - 39s 3ms/step - loss: 0.1910 - mse_loss: 0.1591 - conservation_loss: 0.0000e+00 - entropy_loss: 0.0320 - val_loss: 0.1932 - val_mse_loss: 0.1748 - val_conservation_loss: 0.0000e+00 - val_entropy_loss: 0.0185\n",
      "Epoch 48/50\n",
      "15008/15008 [==============================] - 39s 3ms/step - loss: 0.1942 - mse_loss: 0.1636 - conservation_loss: 0.0000e+00 - entropy_loss: 0.0306 - val_loss: 0.2027 - val_mse_loss: 0.1858 - val_conservation_loss: 0.0000e+00 - val_entropy_loss: 0.0169\n",
      "Epoch 49/50\n",
      "15008/15008 [==============================] - 39s 3ms/step - loss: 0.1911 - mse_loss: 0.1608 - conservation_loss: 0.0000e+00 - entropy_loss: 0.0303 - val_loss: 0.1626 - val_mse_loss: 0.1425 - val_conservation_loss: 0.0000e+00 - val_entropy_loss: 0.0200\n",
      "Epoch 50/50\n",
      "15008/15008 [==============================] - 38s 3ms/step - loss: 0.1925 - mse_loss: 0.1632 - conservation_loss: 0.0000e+00 - entropy_loss: 0.0293 - val_loss: 0.1924 - val_mse_loss: 0.1732 - val_conservation_loss: 0.0000e+00 - val_entropy_loss: 0.0192\n"
     ]
    }
   ],
   "source": [
    "#Execute training procedure\n",
    "\n",
    "callbacks =[\n",
    "    EpochVariableCallback(anneal_coeff, _anneal_func)\n",
    "]\n",
    "\n",
    "s_train = np.zeros((x_train.shape[0], 1))\n",
    "s_test = np.zeros((x_test.shape[0], 1))\n",
    "\n",
    "# train the autoencoder\n",
    "train_history = loss_model.fit(\n",
    "    [s_train, x_train],\n",
    "    [s_train, s_train, s_train],\n",
    "    shuffle=True,\n",
    "    epochs=n_epochs,\n",
    "    batch_size=batch_size,\n",
    "    validation_data=(\n",
    "        [s_test, x_test],\n",
    "        [s_test, s_test, s_test]\n",
    "    ),\n",
    "    callbacks=callbacks\n",
    ")\n"
   ]
  },
  {
   "cell_type": "code",
   "execution_count": 27,
   "metadata": {
    "scrolled": true
   },
   "outputs": [
    {
     "data": {
      "image/png": "[encoded data removed]",
      "text/plain": [
       "<Figure size 864x216 with 3 Axes>"
      ]
     },
     "metadata": {},
     "output_type": "display_data"
    }
   ],
   "source": [
    "\n",
    "f, (ax1, ax2, ax3) = plt.subplots(1, 3, figsize=(3 * 4, 3))\n",
    "\n",
    "n_epochs_actual = len(train_history.history['mse_loss'])\n",
    "\n",
    "ax1.plot(np.arange(1, n_epochs_actual + 1), train_history.history['mse_loss'], linewidth=3, color='green')\n",
    "ax1.plot(np.arange(1, n_epochs_actual + 1), train_history.history['val_mse_loss'], linewidth=3, color='orange')\n",
    "\n",
    "plt.sca(ax1)\n",
    "plt.xlabel(\"Epochs\", fontsize=14)\n",
    "plt.ylabel(\"MSE\", fontsize=14)\n",
    "plt.xlim(1, n_epochs_actual)\n",
    "plt.xticks([1, n_epochs_actual], [1, n_epochs_actual], fontsize=12)\n",
    "plt.yticks(fontsize=12)\n",
    "\n",
    "ax2.plot(np.arange(1, n_epochs_actual + 1), train_history.history['entropy_loss'], linewidth=3, color='green')\n",
    "ax2.plot(np.arange(1, n_epochs_actual + 1), train_history.history['val_entropy_loss'], linewidth=3, color='orange')\n",
    "\n",
    "plt.sca(ax2)\n",
    "plt.xlabel(\"Epochs\", fontsize=14)\n",
    "plt.ylabel(\"Entropy Loss\", fontsize=14)\n",
    "plt.xlim(1, n_epochs_actual)\n",
    "plt.xticks([1, n_epochs_actual], [1, n_epochs_actual], fontsize=12)\n",
    "plt.yticks(fontsize=12)\n",
    "\n",
    "ax3.plot(np.arange(1, n_epochs_actual + 1), train_history.history['conservation_loss'], linewidth=3, color='green')\n",
    "ax3.plot(np.arange(1, n_epochs_actual + 1), train_history.history['val_conservation_loss'], linewidth=3, color='orange')\n",
    "\n",
    "plt.sca(ax3)\n",
    "plt.xlabel(\"Epochs\", fontsize=14)\n",
    "plt.ylabel(\"Conservation Loss\", fontsize=14)\n",
    "plt.xlim(1, n_epochs_actual)\n",
    "plt.xticks([1, n_epochs_actual], [1, n_epochs_actual], fontsize=12)\n",
    "plt.yticks(fontsize=12)\n",
    "\n",
    "plt.tight_layout()\n",
    "\n",
    "plt.show()\n"
   ]
  },
  {
   "cell_type": "code",
   "execution_count": 28,
   "metadata": {},
   "outputs": [
    {
     "name": "stdout",
     "output_type": "stream",
     "text": [
      "Saved scrambler model at saved_models/autoscrambler_dataset_egfp_unmod_1_resnet_5_4_32_3_00_n_epochs_50_target_lum_01_synth_weight_10_gumbel_no_bg_lum.h5 \n"
     ]
    }
   ],
   "source": [
    "# Save model and weights\n",
    "save_dir = 'saved_models'\n",
    "\n",
    "if not os.path.isdir(save_dir):\n",
    "    os.makedirs(save_dir)\n",
    "\n",
    "model_path = os.path.join(save_dir, model_name + '.h5')\n",
    "\n",
    "scrambler_model.save(model_path)\n",
    "print('Saved scrambler model at %s ' % (model_path))\n"
   ]
  },
  {
   "cell_type": "code",
   "execution_count": 16,
   "metadata": {},
   "outputs": [
    {
     "name": "stdout",
     "output_type": "stream",
     "text": [
      "Loaded scrambler model saved_models/autoscrambler_dataset_egfp_unmod_1_resnet_5_4_32_3_00_n_epochs_50_target_lum_01_synth_weight_10_gumbel_no_bg_lum.h5 \n"
     ]
    }
   ],
   "source": [
    "#Load models\n",
    "save_dir = 'saved_models'\n",
    "\n",
    "if not os.path.isdir(save_dir):\n",
    "    os.makedirs(save_dir)\n",
    "\n",
    "model_path = os.path.join(save_dir, model_name + '.h5')\n",
    "scrambler_model.load_weights(model_path, by_name=True)\n",
    "\n",
    "print('Loaded scrambler model %s ' % (model_path))\n"
   ]
  },
  {
   "cell_type": "code",
   "execution_count": 30,
   "metadata": {},
   "outputs": [],
   "source": [
    "\n",
    "new_x_test = [\n",
    "    x_extra[0:1, ...],\n",
    "    x_extra[1:2, ...],\n",
    "    x_extra[2:3, ...]\n",
    "]\n",
    "\n",
    "new_x_test = np.concatenate(new_x_test, axis=0)\n"
   ]
  },
  {
   "cell_type": "code",
   "execution_count": 32,
   "metadata": {},
   "outputs": [
    {
     "name": "stdout",
     "output_type": "stream",
     "text": [
      "Predicting example 0...\n",
      "Predicting example 1...\n",
      "Predicting example 2...\n"
     ]
    }
   ],
   "source": [
    "#Execute training procedure\n",
    "\n",
    "s_test = np.zeros((batch_size, 1))\n",
    "\n",
    "sample_test = []\n",
    "importance_scores_test = []\n",
    "\n",
    "for data_ix in range(new_x_test.shape[0]) :\n",
    "    \n",
    "    print(\"Predicting example \" + str(data_ix) + \"...\")\n",
    "    \n",
    "    temp_sample, temp_importance_scores, temp_importance_scores_log = scrambler_model.predict_on_batch(x=[\n",
    "        np.tile(new_x_test[data_ix:data_ix+1], (batch_size, 1, 1, 1)),\n",
    "        s_test\n",
    "    ])\n",
    "    \n",
    "    sample_test.append(temp_sample[:1, :])\n",
    "    importance_scores_test.append(temp_importance_scores[:1, :])\n",
    "\n",
    "sample_test = np.concatenate(sample_test, axis=0)\n",
    "importance_scores_test = np.concatenate(importance_scores_test, axis=0)\n"
   ]
  },
  {
   "cell_type": "code",
   "execution_count": 34,
   "metadata": {
    "scrolled": false
   },
   "outputs": [
    {
     "name": "stdout",
     "output_type": "stream",
     "text": [
      "Test sequence 0:\n",
      " - Prediction (original) = -1.0\n",
      " - Predictions (scrambled) = [-1.0]\n"
     ]
    },
    {
     "data": {
      "image/png": "[encoded data removed]",
      "text/plain": [
       "<Figure size 864x72 with 1 Axes>"
      ]
     },
     "metadata": {},
     "output_type": "display_data"
    },
    {
     "data": {
      "image/png": "[encoded data removed]",
      "text/plain": [
       "<Figure size 864x72 with 1 Axes>"
      ]
     },
     "metadata": {},
     "output_type": "display_data"
    },
    {
     "name": "stdout",
     "output_type": "stream",
     "text": [
      "Test sequence 1:\n",
      " - Prediction (original) = -1.0\n",
      " - Predictions (scrambled) = [-1.1]\n"
     ]
    },
    {
     "data": {
      "image/png": "[encoded data removed]",
      "text/plain": [
       "<Figure size 864x72 with 1 Axes>"
      ]
     },
     "metadata": {},
     "output_type": "display_data"
    },
    {
     "data": {
      "image/png": "[encoded data removed]",
      "text/plain": [
       "<Figure size 864x72 with 1 Axes>"
      ]
     },
     "metadata": {},
     "output_type": "display_data"
    },
    {
     "name": "stdout",
     "output_type": "stream",
     "text": [
      "Test sequence 2:\n",
      " - Prediction (original) = -0.9\n",
      " - Predictions (scrambled) = [-0.7]\n"
     ]
    },
    {
     "data": {
      "image/png": "[encoded data removed]",
      "text/plain": [
       "<Figure size 864x72 with 1 Axes>"
      ]
     },
     "metadata": {},
     "output_type": "display_data"
    },
    {
     "data": {
      "image/png": "[encoded data removed]",
      "text/plain": [
       "<Figure size 864x72 with 1 Axes>"
      ]
     },
     "metadata": {},
     "output_type": "display_data"
    }
   ],
   "source": [
    "#Visualize a few reconstructed sequence patterns\n",
    "from sequence_logo_helper import plot_dna_logo\n",
    "\n",
    "encoder = isol.OneHotEncoder(50)\n",
    "\n",
    "save_figs = False\n",
    "fig_name = model_name[model_name.index(\"target_lum\"):] + \"_synthetic_examples\"\n",
    "\n",
    "for plot_i in range(0, new_x_test.shape[0]) :\n",
    "    \n",
    "    print(\"Test sequence \" + str(plot_i) + \":\")\n",
    "    \n",
    "    justPred = np.expand_dims(np.expand_dims(new_x_test[plot_i, 0, :, :], axis=0), axis=-1)\n",
    "    justPredReshape = np.reshape(justPred, (1,50,4))\n",
    "    \n",
    "    expanded = np.expand_dims(sample_test[plot_i, 0, :, :], axis=-1)\n",
    "    expandedReshape = np.reshape(expanded, (1, 50,4))\n",
    "    \n",
    "    y_test_hat_ref = predictor.predict(x=justPredReshape, batch_size=1)[0][0]\n",
    "    y_test_hat = predictor.predict(x=[expandedReshape], batch_size=32)[:10, 0]\n",
    "    \n",
    "    print(\" - Prediction (original) = \" + str(round(y_test_hat_ref, 2))[:4])\n",
    "    print(\" - Predictions (scrambled) = \" + str([float(str(round(y_test_hat[i], 2))[:4]) for i in range(len(y_test_hat))]))\n",
    "    \n",
    "    plot_dna_logo(new_x_test[plot_i, 0, :, :], sequence_template=sequence_template, figsize=(12, 1), plot_start=0, plot_end=50, save_figs=save_figs, fig_name=fig_name + \"_\" + str(plot_i) + \"_orig_sequence\")\n",
    "    plot_dna_logo(sample_test[plot_i, 0, :, :], sequence_template=sequence_template, figsize=(12, 1), plot_start=0, plot_end=50, save_figs=save_figs, fig_name=fig_name + \"_\" + str(plot_i) + \"_scrambled_pwm\")\n"
   ]
  },
  {
   "cell_type": "code",
   "execution_count": 17,
   "metadata": {},
   "outputs": [
    {
     "name": "stdout",
     "output_type": "stream",
     "text": [
      "(3, 1, 50, 1)\n"
     ]
    }
   ],
   "source": [
    "#Execute benchmark on synthetic datasets\n",
    "\n",
    "allFiles = [\"optimus5_synthetic_random_insert_if_uorf_1_start_1_stop_variable_loc_512.csv\",\n",
    "            \"optimus5_synthetic_random_insert_if_uorf_1_start_2_stop_variable_loc_512.csv\",\n",
    "            \"optimus5_synthetic_random_insert_if_uorf_2_start_1_stop_variable_loc_512.csv\",\n",
    "            \"optimus5_synthetic_random_insert_if_uorf_2_start_2_stop_variable_loc_512.csv\",\n",
    "            \"optimus5_synthetic_examples_3.csv\"]\n",
    "\n",
    "for csv_to_open in allFiles :\n",
    "    \n",
    "    #Load dataset for benchmarking \n",
    "    dataset_name = csv_to_open.replace(\".csv\", \"\")\n",
    "    benchmarkSet = pd.read_csv(csv_to_open)\n",
    "    \n",
    "    seq_e_test = one_hot_encode(benchmarkSet, seq_len=50)\n",
    "    x_test = seq_e_test[:, None, ...]\n",
    "    \n",
    "    s_test = np.zeros((x_test.shape[0], 1))\n",
    "\n",
    "    sample_test, importance_scores_test, importance_scores_log_test = scrambler_model.predict(x=[x_test, s_test], batch_size=32)\n",
    "\n",
    "    scores = (importance_scores_log_test[..., 0] - np.mean(importance_scores_log_test, axis=-1))[..., None]\n",
    "    \n",
    "    print(scores.shape)\n",
    "    \n",
    "    #m1 \n",
    "    #0.125 model \n",
    "    save_name = \"autoscrambler_no_bg_target_lum_01_weight_10_\" + dataset_name\n",
    "    np.save(save_name + \"_importance_scores_test\", scores)\n"
   ]
  },
  {
   "cell_type": "code",
   "execution_count": null,
   "metadata": {},
   "outputs": [],
   "source": []
  }
 ],
 "metadata": {
  "kernelspec": {
   "display_name": "Environment (conda_tensorflow_p36)",
   "language": "python",
   "name": "conda_tensorflow_p36"
  },
  "language_info": {
   "codemirror_mode": {
    "name": "ipython",
    "version": 3
   },
   "file_extension": ".py",
   "mimetype": "text/x-python",
   "name": "python",
   "nbconvert_exporter": "python",
   "pygments_lexer": "ipython3",
   "version": "3.6.5"
  }
 },
 "nbformat": 4,
 "nbformat_minor": 2
}
