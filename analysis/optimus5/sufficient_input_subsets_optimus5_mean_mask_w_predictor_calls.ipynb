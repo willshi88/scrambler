{
 "cells": [
  {
   "cell_type": "code",
   "execution_count": 1,
   "metadata": {
    "scrolled": true
   },
   "outputs": [
    {
     "name": "stderr",
     "output_type": "stream",
     "text": [
      "Using TensorFlow backend.\n"
     ]
    }
   ],
   "source": [
    "import keras\n",
    "import keras.backend as K\n",
    "from keras.datasets import mnist\n",
    "from keras.models import Sequential, Model, load_model\n",
    "from keras.layers import Dense, Dropout, Activation, Flatten, Input, Lambda\n",
    "from keras.layers import Conv2D, MaxPooling2D, AveragePooling2D, Conv1D, MaxPooling1D, LSTM, ConvLSTM2D, GRU, BatchNormalization, LocallyConnected2D, Permute, TimeDistributed, Bidirectional\n",
    "from keras.layers import Concatenate, Reshape, Conv2DTranspose, Embedding, Multiply, Activation\n",
    "\n",
    "from functools import partial\n",
    "\n",
    "from collections import defaultdict\n",
    "\n",
    "import os\n",
    "import pickle\n",
    "import numpy as np\n",
    "\n",
    "import scipy.sparse as sp\n",
    "import scipy.io as spio\n",
    "\n",
    "import matplotlib.pyplot as plt\n",
    "\n",
    "class MySequence :\n",
    "    def __init__(self) :\n",
    "        self.dummy = 1\n",
    "\n",
    "keras.utils.Sequence = MySequence\n",
    "\n",
    "import isolearn.io as isoio\n",
    "import isolearn.keras as isol\n",
    "\n",
    "import matplotlib.pyplot as plt\n",
    "\n",
    "import pandas as pd\n",
    "\n",
    "from sequence_logo_helper import dna_letter_at, plot_dna_logo\n",
    "\n",
    "import tensorflow as tf\n",
    "\n",
    "from keras.backend.tensorflow_backend import set_session\n",
    "\n",
    "def contain_tf_gpu_mem_usage() :\n",
    "    config = tf.ConfigProto()\n",
    "    config.gpu_options.allow_growth = True\n",
    "    sess = tf.Session(config=config)\n",
    "    set_session(sess)\n",
    "\n",
    "contain_tf_gpu_mem_usage()\n"
   ]
  },
  {
   "cell_type": "code",
   "execution_count": 2,
   "metadata": {},
   "outputs": [
    {
     "name": "stdout",
     "output_type": "stream",
     "text": [
      "x_train.shape = (12520, 1, 50, 4)\n"
     ]
    }
   ],
   "source": [
    "#Define dataset/experiment name\n",
    "dataset_name = \"optimus5_synth\"\n",
    "\n",
    "def one_hot_encode(df, col='utr', seq_len=50):\n",
    "    # Dictionary returning one-hot encoding of nucleotides. \n",
    "    nuc_d = {'a':[1,0,0,0],'c':[0,1,0,0],'g':[0,0,1,0],'t':[0,0,0,1], 'n':[0,0,0,0]}\n",
    "    \n",
    "    # Creat empty matrix.\n",
    "    vectors=np.empty([len(df),seq_len,4])\n",
    "    \n",
    "    # Iterate through UTRs and one-hot encode\n",
    "    for i,seq in enumerate(df[col].str[:seq_len]): \n",
    "        seq = seq.lower()\n",
    "        a = np.array([nuc_d[x] for x in seq])\n",
    "        vectors[i] = a\n",
    "    return vectors\n",
    "\n",
    "#Load cached dataframe\n",
    "e_train = pd.read_csv(\"otherHalfOfHumanUTRs_UseForBackground.csv\")\n",
    "\n",
    "#one hot encode with optimus encoders \n",
    "seq_e_train = one_hot_encode(e_train,seq_len=50)\n",
    "x_train = seq_e_train[:, None, ...]\n",
    "\n",
    "print(\"x_train.shape = \" + str(x_train.shape))\n"
   ]
  },
  {
   "cell_type": "code",
   "execution_count": 3,
   "metadata": {},
   "outputs": [],
   "source": [
    "#Define sequence template\n",
    "\n",
    "sequence_template = 'N' * 50\n",
    "\n",
    "sequence_mask = np.array([1 if sequence_template[j] == 'N' else 0 for j in range(len(sequence_template))])\n"
   ]
  },
  {
   "cell_type": "code",
   "execution_count": 4,
   "metadata": {},
   "outputs": [],
   "source": [
    "#Visualize background sequence distribution\n",
    "\n",
    "pseudo_count = 1.0\n",
    "\n",
    "x_mean = (np.sum(x_train, axis=(0, 1)) + pseudo_count) / (x_train.shape[0] + 4. * pseudo_count)\n",
    "x_mean_logits = np.log(x_mean / (1. - x_mean))\n"
   ]
  },
  {
   "cell_type": "code",
   "execution_count": 5,
   "metadata": {},
   "outputs": [
    {
     "name": "stdout",
     "output_type": "stream",
     "text": [
      "WARNING:tensorflow:From /home/ubuntu/anaconda3/envs/tensorflow_p36/lib/python3.6/site-packages/tensorflow/python/framework/op_def_library.py:263: colocate_with (from tensorflow.python.framework.ops) is deprecated and will be removed in a future version.\n",
      "Instructions for updating:\n",
      "Colocations handled automatically by placer.\n",
      "WARNING:tensorflow:From /home/ubuntu/anaconda3/envs/tensorflow_p36/lib/python3.6/site-packages/keras/backend/tensorflow_backend.py:3445: calling dropout (from tensorflow.python.ops.nn_ops) with keep_prob is deprecated and will be removed in a future version.\n",
      "Instructions for updating:\n",
      "Please use `rate` instead of `keep_prob`. Rate should be set to `rate = 1 - keep_prob`.\n",
      "WARNING:tensorflow:From /home/ubuntu/anaconda3/envs/tensorflow_p36/lib/python3.6/site-packages/tensorflow/python/ops/math_ops.py:3066: to_int32 (from tensorflow.python.ops.math_ops) is deprecated and will be removed in a future version.\n",
      "Instructions for updating:\n",
      "Use tf.cast instead.\n"
     ]
    }
   ],
   "source": [
    "#Load Predictor\n",
    "predictor_path = 'optimusRetrainedMain.hdf5'\n",
    "\n",
    "predictor = load_model(predictor_path)\n",
    "\n",
    "predictor.trainable = False\n",
    "predictor.compile(optimizer=keras.optimizers.SGD(lr=0.1), loss='mean_squared_error')\n"
   ]
  },
  {
   "cell_type": "code",
   "execution_count": 6,
   "metadata": {},
   "outputs": [],
   "source": [
    "#Gradient saliency/backprop visualization\n",
    "\n",
    "import matplotlib.collections as collections\n",
    "import operator\n",
    "import matplotlib.pyplot as plt\n",
    "\n",
    "import matplotlib.cm as cm\n",
    "import matplotlib.colors as colors\n",
    "\n",
    "import matplotlib as mpl\n",
    "from matplotlib.text import TextPath\n",
    "from matplotlib.patches import PathPatch, Rectangle\n",
    "from matplotlib.font_manager import FontProperties\n",
    "from matplotlib import gridspec\n",
    "from matplotlib.ticker import FormatStrFormatter\n",
    "\n",
    "def plot_importance_scores(importance_scores, ref_seq, figsize=(12, 2), score_clip=None, sequence_template='', plot_start=0, plot_end=96) :\n",
    "\n",
    "    end_pos = ref_seq.find(\"#\")\n",
    "    \n",
    "    fig = plt.figure(figsize=figsize)\n",
    "    \n",
    "    ax = plt.gca()\n",
    "    \n",
    "    if score_clip is not None :\n",
    "        importance_scores = np.clip(np.copy(importance_scores), -score_clip, score_clip)\n",
    "    \n",
    "    max_score = np.max(np.sum(importance_scores[:, :], axis=0)) + 0.01\n",
    "\n",
    "    for i in range(0, len(ref_seq)) :\n",
    "        mutability_score = np.sum(importance_scores[:, i])\n",
    "        dna_letter_at(ref_seq[i], i + 0.5, 0, mutability_score, ax)\n",
    "\n",
    "    plt.sca(ax)\n",
    "    plt.xlim((0, len(ref_seq)))\n",
    "    plt.ylim((0, max_score))\n",
    "    plt.axis('off')\n",
    "    plt.yticks([0.0, max_score], [0.0, max_score], fontsize=16)\n",
    "    \n",
    "    for axis in fig.axes :\n",
    "        axis.get_xaxis().set_visible(False)\n",
    "        axis.get_yaxis().set_visible(False)\n",
    "    \n",
    "    plt.tight_layout()\n",
    "    \n",
    "    plt.show()\n"
   ]
  },
  {
   "cell_type": "code",
   "execution_count": 7,
   "metadata": {
    "scrolled": false
   },
   "outputs": [
    {
     "name": "stdout",
     "output_type": "stream",
     "text": [
      "(3, 1, 50, 4)\n",
      "Processing example 0...\n",
      "Total number of predictor calls   = 4822\n",
      "Average number of predictor calls = 1607.3333333333333\n",
      "Test sequence 0:\n"
     ]
    },
    {
     "data": {
      "image/png": "[encoded data removed]",
      "text/plain": [
       "<Figure size 864x72 with 1 Axes>"
      ]
     },
     "metadata": {},
     "output_type": "display_data"
    },
    {
     "data": {
      "image/png": "[encoded data removed]",
      "text/plain": [
       "<Figure size 864x72 with 1 Axes>"
      ]
     },
     "metadata": {},
     "output_type": "display_data"
    },
    {
     "name": "stdout",
     "output_type": "stream",
     "text": [
      "Test sequence 1:\n"
     ]
    },
    {
     "data": {
      "image/png": "[encoded data removed]",
      "text/plain": [
       "<Figure size 864x72 with 1 Axes>"
      ]
     },
     "metadata": {},
     "output_type": "display_data"
    },
    {
     "data": {
      "image/png": "[encoded data removed]",
      "text/plain": [
       "<Figure size 864x72 with 1 Axes>"
      ]
     },
     "metadata": {},
     "output_type": "display_data"
    },
    {
     "name": "stdout",
     "output_type": "stream",
     "text": [
      "Test sequence 2:\n"
     ]
    },
    {
     "data": {
      "image/png": "[encoded data removed]",
      "text/plain": [
       "<Figure size 864x72 with 1 Axes>"
      ]
     },
     "metadata": {},
     "output_type": "display_data"
    },
    {
     "data": {
      "image/png": "[encoded data removed]",
      "text/plain": [
       "<Figure size 864x72 with 1 Axes>"
      ]
     },
     "metadata": {},
     "output_type": "display_data"
    }
   ],
   "source": [
    "import sis\n",
    "\n",
    "#Run attribution method\n",
    "\n",
    "encoder = isol.OneHotEncoder(50)\n",
    "\n",
    "score_clip = None\n",
    "\n",
    "allFiles = [\"optimus5_synthetic_random_insert_if_uorf_1_start_1_stop_variable_loc_512.csv\",\n",
    "            \"optimus5_synthetic_random_insert_if_uorf_1_start_2_stop_variable_loc_512.csv\",\n",
    "            \"optimus5_synthetic_random_insert_if_uorf_2_start_1_stop_variable_loc_512.csv\",\n",
    "            \"optimus5_synthetic_random_insert_if_uorf_2_start_2_stop_variable_loc_512.csv\",\n",
    "            \"optimus5_synthetic_examples_3.csv\"]\n",
    "\n",
    "for csv_to_open in allFiles :\n",
    "    \n",
    "    #Load dataset for benchmarking \n",
    "    dataset_name = csv_to_open.replace(\".csv\", \"\")\n",
    "    data_df = pd.read_csv(csv_to_open) #open from scores folder \n",
    "\n",
    "    seq_e_test = one_hot_encode(data_df, seq_len=50)\n",
    "    x_test = seq_e_test[:, None, ...]\n",
    "    \n",
    "    print(x_test.shape)\n",
    "    \n",
    "    #Plot distribution of (MRL)\n",
    "\n",
    "    y_pred_test = predictor.predict(x=[x_test[:, 0, ...]], batch_size=32)[:, 0]\n",
    "\n",
    "     #Run SIS on test set\n",
    "\n",
    "    dynamic_threshold_scale = 0.8\n",
    "\n",
    "    n_seqs_to_test = x_test.shape[0]\n",
    "\n",
    "    importance_scores_test = []\n",
    "\n",
    "    predictor_calls_test = []\n",
    "\n",
    "    for data_ix in range(n_seqs_to_test) :\n",
    "\n",
    "        if data_ix % 100 == 0 :\n",
    "            print(\"Processing example \" + str(data_ix) + \"...\")\n",
    "\n",
    "        is_pos = True if y_pred_test[data_ix] >= 0.0 else False\n",
    "\n",
    "        threshold = 0.\n",
    "        if is_pos :\n",
    "            threshold = dynamic_threshold_scale * y_pred_test[data_ix]\n",
    "        else :\n",
    "            threshold = dynamic_threshold_scale * (-y_pred_test[data_ix])\n",
    "\n",
    "        x_curr = x_test[data_ix, 0, ...]\n",
    "\n",
    "        bg = x_mean\n",
    "\n",
    "        seq_mask = np.max(x_test[data_ix, 0, ...], axis=-1, keepdims=True)\n",
    "\n",
    "        predictor_counter = { 'acc' : 0 }\n",
    "\n",
    "        def _temp_pred_func(batch, is_pos=is_pos, mask=seq_mask, predictor_counter=predictor_counter) :\n",
    "\n",
    "            temp_data = np.concatenate([np.expand_dims(np.expand_dims(arr * mask, axis=0), axis=0) for arr in batch], axis=0)\n",
    "\n",
    "            predictor_counter['acc'] += temp_data.shape[0]\n",
    "\n",
    "            temp_out = None\n",
    "            if is_pos :\n",
    "                temp_out = predictor.predict(x=[temp_data[:, 0, ...]], batch_size=64)[:, 0]\n",
    "            else :\n",
    "                temp_out = -predictor.predict(x=[temp_data[:, 0, ...]], batch_size=64)[:, 0]\n",
    "\n",
    "            return temp_out\n",
    "\n",
    "        F_PRED = lambda batch: _temp_pred_func(batch)\n",
    "\n",
    "        x_fully_masked = np.copy(bg)\n",
    "\n",
    "        initial_mask = sis.make_empty_boolean_mask_broadcast_over_axis(x_curr.shape, 1)\n",
    "\n",
    "        collection = sis.sis_collection(F_PRED, threshold, x_curr, x_fully_masked, initial_mask=initial_mask)\n",
    "\n",
    "        importance_scores_test_curr = np.expand_dims(np.expand_dims(np.zeros(x_curr.shape), axis=0), axis=0)\n",
    "        if collection[0].sis.shape[0] > 0 :\n",
    "            imp_index = collection[0].sis[:, 0].tolist()\n",
    "\n",
    "            importance_scores_test_curr[0, 0, imp_index, :] = 1.\n",
    "            importance_scores_test_curr[0, 0, ...] = importance_scores_test_curr[0, 0, ...] * x_curr\n",
    "\n",
    "        importance_scores_test.append(importance_scores_test_curr)\n",
    "\n",
    "        predictor_calls_test.append(predictor_counter['acc'])\n",
    "\n",
    "    importance_scores_test = np.concatenate(importance_scores_test, axis=0)\n",
    "\n",
    "    predictor_calls_test = np.array(predictor_calls_test)\n",
    "\n",
    "    #Print predictor call statistics\n",
    "\n",
    "    print(\"Total number of predictor calls   = \" + str(np.sum(predictor_calls_test)))\n",
    "    print(\"Average number of predictor calls = \" + str(np.mean(predictor_calls_test)))\n",
    "    \n",
    "    for plot_i in range(0, 3) :\n",
    "\n",
    "        print(\"Test sequence \" + str(plot_i) + \":\")\n",
    "\n",
    "        plot_dna_logo(x_test[plot_i, 0, :, :], sequence_template=sequence_template, plot_sequence_template=True, figsize=(12, 1), plot_start=0, plot_end=50)\n",
    "        plot_importance_scores(importance_scores_test[plot_i, 0, :, :].T, encoder.decode(x_test[plot_i, 0, :, :]), figsize=(12, 1), score_clip=score_clip, sequence_template=sequence_template, plot_start=0, plot_end=50)\n",
    "\n",
    "    #Save predicted importance scores\n",
    "\n",
    "    model_name = \"sufficient_input_subsets_\" + dataset_name + \"_dynamic_thresh_08_mean\"\n",
    "\n",
    "    np.save(model_name + \"_importance_scores_test\", importance_scores_test)\n"
   ]
  },
  {
   "cell_type": "code",
   "execution_count": null,
   "metadata": {},
   "outputs": [],
   "source": []
  }
 ],
 "metadata": {
  "kernelspec": {
   "display_name": "Environment (conda_tensorflow_p36)",
   "language": "python",
   "name": "conda_tensorflow_p36"
  },
  "language_info": {
   "codemirror_mode": {
    "name": "ipython",
    "version": 3
   },
   "file_extension": ".py",
   "mimetype": "text/x-python",
   "name": "python",
   "nbconvert_exporter": "python",
   "pygments_lexer": "ipython3",
   "version": "3.6.5"
  }
 },
 "nbformat": 4,
 "nbformat_minor": 2
}
