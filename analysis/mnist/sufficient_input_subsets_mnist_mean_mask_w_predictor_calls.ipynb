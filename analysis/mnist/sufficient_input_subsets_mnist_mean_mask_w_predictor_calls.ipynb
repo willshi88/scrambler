{
 "cells": [
  {
   "cell_type": "code",
   "execution_count": 1,
   "metadata": {
    "scrolled": true
   },
   "outputs": [
    {
     "name": "stderr",
     "output_type": "stream",
     "text": [
      "Using TensorFlow backend.\n"
     ]
    }
   ],
   "source": [
    "import keras\n",
    "from keras.datasets import mnist\n",
    "from keras.models import load_model\n",
    "from keras.models import Sequential, Model\n",
    "from keras.layers import Dense, Dropout, Flatten\n",
    "from keras.layers import Conv2D, MaxPooling2D\n",
    "\n",
    "from functools import partial\n",
    "\n",
    "from collections import defaultdict\n",
    "\n",
    "import isolearn.keras as iso\n",
    "\n",
    "import os\n",
    "import pickle\n",
    "import numpy as np\n",
    "\n",
    "import scipy.sparse as sp\n",
    "import scipy.io as spio\n",
    "\n",
    "import matplotlib.pyplot as plt\n",
    "\n",
    "import tensorflow as tf\n",
    "\n",
    "from keras.backend.tensorflow_backend import set_session\n",
    "\n",
    "def contain_tf_gpu_mem_usage() :\n",
    "    config = tf.ConfigProto()\n",
    "    config.gpu_options.allow_growth = True\n",
    "    sess = tf.Session(config=config)\n",
    "    set_session(sess)\n",
    "\n",
    "contain_tf_gpu_mem_usage()\n"
   ]
  },
  {
   "cell_type": "code",
   "execution_count": 2,
   "metadata": {},
   "outputs": [
    {
     "name": "stdout",
     "output_type": "stream",
     "text": [
      "x_train.shape = (11552, 28, 28, 1)\n",
      "n train samples = 11552\n",
      "n test samples = 1888\n"
     ]
    }
   ],
   "source": [
    "#Load MNIST data\n",
    "\n",
    "dataset_name = \"mnist_3_vs_5\"\n",
    "\n",
    "img_rows, img_cols = 28, 28\n",
    "\n",
    "num_classes = 10\n",
    "batch_size = 32\n",
    "\n",
    "included_classes = { 3, 5 }\n",
    "\n",
    "(x_train, y_train), (x_test, y_test) = mnist.load_data()\n",
    "\n",
    "keep_index_train = []\n",
    "for i in range(y_train.shape[0]) :\n",
    "    if y_train[i] in included_classes :\n",
    "        keep_index_train.append(i)\n",
    "\n",
    "keep_index_test = []\n",
    "for i in range(y_test.shape[0]) :\n",
    "    if y_test[i] in included_classes :\n",
    "        keep_index_test.append(i)\n",
    "\n",
    "x_train = x_train[keep_index_train]\n",
    "x_test = x_test[keep_index_test]\n",
    "y_train = y_train[keep_index_train]\n",
    "y_test = y_test[keep_index_test]\n",
    "\n",
    "n_train = int((x_train.shape[0] // batch_size) * batch_size)\n",
    "n_test = int((x_test.shape[0] // batch_size) * batch_size)\n",
    "x_train = x_train[:n_train]\n",
    "x_test = x_test[:n_test]\n",
    "y_train = y_train[:n_train]\n",
    "y_test = y_test[:n_test]\n",
    "\n",
    "\n",
    "x_train = x_train.reshape(x_train.shape[0], img_rows, img_cols, 1)\n",
    "x_test = x_test.reshape(x_test.shape[0], img_rows, img_cols, 1)\n",
    "\n",
    "input_shape = (img_rows, img_cols, 1)\n",
    "\n",
    "x_train = x_train.astype('float32')\n",
    "x_test = x_test.astype('float32')\n",
    "x_train /= 255\n",
    "x_test /= 255\n",
    "\n",
    "print(\"x_train.shape = \" + str(x_train.shape))\n",
    "\n",
    "print(\"n train samples = \" + str(x_train.shape[0]))\n",
    "print(\"n test samples = \" + str(x_test.shape[0]))\n",
    "\n",
    "y_train = keras.utils.to_categorical(y_train, num_classes)\n",
    "y_test = keras.utils.to_categorical(y_test, num_classes)\n",
    "\n",
    "#Binarize images\n",
    "\n",
    "def _binarize_images(x, val_thresh=0.5) :\n",
    "    \n",
    "    x_bin = np.zeros(x.shape)\n",
    "    x_bin[x >= val_thresh] = 1.\n",
    "    \n",
    "    return x_bin\n",
    "\n",
    "x_train = _binarize_images(x_train, val_thresh=0.5)\n",
    "x_test = _binarize_images(x_test, val_thresh=0.5)\n",
    "\n",
    "digit_train = np.argmax(y_train, axis=1)\n",
    "digit_test = np.argmax(y_test, axis=1)\n"
   ]
  },
  {
   "cell_type": "code",
   "execution_count": 10,
   "metadata": {},
   "outputs": [],
   "source": [
    "predictor = Sequential()\n",
    "\n",
    "predictor.add(Conv2D(32, kernel_size=(3, 3), activation='relu', input_shape=input_shape, name='conv2d_1'))\n",
    "predictor.add(Conv2D(64, (3, 3), activation='relu', name='conv2d_2'))\n",
    "predictor.add(MaxPooling2D(pool_size=(2, 2)))\n",
    "predictor.add(Dropout(0.25))\n",
    "predictor.add(Flatten())\n",
    "predictor.add(Dense(128, activation='relu', name='dense_1'))\n",
    "predictor.add(Dropout(0.5))\n",
    "predictor.add(Dense(num_classes, activation='softmax', name='dense_2'))\n",
    "\n",
    "predictor.load_weights('saved_models/mnist_binarized_cnn_10_digits.h5')\n",
    "predictor.trainable = False\n",
    "\n",
    "predictor.compile(\n",
    "    loss=keras.losses.categorical_crossentropy,\n",
    "    optimizer=keras.optimizers.Adadelta(),\n",
    "    metrics=['accuracy']\n",
    ")"
   ]
  },
  {
   "cell_type": "code",
   "execution_count": 11,
   "metadata": {},
   "outputs": [
    {
     "data": {
      "image/png": "[encoded data removed]",
      "text/plain": [
       "<Figure size 288x288 with 1 Axes>"
      ]
     },
     "metadata": {},
     "output_type": "display_data"
    }
   ],
   "source": [
    "#Visualize background image distribution\n",
    "\n",
    "pseudo_count = 1.0\n",
    "\n",
    "x_mean = (np.sum(x_train, axis=(0, 3)) + pseudo_count) / (x_train.shape[0] + pseudo_count)\n",
    "x_mean_logits = np.log(x_mean / (1. - x_mean))\n",
    "\n",
    "f = plt.figure(figsize=(4, 4))\n",
    "\n",
    "plot_ix = 0\n",
    "\n",
    "plt.imshow(x_mean, cmap=\"Greys\", vmin=0.0, vmax=1.0, aspect='equal')\n",
    "\n",
    "plt.xticks([], [])\n",
    "plt.yticks([], [])\n",
    "\n",
    "plt.tight_layout()\n",
    "plt.show()\n"
   ]
  },
  {
   "cell_type": "code",
   "execution_count": 23,
   "metadata": {},
   "outputs": [
    {
     "name": "stdout",
     "output_type": "stream",
     "text": [
      "perc_50 = 1.0\n",
      "perc_80 = 1.0\n",
      "perc_90 = 1.0\n"
     ]
    },
    {
     "data": {
      "image/png": "[encoded data removed]",
      "text/plain": [
       "<Figure size 432x288 with 1 Axes>"
      ]
     },
     "metadata": {},
     "output_type": "display_data"
    }
   ],
   "source": [
    "#Plot distribution of positive binding prediction and calculate percentiles\n",
    "\n",
    "y_pred_test = predictor.predict(x=[x_test], batch_size=32)[np.arange(x_test.shape[0]), digit_test.tolist()]\n",
    "\n",
    "perc_50 = round(np.quantile(y_pred_test, q=0.5), 6)\n",
    "perc_80 = round(np.quantile(y_pred_test, q=0.8), 6)\n",
    "perc_90 = round(np.quantile(y_pred_test, q=0.9), 6)\n",
    "\n",
    "print(\"perc_50 = \" + str(perc_50))\n",
    "print(\"perc_80 = \" + str(perc_80))\n",
    "print(\"perc_90 = \" + str(perc_90))\n",
    "\n",
    "f = plt.figure(figsize=(6, 4))\n",
    "\n",
    "plt.hist(y_pred_test, bins=100, edgecolor='black', color='blue', linewidth=2)\n",
    "\n",
    "plt.axvline(x=perc_50, color='green', linewidth=2, linestyle=\"--\")\n",
    "plt.axvline(x=perc_80, color='orange', linewidth=2, linestyle=\"--\")\n",
    "plt.axvline(x=perc_90, color='red', linewidth=2, linestyle=\"--\")\n",
    "\n",
    "plt.xlabel(\"Predicted Binding Prob.\", fontsize=12)\n",
    "plt.ylabel(\"Pair Count\", fontsize=12)\n",
    "\n",
    "t = np.array([perc_50, perc_80, perc_90])\n",
    "\n",
    "plt.xticks(t, t, fontsize=12, rotation=45)\n",
    "plt.yticks(fontsize=12)\n",
    "\n",
    "plt.xlim(0.95, 1)\n",
    "plt.ylim(0)\n",
    "\n",
    "plt.tight_layout()\n",
    "\n",
    "plt.show()\n"
   ]
  },
  {
   "cell_type": "code",
   "execution_count": 39,
   "metadata": {},
   "outputs": [
    {
     "name": "stdout",
     "output_type": "stream",
     "text": [
      "Processing example 0...\n",
      "Processing example 100...\n"
     ]
    }
   ],
   "source": [
    "import sis\n",
    "\n",
    "#Run SIS on test set\n",
    "\n",
    "fixed_threshold = 0.95\n",
    "dynamic_threshold_scale = 0.8\n",
    "\n",
    "n_seqs_to_test = x_test.shape[0]\n",
    "\n",
    "importance_scores_test = []\n",
    "\n",
    "predictor_calls_test = []\n",
    "\n",
    "for data_ix in range(200) :#range(n_seqs_to_test) :\n",
    "    \n",
    "    if data_ix % 100 == 0 :\n",
    "        print(\"Processing example \" + str(data_ix) + \"...\")\n",
    "    \n",
    "    threshold = fixed_threshold if y_pred_test[data_ix] >= fixed_threshold * (1. / dynamic_threshold_scale) else dynamic_threshold_scale * y_pred_test[data_ix]\n",
    "\n",
    "    x_curr = x_test[data_ix, ...]\n",
    "    d_curr = digit_test[data_ix]\n",
    "\n",
    "    bg = x_mean[..., None]\n",
    "    \n",
    "    predictor_counter = { 'acc' : 0 }\n",
    "    \n",
    "    def _temp_pred_func(batch, d=d_curr, predictor_counter=predictor_counter) :\n",
    "        \n",
    "        temp_data = np.concatenate([arr[None, ...] for arr in batch], axis=0)\n",
    "        \n",
    "        predictor_counter['acc'] += temp_data.shape[0]\n",
    "        \n",
    "        temp_out = predictor.predict(x=[temp_data], batch_size=64)[:, d]\n",
    "        \n",
    "        return temp_out\n",
    "\n",
    "    F_PRED = lambda batch: _temp_pred_func(batch)\n",
    "\n",
    "    x_fully_masked = np.copy(bg)\n",
    "\n",
    "    initial_mask = sis.make_empty_boolean_mask_broadcast_over_axis(x_curr.shape, 2)\n",
    "\n",
    "    collection = sis.sis_collection(F_PRED, threshold, x_curr, x_fully_masked, initial_mask=initial_mask)\n",
    "    \n",
    "    importance_scores_test_curr = np.zeros(x_curr.shape)[None, ...]\n",
    "    if collection[0].sis.shape[0] > 0 :\n",
    "        \n",
    "        imp_index_x = collection[0].sis[:, 0].tolist()\n",
    "        imp_index_y = collection[0].sis[:, 1].tolist()\n",
    "\n",
    "        importance_scores_test_curr[0, imp_index_x, imp_index_y, :] = 1.\n",
    "\n",
    "    importance_scores_test.append(importance_scores_test_curr)\n",
    "    \n",
    "    predictor_calls_test.append(predictor_counter['acc'])\n",
    "\n",
    "importance_scores_test = np.concatenate(importance_scores_test, axis=0)\n",
    "\n",
    "predictor_calls_test = np.array(predictor_calls_test)\n"
   ]
  },
  {
   "cell_type": "code",
   "execution_count": 40,
   "metadata": {},
   "outputs": [
    {
     "name": "stdout",
     "output_type": "stream",
     "text": [
      "Total number of predictor calls   = 235939067\n",
      "Average number of predictor calls = 1179695.335\n"
     ]
    }
   ],
   "source": [
    "#Print predictor call statistics\n",
    "\n",
    "print(\"Total number of predictor calls   = \" + str(np.sum(predictor_calls_test)))\n",
    "print(\"Average number of predictor calls = \" + str(np.mean(predictor_calls_test)))\n"
   ]
  },
  {
   "cell_type": "code",
   "execution_count": 41,
   "metadata": {},
   "outputs": [
    {
     "name": "stdout",
     "output_type": "stream",
     "text": [
      "Test image 0:\n"
     ]
    },
    {
     "data": {
      "image/png": "[encoded data removed]",
      "text/plain": [
       "<Figure size 648x216 with 3 Axes>"
      ]
     },
     "metadata": {},
     "output_type": "display_data"
    },
    {
     "name": "stdout",
     "output_type": "stream",
     "text": [
      "Test image 1:\n"
     ]
    },
    {
     "data": {
      "image/png": "[encoded data removed]",
      "text/plain": [
       "<Figure size 648x216 with 3 Axes>"
      ]
     },
     "metadata": {},
     "output_type": "display_data"
    },
    {
     "name": "stdout",
     "output_type": "stream",
     "text": [
      "Test image 2:\n"
     ]
    },
    {
     "data": {
      "image/png": "[encoded data removed]",
      "text/plain": [
       "<Figure size 648x216 with 3 Axes>"
      ]
     },
     "metadata": {},
     "output_type": "display_data"
    },
    {
     "name": "stdout",
     "output_type": "stream",
     "text": [
      "Test image 3:\n"
     ]
    },
    {
     "data": {
      "image/png": "[encoded data removed]",
      "text/plain": [
       "<Figure size 648x216 with 3 Axes>"
      ]
     },
     "metadata": {},
     "output_type": "display_data"
    },
    {
     "name": "stdout",
     "output_type": "stream",
     "text": [
      "Test image 4:\n"
     ]
    },
    {
     "data": {
      "image/png": "[encoded data removed]",
      "text/plain": [
       "<Figure size 648x216 with 3 Axes>"
      ]
     },
     "metadata": {},
     "output_type": "display_data"
    }
   ],
   "source": [
    "#Visualize a few images\n",
    "\n",
    "for plot_i in range(0, 5) :\n",
    "    \n",
    "    print(\"Test image \" + str(plot_i) + \":\")\n",
    "    \n",
    "    f, (ax1, ax2, ax3) = plt.subplots(1, 3, figsize=(3 * 3, 3))\n",
    "\n",
    "    ax1.imshow(x_test[plot_i, :, :, 0], cmap=\"Greys\", vmin=0.0, vmax=1.0, aspect='equal')\n",
    "\n",
    "    plt.sca(ax1)\n",
    "    plt.xticks([], [])\n",
    "    plt.yticks([], [])\n",
    "    \n",
    "    ax2.imshow(importance_scores_test[plot_i, :, :, 0], cmap=\"hot\", vmin=0.0, vmax=np.max(importance_scores_test[plot_i, :, :, 0]), aspect='equal')\n",
    "\n",
    "    plt.sca(ax2)\n",
    "    plt.xticks([], [])\n",
    "    plt.yticks([], [])\n",
    "    \n",
    "    ax3.imshow(x_test[plot_i, :, :, 0], cmap=\"Greys\", vmin=0.0, vmax=1.0, aspect='equal')\n",
    "\n",
    "    ax3.imshow(importance_scores_test[plot_i, :, :, 0], alpha=0.75, cmap=\"hot\", vmin=0.0, vmax=np.max(importance_scores_test[plot_i, :, :, 0]), aspect='equal')\n",
    "\n",
    "    plt.sca(ax3)\n",
    "    plt.xticks([], [])\n",
    "    plt.yticks([], [])\n",
    "\n",
    "    plt.tight_layout()\n",
    "    plt.show()\n"
   ]
  },
  {
   "cell_type": "code",
   "execution_count": 42,
   "metadata": {},
   "outputs": [],
   "source": [
    "#Save predicted importance scores\n",
    "\n",
    "model_name = \"sufficient_input_subsets_\" + dataset_name + \"_thresh_095_mean\"\n",
    "\n",
    "np.save(model_name + \"_importance_scores_test\", importance_scores_test)\n"
   ]
  },
  {
   "cell_type": "code",
   "execution_count": null,
   "metadata": {},
   "outputs": [],
   "source": []
  }
 ],
 "metadata": {
  "kernelspec": {
   "display_name": "Environment (conda_tensorflow_p36)",
   "language": "python",
   "name": "conda_tensorflow_p36"
  },
  "language_info": {
   "codemirror_mode": {
    "name": "ipython",
    "version": 3
   },
   "file_extension": ".py",
   "mimetype": "text/x-python",
   "name": "python",
   "nbconvert_exporter": "python",
   "pygments_lexer": "ipython3",
   "version": "3.6.5"
  }
 },
 "nbformat": 4,
 "nbformat_minor": 2
}
