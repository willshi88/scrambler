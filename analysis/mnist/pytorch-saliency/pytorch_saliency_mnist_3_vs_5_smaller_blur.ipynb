{
 "cells": [
  {
   "cell_type": "code",
   "execution_count": 1,
   "metadata": {
    "scrolled": true
   },
   "outputs": [],
   "source": [
    "from functools import partial\n",
    "\n",
    "from collections import defaultdict\n",
    "\n",
    "import os\n",
    "import pickle\n",
    "import numpy as np\n",
    "\n",
    "import scipy.sparse as sp\n",
    "import scipy.io as spio\n",
    "\n",
    "import matplotlib.pyplot as plt\n",
    "\n",
    "import torch\n",
    "import torch.nn as nn\n",
    "from torch.autograd import Variable\n",
    "from torch import optim\n",
    "import torch.nn.functional as F\n",
    "\n",
    "import tensorflow as tf\n",
    "\n",
    "from tensorflow.keras.datasets import mnist\n"
   ]
  },
  {
   "cell_type": "code",
   "execution_count": 2,
   "metadata": {},
   "outputs": [
    {
     "name": "stdout",
     "output_type": "stream",
     "text": [
      "x_train.shape = (11552, 28, 28, 1)\n",
      "n train samples = 11552\n",
      "n test samples = 1888\n"
     ]
    }
   ],
   "source": [
    "#Load MNIST data\n",
    "\n",
    "dataset_name = \"mnist_3_vs_5\"\n",
    "\n",
    "img_rows, img_cols = 28, 28\n",
    "\n",
    "num_classes = 10\n",
    "batch_size = 32\n",
    "\n",
    "included_classes = { 3, 5 }\n",
    "\n",
    "(x_train, y_train), (x_test, y_test) = mnist.load_data()\n",
    "\n",
    "keep_index_train = []\n",
    "for i in range(y_train.shape[0]) :\n",
    "    if y_train[i] in included_classes :\n",
    "        keep_index_train.append(i)\n",
    "\n",
    "keep_index_test = []\n",
    "for i in range(y_test.shape[0]) :\n",
    "    if y_test[i] in included_classes :\n",
    "        keep_index_test.append(i)\n",
    "\n",
    "x_train = x_train[keep_index_train]\n",
    "x_test = x_test[keep_index_test]\n",
    "y_train = y_train[keep_index_train]\n",
    "y_test = y_test[keep_index_test]\n",
    "\n",
    "n_train = int((x_train.shape[0] // batch_size) * batch_size)\n",
    "n_test = int((x_test.shape[0] // batch_size) * batch_size)\n",
    "x_train = x_train[:n_train]\n",
    "x_test = x_test[:n_test]\n",
    "y_train = y_train[:n_train]\n",
    "y_test = y_test[:n_test]\n",
    "\n",
    "\n",
    "x_train = x_train.reshape(x_train.shape[0], img_rows, img_cols, 1)\n",
    "x_test = x_test.reshape(x_test.shape[0], img_rows, img_cols, 1)\n",
    "\n",
    "input_shape = (img_rows, img_cols, 1)\n",
    "\n",
    "x_train = x_train.astype('float32')\n",
    "x_test = x_test.astype('float32')\n",
    "x_train /= 255\n",
    "x_test /= 255\n",
    "\n",
    "print(\"x_train.shape = \" + str(x_train.shape))\n",
    "\n",
    "print(\"n train samples = \" + str(x_train.shape[0]))\n",
    "print(\"n test samples = \" + str(x_test.shape[0]))\n",
    "\n",
    "y_train = tf.keras.utils.to_categorical(y_train, num_classes)\n",
    "y_test = tf.keras.utils.to_categorical(y_test, num_classes)\n",
    "\n",
    "#Binarize images\n",
    "\n",
    "def _binarize_images(x, val_thresh=0.5) :\n",
    "    \n",
    "    x_bin = np.zeros(x.shape)\n",
    "    x_bin[x >= val_thresh] = 1.\n",
    "    \n",
    "    return x_bin\n",
    "\n",
    "x_train = _binarize_images(x_train, val_thresh=0.5)\n",
    "x_test = _binarize_images(x_test, val_thresh=0.5)\n",
    "\n",
    "#Add padding to images\n",
    "padding = 2\n",
    "\n",
    "x_train_padded = np.concatenate([\n",
    "    np.zeros((x_train.shape[0], x_train.shape[1] + 4, 2, 1)),\n",
    "    np.concatenate([\n",
    "        np.zeros((x_train.shape[0], 2, x_train.shape[2], 1)),\n",
    "        x_train,\n",
    "        np.zeros((x_train.shape[0], 2, x_train.shape[2], 1))\n",
    "    ], axis=1),\n",
    "    np.zeros((x_train.shape[0], x_train.shape[1] + 4, 2, 1))\n",
    "], axis=2)\n",
    "\n",
    "x_test_padded = np.concatenate([\n",
    "    np.zeros((x_test.shape[0], x_test.shape[1] + 4, 2, 1)),\n",
    "    np.concatenate([\n",
    "        np.zeros((x_test.shape[0], 2, x_test.shape[2], 1)),\n",
    "        x_test,\n",
    "        np.zeros((x_test.shape[0], 2, x_test.shape[2], 1))\n",
    "    ], axis=1),\n",
    "    np.zeros((x_test.shape[0], x_test.shape[1] + 4, 2, 1))\n",
    "], axis=2)\n"
   ]
  },
  {
   "cell_type": "code",
   "execution_count": 3,
   "metadata": {},
   "outputs": [
    {
     "data": {
      "image/png": "[encoded data removed]",
      "text/plain": [
       "<Figure size 288x288 with 1 Axes>"
      ]
     },
     "metadata": {},
     "output_type": "display_data"
    }
   ],
   "source": [
    "#Visualize background image distribution\n",
    "\n",
    "pseudo_count = 1.0\n",
    "\n",
    "x_mean = (np.sum(x_train, axis=(0, 3)) + pseudo_count) / (x_train.shape[0] + pseudo_count)\n",
    "x_mean_logits = np.log(x_mean / (1. - x_mean))\n",
    "\n",
    "f = plt.figure(figsize=(4, 4))\n",
    "\n",
    "plot_ix = 0\n",
    "\n",
    "plt.imshow(x_mean, cmap=\"Greys\", vmin=0.0, vmax=1.0, aspect='equal')\n",
    "\n",
    "plt.xticks([], [])\n",
    "plt.yticks([], [])\n",
    "\n",
    "plt.tight_layout()\n",
    "plt.show()\n"
   ]
  },
  {
   "cell_type": "code",
   "execution_count": 4,
   "metadata": {},
   "outputs": [],
   "source": [
    "from sal.saliency_model import SaliencyModel, get_black_box_fn\n",
    "from sal.utils.resnet_encoder_mnist import resnet50encoder\n",
    "\n",
    "model_save_str = \"pytorch_saliency_model_mnist_3_vs_5_smaller_blur_resnet50_n_epochs_phase1_0_phase2_20\"\n",
    "\n",
    "saliency = SaliencyModel(resnet50encoder(pretrained_f=None, num_classes=10), 5, 64, 3, 64, fix_encoder=False, use_simple_activation=False, allow_selector=False, num_classes=10)\n",
    "saliency.restore(model_save_str)\n"
   ]
  },
  {
   "cell_type": "code",
   "execution_count": 5,
   "metadata": {},
   "outputs": [],
   "source": [
    "#Create pytorch input tensor\n",
    "\n",
    "x_test_padded_pytorch = Variable(torch.FloatTensor(np.transpose(x_test_padded, (0, 3, 1, 2))))\n",
    "x_test_padded_pytorch = x_test_padded_pytorch.cuda()\n",
    "\n",
    "digit_test = np.array(np.argmax(y_test, axis=1), dtype=np.int)\n",
    "\n",
    "device = torch.device('cuda:0')\n",
    "\n",
    "saliency.to(device)\n",
    "x_test_padded_pytorch = x_test_padded_pytorch.to(device)\n"
   ]
  },
  {
   "cell_type": "code",
   "execution_count": 6,
   "metadata": {},
   "outputs": [
    {
     "name": "stderr",
     "output_type": "stream",
     "text": [
      "/home/ubuntu/anaconda3/envs/pytorch_p27/lib/python2.7/site-packages/torch/nn/functional.py:2416: UserWarning: nn.functional.upsample is deprecated. Use nn.functional.interpolate instead.\n",
      "  warnings.warn(\"nn.functional.upsample is deprecated. Use nn.functional.interpolate instead.\")\n",
      "/home/ubuntu/anaconda3/envs/pytorch_p27/lib/python2.7/site-packages/torch/nn/functional.py:2506: UserWarning: Default upsampling behavior when mode=bilinear is changed to align_corners=False since 0.4.0. Please specify align_corners=True if the old behavior is desired. See the documentation of nn.Upsample for details.\n",
      "  \"See the documentation of nn.Upsample for details.\".format(mode))\n"
     ]
    },
    {
     "name": "stdout",
     "output_type": "stream",
     "text": [
      "masks.shape = (1888, 28, 28, 1)\n"
     ]
    }
   ],
   "source": [
    "\n",
    "n_batches = x_test.shape[0] // batch_size\n",
    "\n",
    "masks_padded = []\n",
    "\n",
    "with torch.no_grad() :\n",
    "    for batch_ix in range(n_batches) :\n",
    "\n",
    "        x_batch = x_test_padded_pytorch[batch_ix * batch_size:(batch_ix + 1) * batch_size, ...]\n",
    "\n",
    "        mask_batch = saliency(x_batch)[0]\n",
    "\n",
    "        if mask_batch.size()[-2:] != x_batch.size()[-2:]:\n",
    "            mask_batch = F.upsample(mask_batch, (x_batch.size(2), x_batch.size(3)), mode='bilinear')\n",
    "        \n",
    "        mask_batch = mask_batch.cpu().numpy()\n",
    "        \n",
    "        masks_padded.append(mask_batch)\n",
    "\n",
    "masks_padded = np.concatenate(masks_padded, axis=0)\n",
    "masks_padded = np.transpose(masks_padded, (0, 2, 3, 1))\n",
    "\n",
    "masks = masks_padded[:, padding:-padding, padding:-padding, :]\n",
    "\n",
    "print(\"masks.shape = \" + str(masks.shape))\n"
   ]
  },
  {
   "cell_type": "code",
   "execution_count": 7,
   "metadata": {},
   "outputs": [],
   "source": [
    "\n",
    "def _unpool(masks, unpool_factor=2) :\n",
    "    \n",
    "    masks_unpooled = np.zeros((masks.shape[0], masks.shape[1] * unpool_factor, masks.shape[2] * unpool_factor, 1))\n",
    "    \n",
    "    for i in range(masks_unpooled.shape[1]) :\n",
    "        for j in range(masks_unpooled.shape[2]) :\n",
    "            masks_unpooled[:, i, j, 0] = masks[:, i // unpool_factor, j // unpool_factor, 0]\n",
    "\n",
    "    return masks_unpooled\n",
    "\n",
    "importance_scores_test = _unpool(masks, unpool_factor=1)\n"
   ]
  },
  {
   "cell_type": "code",
   "execution_count": 8,
   "metadata": {
    "scrolled": true
   },
   "outputs": [
    {
     "name": "stdout",
     "output_type": "stream",
     "text": [
      "Test image 0:\n"
     ]
    },
    {
     "data": {
      "image/png": "[encoded data removed]",
      "text/plain": [
       "<Figure size 648x216 with 3 Axes>"
      ]
     },
     "metadata": {},
     "output_type": "display_data"
    },
    {
     "name": "stdout",
     "output_type": "stream",
     "text": [
      "Test image 1:\n"
     ]
    },
    {
     "data": {
      "image/png": "[encoded data removed]",
      "text/plain": [
       "<Figure size 648x216 with 3 Axes>"
      ]
     },
     "metadata": {},
     "output_type": "display_data"
    },
    {
     "name": "stdout",
     "output_type": "stream",
     "text": [
      "Test image 2:\n"
     ]
    },
    {
     "data": {
      "image/png": "[encoded data removed]",
      "text/plain": [
       "<Figure size 648x216 with 3 Axes>"
      ]
     },
     "metadata": {},
     "output_type": "display_data"
    },
    {
     "name": "stdout",
     "output_type": "stream",
     "text": [
      "Test image 3:\n"
     ]
    },
    {
     "data": {
      "image/png": "[encoded data removed]",
      "text/plain": [
       "<Figure size 648x216 with 3 Axes>"
      ]
     },
     "metadata": {},
     "output_type": "display_data"
    },
    {
     "name": "stdout",
     "output_type": "stream",
     "text": [
      "Test image 4:\n"
     ]
    },
    {
     "data": {
      "image/png": "[encoded data removed]",
      "text/plain": [
       "<Figure size 648x216 with 3 Axes>"
      ]
     },
     "metadata": {},
     "output_type": "display_data"
    },
    {
     "name": "stdout",
     "output_type": "stream",
     "text": [
      "Test image 5:\n"
     ]
    },
    {
     "data": {
      "image/png": "[encoded data removed]",
      "text/plain": [
       "<Figure size 648x216 with 3 Axes>"
      ]
     },
     "metadata": {},
     "output_type": "display_data"
    },
    {
     "name": "stdout",
     "output_type": "stream",
     "text": [
      "Test image 6:\n"
     ]
    },
    {
     "data": {
      "image/png": "[encoded data removed]",
      "text/plain": [
       "<Figure size 648x216 with 3 Axes>"
      ]
     },
     "metadata": {},
     "output_type": "display_data"
    },
    {
     "name": "stdout",
     "output_type": "stream",
     "text": [
      "Test image 7:\n"
     ]
    },
    {
     "data": {
      "image/png": "[encoded data removed]",
      "text/plain": [
       "<Figure size 648x216 with 3 Axes>"
      ]
     },
     "metadata": {},
     "output_type": "display_data"
    },
    {
     "name": "stdout",
     "output_type": "stream",
     "text": [
      "Test image 8:\n"
     ]
    },
    {
     "data": {
      "image/png": "[encoded data removed]",
      "text/plain": [
       "<Figure size 648x216 with 3 Axes>"
      ]
     },
     "metadata": {},
     "output_type": "display_data"
    },
    {
     "name": "stdout",
     "output_type": "stream",
     "text": [
      "Test image 9:\n"
     ]
    },
    {
     "data": {
      "image/png": "[encoded data removed]",
      "text/plain": [
       "<Figure size 648x216 with 3 Axes>"
      ]
     },
     "metadata": {},
     "output_type": "display_data"
    },
    {
     "name": "stdout",
     "output_type": "stream",
     "text": [
      "Test image 10:\n"
     ]
    },
    {
     "data": {
      "image/png": "[encoded data removed]",
      "text/plain": [
       "<Figure size 648x216 with 3 Axes>"
      ]
     },
     "metadata": {},
     "output_type": "display_data"
    },
    {
     "name": "stdout",
     "output_type": "stream",
     "text": [
      "Test image 11:\n"
     ]
    },
    {
     "data": {
      "image/png": "[encoded data removed]",
      "text/plain": [
       "<Figure size 648x216 with 3 Axes>"
      ]
     },
     "metadata": {},
     "output_type": "display_data"
    },
    {
     "name": "stdout",
     "output_type": "stream",
     "text": [
      "Test image 12:\n"
     ]
    },
    {
     "data": {
      "image/png": "[encoded data removed]",
      "text/plain": [
       "<Figure size 648x216 with 3 Axes>"
      ]
     },
     "metadata": {},
     "output_type": "display_data"
    },
    {
     "name": "stdout",
     "output_type": "stream",
     "text": [
      "Test image 13:\n"
     ]
    },
    {
     "data": {
      "image/png": "[encoded data removed]",
      "text/plain": [
       "<Figure size 648x216 with 3 Axes>"
      ]
     },
     "metadata": {},
     "output_type": "display_data"
    },
    {
     "name": "stdout",
     "output_type": "stream",
     "text": [
      "Test image 14:\n"
     ]
    },
    {
     "data": {
      "image/png": "[encoded data removed]",
      "text/plain": [
       "<Figure size 648x216 with 3 Axes>"
      ]
     },
     "metadata": {},
     "output_type": "display_data"
    },
    {
     "name": "stdout",
     "output_type": "stream",
     "text": [
      "Test image 15:\n"
     ]
    },
    {
     "data": {
      "image/png": "[encoded data removed]",
      "text/plain": [
       "<Figure size 648x216 with 3 Axes>"
      ]
     },
     "metadata": {},
     "output_type": "display_data"
    },
    {
     "name": "stdout",
     "output_type": "stream",
     "text": [
      "Test image 16:\n"
     ]
    },
    {
     "data": {
      "image/png": "[encoded data removed]",
      "text/plain": [
       "<Figure size 648x216 with 3 Axes>"
      ]
     },
     "metadata": {},
     "output_type": "display_data"
    },
    {
     "name": "stdout",
     "output_type": "stream",
     "text": [
      "Test image 17:\n"
     ]
    },
    {
     "data": {
      "image/png": "[encoded data removed]",
      "text/plain": [
       "<Figure size 648x216 with 3 Axes>"
      ]
     },
     "metadata": {},
     "output_type": "display_data"
    },
    {
     "name": "stdout",
     "output_type": "stream",
     "text": [
      "Test image 18:\n"
     ]
    },
    {
     "data": {
      "image/png": "[encoded data removed]",
      "text/plain": [
       "<Figure size 648x216 with 3 Axes>"
      ]
     },
     "metadata": {},
     "output_type": "display_data"
    },
    {
     "name": "stdout",
     "output_type": "stream",
     "text": [
      "Test image 19:\n"
     ]
    },
    {
     "data": {
      "image/png": "[encoded data removed]",
      "text/plain": [
       "<Figure size 648x216 with 3 Axes>"
      ]
     },
     "metadata": {},
     "output_type": "display_data"
    }
   ],
   "source": [
    "#Visualize a few images\n",
    "\n",
    "for plot_i in range(0, 20) :\n",
    "    \n",
    "    print(\"Test image \" + str(plot_i) + \":\")\n",
    "    \n",
    "    f, (ax1, ax2, ax3) = plt.subplots(1, 3, figsize=(3 * 3, 3))\n",
    "\n",
    "    ax1.imshow(x_test[plot_i, :, :, 0], cmap=\"Greys\", vmin=0.0, vmax=1.0, aspect='equal')\n",
    "\n",
    "    plt.sca(ax1)\n",
    "    plt.xticks([], [])\n",
    "    plt.yticks([], [])\n",
    "    \n",
    "    ax2.imshow(importance_scores_test[plot_i, :, :, 0], cmap=\"hot\", vmin=0.0, vmax=np.max(importance_scores_test[plot_i, :, :, 0]), aspect='equal')\n",
    "\n",
    "    plt.sca(ax2)\n",
    "    plt.xticks([], [])\n",
    "    plt.yticks([], [])\n",
    "    \n",
    "    ax3.imshow(x_test[plot_i, :, :, 0], cmap=\"Greys\", vmin=0.0, vmax=1.0, aspect='equal')\n",
    "\n",
    "    ax3.imshow(importance_scores_test[plot_i, :, :, 0], alpha=0.75, cmap=\"hot\", vmin=0.0, vmax=np.max(importance_scores_test[plot_i, :, :, 0]), aspect='equal')\n",
    "\n",
    "    plt.sca(ax3)\n",
    "    plt.xticks([], [])\n",
    "    plt.yticks([], [])\n",
    "\n",
    "    plt.tight_layout()\n",
    "    plt.show()\n"
   ]
  },
  {
   "cell_type": "code",
   "execution_count": 9,
   "metadata": {},
   "outputs": [],
   "source": [
    "#Save predicted importance scores\n",
    "\n",
    "model_name = \"pytorch_saliency_\" + dataset_name + \"_smaller_blur\"\n",
    "\n",
    "np.save(model_name + \"_importance_scores_test\", importance_scores_test)\n"
   ]
  },
  {
   "cell_type": "code",
   "execution_count": null,
   "metadata": {},
   "outputs": [],
   "source": []
  }
 ],
 "metadata": {
  "kernelspec": {
   "display_name": "Environment (conda_pytorch_p27)",
   "language": "python",
   "name": "conda_pytorch_p27"
  },
  "language_info": {
   "codemirror_mode": {
    "name": "ipython",
    "version": 2
   },
   "file_extension": ".py",
   "mimetype": "text/x-python",
   "name": "python",
   "nbconvert_exporter": "python",
   "pygments_lexer": "ipython2",
   "version": "2.7.16"
  }
 },
 "nbformat": 4,
 "nbformat_minor": 2
}
