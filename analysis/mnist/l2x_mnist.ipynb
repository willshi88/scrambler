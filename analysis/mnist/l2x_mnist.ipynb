{
 "cells": [
  {
   "cell_type": "code",
   "execution_count": 1,
   "metadata": {
    "scrolled": true
   },
   "outputs": [
    {
     "name": "stderr",
     "output_type": "stream",
     "text": [
      "Using TensorFlow backend.\n"
     ]
    }
   ],
   "source": [
    "import keras\n",
    "from keras.datasets import mnist\n",
    "from keras.models import load_model\n",
    "from keras.models import Sequential, Model\n",
    "from keras.layers import Dense, Dropout, Flatten\n",
    "from keras.layers import Conv2D, MaxPooling2D\n",
    "\n",
    "from functools import partial\n",
    "\n",
    "from collections import defaultdict\n",
    "\n",
    "import isolearn.keras as iso\n",
    "\n",
    "import os\n",
    "import pickle\n",
    "import numpy as np\n",
    "\n",
    "import scipy.sparse as sp\n",
    "import scipy.io as spio\n",
    "\n",
    "import matplotlib.pyplot as plt\n",
    "\n",
    "import tensorflow as tf\n",
    "\n",
    "from keras.backend.tensorflow_backend import set_session\n",
    "\n",
    "def contain_tf_gpu_mem_usage() :\n",
    "    config = tf.ConfigProto()\n",
    "    config.gpu_options.allow_growth = True\n",
    "    sess = tf.Session(config=config)\n",
    "    set_session(sess)\n",
    "\n",
    "contain_tf_gpu_mem_usage()\n"
   ]
  },
  {
   "cell_type": "code",
   "execution_count": 2,
   "metadata": {},
   "outputs": [
    {
     "name": "stdout",
     "output_type": "stream",
     "text": [
      "x_train.shape = (11552, 28, 28, 1)\n",
      "n train samples = 11552\n",
      "n test samples = 1888\n"
     ]
    }
   ],
   "source": [
    "#Load MNIST data\n",
    "\n",
    "dataset_name = \"mnist_3_vs_5\"\n",
    "\n",
    "img_rows, img_cols = 28, 28\n",
    "\n",
    "num_classes = 10\n",
    "batch_size = 32\n",
    "\n",
    "included_classes = { 3, 5 }\n",
    "\n",
    "(x_train, y_train), (x_test, y_test) = mnist.load_data()\n",
    "\n",
    "keep_index_train = []\n",
    "for i in range(y_train.shape[0]) :\n",
    "    if y_train[i] in included_classes :\n",
    "        keep_index_train.append(i)\n",
    "\n",
    "keep_index_test = []\n",
    "for i in range(y_test.shape[0]) :\n",
    "    if y_test[i] in included_classes :\n",
    "        keep_index_test.append(i)\n",
    "\n",
    "x_train = x_train[keep_index_train]\n",
    "x_test = x_test[keep_index_test]\n",
    "y_train = y_train[keep_index_train]\n",
    "y_test = y_test[keep_index_test]\n",
    "\n",
    "n_train = int((x_train.shape[0] // batch_size) * batch_size)\n",
    "n_test = int((x_test.shape[0] // batch_size) * batch_size)\n",
    "x_train = x_train[:n_train]\n",
    "x_test = x_test[:n_test]\n",
    "y_train = y_train[:n_train]\n",
    "y_test = y_test[:n_test]\n",
    "\n",
    "\n",
    "x_train = x_train.reshape(x_train.shape[0], img_rows, img_cols, 1)\n",
    "x_test = x_test.reshape(x_test.shape[0], img_rows, img_cols, 1)\n",
    "\n",
    "input_shape = (img_rows, img_cols, 1)\n",
    "\n",
    "x_train = x_train.astype('float32')\n",
    "x_test = x_test.astype('float32')\n",
    "x_train /= 255\n",
    "x_test /= 255\n",
    "\n",
    "print(\"x_train.shape = \" + str(x_train.shape))\n",
    "\n",
    "print(\"n train samples = \" + str(x_train.shape[0]))\n",
    "print(\"n test samples = \" + str(x_test.shape[0]))\n",
    "\n",
    "y_train = keras.utils.to_categorical(y_train, num_classes)\n",
    "y_test = keras.utils.to_categorical(y_test, num_classes)\n",
    "\n",
    "#Binarize images\n",
    "\n",
    "def _binarize_images(x, val_thresh=0.5) :\n",
    "    \n",
    "    x_bin = np.zeros(x.shape)\n",
    "    x_bin[x >= val_thresh] = 1.\n",
    "    \n",
    "    return x_bin\n",
    "\n",
    "x_train = _binarize_images(x_train, val_thresh=0.5)\n",
    "x_test = _binarize_images(x_test, val_thresh=0.5)\n",
    "\n",
    "digit_train = np.argmax(y_train, axis=1)\n",
    "digit_test = np.argmax(y_test, axis=1)\n"
   ]
  },
  {
   "cell_type": "code",
   "execution_count": 3,
   "metadata": {},
   "outputs": [
    {
     "name": "stdout",
     "output_type": "stream",
     "text": [
      "WARNING:tensorflow:From /home/ubuntu/anaconda3/envs/tensorflow_p36/lib/python3.6/site-packages/tensorflow/python/framework/op_def_library.py:263: colocate_with (from tensorflow.python.framework.ops) is deprecated and will be removed in a future version.\n",
      "Instructions for updating:\n",
      "Colocations handled automatically by placer.\n",
      "WARNING:tensorflow:From /home/ubuntu/anaconda3/envs/tensorflow_p36/lib/python3.6/site-packages/keras/backend/tensorflow_backend.py:3445: calling dropout (from tensorflow.python.ops.nn_ops) with keep_prob is deprecated and will be removed in a future version.\n",
      "Instructions for updating:\n",
      "Please use `rate` instead of `keep_prob`. Rate should be set to `rate = 1 - keep_prob`.\n"
     ]
    }
   ],
   "source": [
    "#Load predictor model\n",
    "\n",
    "predictor = Sequential()\n",
    "\n",
    "predictor.add(Conv2D(32, kernel_size=(3, 3), activation='relu', input_shape=input_shape, name='conv2d_1'))\n",
    "predictor.add(Conv2D(64, (3, 3), activation='relu', name='conv2d_2'))\n",
    "predictor.add(MaxPooling2D(pool_size=(2, 2)))\n",
    "predictor.add(Dropout(0.25))\n",
    "predictor.add(Flatten())\n",
    "predictor.add(Dense(128, activation='relu', name='dense_1'))\n",
    "predictor.add(Dropout(0.5))\n",
    "predictor.add(Dense(num_classes, activation='softmax', name='dense_2'))\n",
    "\n",
    "predictor.load_weights('saved_models/mnist_binarized_cnn_10_digits.h5')\n",
    "predictor.trainable = False\n",
    "\n",
    "predictor.compile(\n",
    "    loss=keras.losses.categorical_crossentropy,\n",
    "    optimizer=keras.optimizers.Adadelta(),\n",
    "    metrics=['accuracy']\n",
    ")\n"
   ]
  },
  {
   "cell_type": "code",
   "execution_count": 4,
   "metadata": {},
   "outputs": [],
   "source": [
    "#Generate (original) predictions\n",
    "\n",
    "pred_train = predictor.predict(x_train, batch_size=32)\n",
    "pred_test = predictor.predict(x_test, batch_size=32)\n"
   ]
  },
  {
   "cell_type": "code",
   "execution_count": 5,
   "metadata": {},
   "outputs": [],
   "source": [
    "###########################################\n",
    "####################L2X####################\n",
    "###########################################\n",
    "\n",
    "from keras.callbacks import ModelCheckpoint\n",
    "from keras.models import Model, Sequential \n",
    "\n",
    "import numpy as np\n",
    "import tensorflow as tf\n",
    "\n",
    "from keras.layers import MaxPooling2D, Flatten, Conv2D, Input, GlobalMaxPooling2D, Multiply, Lambda, Embedding, Dense, Dropout, Activation\n",
    "from keras.datasets import imdb\n",
    "from keras import backend as K  \n",
    "from keras.engine.topology import Layer \n",
    "\n",
    "# Define various Keras layers.\n",
    "class Concatenate1D(Layer):\n",
    "    \"\"\"\n",
    "    Layer for concatenation. \n",
    "\n",
    "    \"\"\"\n",
    "    def __init__(self, **kwargs): \n",
    "        super(Concatenate1D, self).__init__(**kwargs)\n",
    "\n",
    "    def call(self, inputs):\n",
    "        input1, input2 = inputs  \n",
    "        input1 = tf.expand_dims(input1, axis = -2) # [batchsize, 1, input1_dim] \n",
    "        dim1 = int(input2.get_shape()[1])\n",
    "        input1 = tf.tile(input1, [1, dim1, 1])\n",
    "        return tf.concat([input1, input2], axis = -1)\n",
    "\n",
    "    def compute_output_shape(self, input_shapes):\n",
    "        input_shape1, input_shape2 = input_shapes\n",
    "        input_shape = list(input_shape2)\n",
    "        input_shape[-1] = int(input_shape[-1]) + int(input_shape1[-1])\n",
    "        input_shape[-2] = int(input_shape[-2])\n",
    "        return tuple(input_shape)\n",
    "\n",
    "class Concatenate2D(Layer):\n",
    "    \"\"\"\n",
    "    Layer for concatenation. \n",
    "\n",
    "    \"\"\"\n",
    "    def __init__(self, **kwargs): \n",
    "        super(Concatenate2D, self).__init__(**kwargs)\n",
    "\n",
    "    def call(self, inputs):\n",
    "        input1, input2 = inputs  \n",
    "        input1 = tf.expand_dims(tf.expand_dims(input1, axis = -2), axis = -2) # [batchsize, 1, 1, input1_dim] \n",
    "        dim1 = int(input2.get_shape()[1])\n",
    "        dim2 = int(input2.get_shape()[2])\n",
    "        input1 = tf.tile(input1, [1, dim1, dim2, 1])\n",
    "        return tf.concat([input1, input2], axis = -1)\n",
    "\n",
    "    def compute_output_shape(self, input_shapes):\n",
    "        input_shape1, input_shape2 = input_shapes\n",
    "        input_shape = list(input_shape2)\n",
    "        input_shape[-1] = int(input_shape[-1]) + int(input_shape1[-1])\n",
    "        input_shape[-2] = int(input_shape[-2])\n",
    "        input_shape[-3] = int(input_shape[-3])\n",
    "        return tuple(input_shape)\n",
    "\n",
    "class Sample_Concrete(Layer):\n",
    "    \"\"\"\n",
    "    Layer for sample Concrete / Gumbel-Softmax variables. \n",
    "\n",
    "    \"\"\"\n",
    "    def __init__(self, tau0, k, **kwargs): \n",
    "        self.tau0 = tau0\n",
    "        self.k = k\n",
    "        super(Sample_Concrete, self).__init__(**kwargs)\n",
    "\n",
    "    def call(self, logits):   \n",
    "        # logits: [batch_size, d, 1]\n",
    "        logits_ = K.permute_dimensions(logits, (0,2,1))# [batch_size, 1, d]\n",
    "        \n",
    "        d = int(logits_.get_shape()[2])\n",
    "        unif_shape = [batch_size,self.k,d]\n",
    "\n",
    "        uniform = K.random_uniform_variable(shape=unif_shape,\n",
    "            low = np.finfo(tf.float32.as_numpy_dtype).tiny,\n",
    "            high = 1.0)\n",
    "        gumbel = - K.log(-K.log(uniform))\n",
    "        noisy_logits = (gumbel + logits_)/self.tau0\n",
    "        samples = K.softmax(noisy_logits)\n",
    "        samples = K.max(samples, axis = 1) \n",
    "        logits = tf.reshape(logits,[-1, d]) \n",
    "        threshold = tf.expand_dims(tf.nn.top_k(logits, self.k, sorted = True)[0][:,-1], -1)\n",
    "        discrete_logits = tf.cast(tf.greater_equal(logits,threshold),tf.float32)\n",
    "\n",
    "        output = K.in_train_phase(samples, discrete_logits) \n",
    "        return tf.expand_dims(output,-1)\n",
    "\n",
    "    def compute_output_shape(self, input_shape):\n",
    "        return input_shape\n",
    "\n",
    "def construct_gumbel_selector(X_ph, n_filters=32, n_dense_units=32):\n",
    "    \"\"\"\n",
    "    Build the L2X model for selection operator. \n",
    "\n",
    "    \"\"\"\n",
    "    first_layer = Conv2D(n_filters, (3, 3), padding='same', activation='relu', strides=1, name = 'conv1_gumbel')(X_ph)    \n",
    "\n",
    "    # global info\n",
    "    net_new = GlobalMaxPooling2D(name = 'new_global_max_pooling1d_1')(first_layer)\n",
    "    global_info = Dense(n_dense_units, name = 'new_dense_1', activation='relu')(net_new) \n",
    "\n",
    "    # local info\n",
    "    net = Conv2D(n_filters, (3, 3), padding='same', activation='relu', strides=1, name = 'conv2_gumbel')(first_layer) \n",
    "    local_info = Conv2D(n_filters, (3, 3), padding='same', activation='relu', strides=1, name = 'conv3_gumbel')(net)  \n",
    "    combined = Concatenate2D()([global_info,local_info]) \n",
    "    net = Dropout(0.2, name = 'new_dropout_2')(combined)\n",
    "    net = Conv2D(n_filters, (1, 1), padding='same', activation='relu', strides=1, name = 'conv_last_gumbel')(net)   \n",
    "\n",
    "    logits_T = Conv2D(1, (1, 1), padding='same', activation=None, strides=1, name = 'conv4_gumbel')(net)  \n",
    "\n",
    "    return logits_T\n",
    "\n",
    "\n",
    "def L2X(x_train, y_train, pred_train, x_val, y_val, pred_val, k=10, batch_size=32, epochs=5, hidden_dims=250): \n",
    "    \"\"\"\n",
    "    Generate scores on features on validation by L2X.\n",
    "\n",
    "    Train the L2X model with variational approaches \n",
    "    if train = True. \n",
    "\n",
    "    \"\"\"\n",
    "    \n",
    "    Mean1D = Lambda(lambda x, k=k: K.sum(x, axis = 1) / float(k), output_shape=lambda x: [x[0],x[2]]) \n",
    "\n",
    "    Mean2D = Lambda(lambda x, k=k: K.sum(x, axis = (1, 2)) / float(k), output_shape=lambda x: [x[0],x[3]]) \n",
    "    \n",
    "    print('Creating model...')\n",
    "\n",
    "    # P(S|X)\n",
    "    with tf.variable_scope('selection_model'):\n",
    "        X_ph = Input(shape=(x_train.shape[1], x_train.shape[2], x_train.shape[3]))\n",
    "\n",
    "        logits_T = construct_gumbel_selector(X_ph)\n",
    "        tau = 0.5\n",
    "        \n",
    "        #Extra code: Flatten 2D\n",
    "        orig_logits_T = logits_T\n",
    "        logits_T = Lambda(lambda x: K.reshape(x, (K.shape(x)[0], x_train.shape[1] * x_train.shape[2], 1)))(logits_T)\n",
    "        \n",
    "        T = Sample_Concrete(tau, k)(logits_T)\n",
    "        \n",
    "        #Extra code: Inflate 2D\n",
    "        T = Lambda(lambda x: K.reshape(x, (K.shape(x)[0], x_train.shape[1], x_train.shape[2], 1)))(T)\n",
    "\n",
    "    # q(X_S)\n",
    "    with tf.variable_scope('prediction_model'):\n",
    "        \n",
    "        #Same architecture as original predictor\n",
    "        \n",
    "        net = Multiply()([X_ph, T])\n",
    "        net = Conv2D(32, (3, 3), padding='same', activation='relu')(net)\n",
    "        net = Conv2D(64, (3, 3), padding='same', activation='relu')(net)\n",
    "        net = MaxPooling2D(pool_size=(2, 2))(net)\n",
    "        net = Dropout(0.25)(net)\n",
    "        net = Flatten()(net)\n",
    "        net = Dense(hidden_dims, activation='relu')(net)\n",
    "        net = Dropout(0.5)(net)\n",
    "        preds = Dense(pred_train.shape[1], activation='softmax', name = 'new_dense')(net)\n",
    "        \n",
    "        '''\n",
    "        #Default approximator\n",
    "        \n",
    "        net = Mean2D(Multiply()([X_ph, T]))\n",
    "        net = Dense(hidden_dims)(net)\n",
    "        net = Dropout(0.2)(net)\n",
    "        net = Activation('relu')(net) \n",
    "        preds = Dense(pred_train.shape[1], activation='softmax', name = 'new_dense')(net)\n",
    "        '''\n",
    "\n",
    "\n",
    "    model = Model(inputs=X_ph, outputs=preds)\n",
    "\n",
    "    model.compile(loss='categorical_crossentropy', optimizer='rmsprop', metrics=['acc']) \n",
    "    train_acc = np.mean(np.argmax(pred_train, axis = 1)==np.argmax(y_train, axis = 1))\n",
    "    val_acc = np.mean(np.argmax(pred_val, axis = 1)==np.argmax(y_val, axis = 1))\n",
    "    print('The train and validation accuracy of the original model is {} and {}'.format(train_acc, val_acc))\n",
    "\n",
    "    print(model.summary())\n",
    "    \n",
    "    checkpoint = ModelCheckpoint(\"saved_models/l2x.hdf5\", monitor='val_acc', verbose=1, save_best_only=True, mode='max')\n",
    "    model.fit(x_train, pred_train, \n",
    "        validation_data=(x_val, pred_val), \n",
    "        callbacks=[checkpoint],\n",
    "        epochs=5, batch_size=batch_size\n",
    "    )\n",
    "\n",
    "    model.load_weights('saved_models/l2x.hdf5', by_name=True) \n",
    "\n",
    "    pred_model = Model([X_ph], [orig_logits_T, preds])\n",
    "    pred_model.compile(loss='categorical_crossentropy', optimizer='adam', metrics=['acc'])\n",
    "    \n",
    "    pred_model.load_weights('saved_models/l2x.hdf5', by_name=True) \n",
    "\n",
    "    scores, q = pred_model.predict(x_val, verbose=1, batch_size=batch_size)\n",
    "    \n",
    "    return scores, q\n"
   ]
  },
  {
   "cell_type": "code",
   "execution_count": 6,
   "metadata": {},
   "outputs": [],
   "source": [
    "#Create two-channel patterns for MNIST images\n",
    "\n",
    "x_train_two = np.concatenate([\n",
    "    1. - x_train,\n",
    "    x_train\n",
    "], axis=-1)\n",
    "\n",
    "x_test_two = np.concatenate([\n",
    "    1. - x_test,\n",
    "    x_test\n",
    "], axis=-1)\n"
   ]
  },
  {
   "cell_type": "code",
   "execution_count": 7,
   "metadata": {
    "scrolled": false
   },
   "outputs": [
    {
     "name": "stdout",
     "output_type": "stream",
     "text": [
      "Creating model...\n",
      "The train and validation accuracy of the original model is 0.9967105263157895 and 0.9936440677966102\n",
      "__________________________________________________________________________________________________\n",
      "Layer (type)                    Output Shape         Param #     Connected to                     \n",
      "==================================================================================================\n",
      "input_1 (InputLayer)            (None, 28, 28, 2)    0                                            \n",
      "__________________________________________________________________________________________________\n",
      "conv1_gumbel (Conv2D)           (None, 28, 28, 32)   608         input_1[0][0]                    \n",
      "__________________________________________________________________________________________________\n",
      "new_global_max_pooling1d_1 (Glo (None, 32)           0           conv1_gumbel[0][0]               \n",
      "__________________________________________________________________________________________________\n",
      "conv2_gumbel (Conv2D)           (None, 28, 28, 32)   9248        conv1_gumbel[0][0]               \n",
      "__________________________________________________________________________________________________\n",
      "new_dense_1 (Dense)             (None, 32)           1056        new_global_max_pooling1d_1[0][0] \n",
      "__________________________________________________________________________________________________\n",
      "conv3_gumbel (Conv2D)           (None, 28, 28, 32)   9248        conv2_gumbel[0][0]               \n",
      "__________________________________________________________________________________________________\n",
      "concatenate2d_1 (Concatenate2D) (None, 28, 28, 64)   0           new_dense_1[0][0]                \n",
      "                                                                 conv3_gumbel[0][0]               \n",
      "__________________________________________________________________________________________________\n",
      "new_dropout_2 (Dropout)         (None, 28, 28, 64)   0           concatenate2d_1[0][0]            \n",
      "__________________________________________________________________________________________________\n",
      "conv_last_gumbel (Conv2D)       (None, 28, 28, 32)   2080        new_dropout_2[0][0]              \n",
      "__________________________________________________________________________________________________\n",
      "conv4_gumbel (Conv2D)           (None, 28, 28, 1)    33          conv_last_gumbel[0][0]           \n",
      "__________________________________________________________________________________________________\n",
      "lambda_3 (Lambda)               (None, 784, 1)       0           conv4_gumbel[0][0]               \n",
      "__________________________________________________________________________________________________\n",
      "sample__concrete_1 (Sample_Conc (None, 784, 1)       0           lambda_3[0][0]                   \n",
      "__________________________________________________________________________________________________\n",
      "lambda_4 (Lambda)               (None, 28, 28, 1)    0           sample__concrete_1[0][0]         \n",
      "__________________________________________________________________________________________________\n",
      "multiply_1 (Multiply)           (None, 28, 28, 2)    0           input_1[0][0]                    \n",
      "                                                                 lambda_4[0][0]                   \n",
      "__________________________________________________________________________________________________\n",
      "conv2d_1 (Conv2D)               (None, 28, 28, 32)   608         multiply_1[0][0]                 \n",
      "__________________________________________________________________________________________________\n",
      "conv2d_2 (Conv2D)               (None, 28, 28, 64)   18496       conv2d_1[0][0]                   \n",
      "__________________________________________________________________________________________________\n",
      "max_pooling2d_2 (MaxPooling2D)  (None, 14, 14, 64)   0           conv2d_2[0][0]                   \n",
      "__________________________________________________________________________________________________\n",
      "dropout_3 (Dropout)             (None, 14, 14, 64)   0           max_pooling2d_2[0][0]            \n",
      "__________________________________________________________________________________________________\n",
      "flatten_2 (Flatten)             (None, 12544)        0           dropout_3[0][0]                  \n",
      "__________________________________________________________________________________________________\n",
      "dense_1 (Dense)                 (None, 128)          1605760     flatten_2[0][0]                  \n",
      "__________________________________________________________________________________________________\n",
      "dropout_4 (Dropout)             (None, 128)          0           dense_1[0][0]                    \n",
      "__________________________________________________________________________________________________\n",
      "new_dense (Dense)               (None, 10)           1290        dropout_4[0][0]                  \n",
      "==================================================================================================\n",
      "Total params: 1,648,427\n",
      "Trainable params: 1,648,427\n",
      "Non-trainable params: 0\n",
      "__________________________________________________________________________________________________\n",
      "None\n",
      "WARNING:tensorflow:From /home/ubuntu/anaconda3/envs/tensorflow_p36/lib/python3.6/site-packages/tensorflow/python/ops/math_ops.py:3066: to_int32 (from tensorflow.python.ops.math_ops) is deprecated and will be removed in a future version.\n",
      "Instructions for updating:\n",
      "Use tf.cast instead.\n",
      "WARNING:tensorflow:From /home/ubuntu/anaconda3/envs/tensorflow_p36/lib/python3.6/site-packages/tensorflow/python/ops/math_grad.py:102: div (from tensorflow.python.ops.math_ops) is deprecated and will be removed in a future version.\n",
      "Instructions for updating:\n",
      "Deprecated in favor of operator or tf.math.divide.\n",
      "Train on 11552 samples, validate on 1888 samples\n",
      "Epoch 1/5\n",
      "11552/11552 [==============================] - 9s 739us/step - loss: 0.1970 - acc: 0.9290 - val_loss: 0.0927 - val_acc: 0.9825\n",
      "\n",
      "Epoch 00001: val_acc improved from -inf to 0.98252, saving model to saved_models/l2x.hdf5\n",
      "Epoch 2/5\n",
      "11552/11552 [==============================] - 8s 666us/step - loss: 0.0862 - acc: 0.9781 - val_loss: 0.0759 - val_acc: 0.9841\n",
      "\n",
      "Epoch 00002: val_acc improved from 0.98252 to 0.98411, saving model to saved_models/l2x.hdf5\n",
      "Epoch 3/5\n",
      "11552/11552 [==============================] - 8s 654us/step - loss: 0.0696 - acc: 0.9829 - val_loss: 0.0629 - val_acc: 0.9894\n",
      "\n",
      "Epoch 00003: val_acc improved from 0.98411 to 0.98941, saving model to saved_models/l2x.hdf5\n",
      "Epoch 4/5\n",
      "11552/11552 [==============================] - 8s 665us/step - loss: 0.0602 - acc: 0.9861 - val_loss: 0.0836 - val_acc: 0.9862\n",
      "\n",
      "Epoch 00004: val_acc did not improve from 0.98941\n",
      "Epoch 5/5\n",
      "11552/11552 [==============================] - 8s 688us/step - loss: 0.0579 - acc: 0.9869 - val_loss: 0.0838 - val_acc: 0.9894\n",
      "\n",
      "Epoch 00005: val_acc did not improve from 0.98941\n",
      "1888/1888 [==============================] - 0s 231us/step\n"
     ]
    }
   ],
   "source": [
    "#Execute L2X\n",
    "\n",
    "k = int(np.ceil(0.05 * 28 * 28))\n",
    "batch_size = 32\n",
    "hidden_dims = 128#250\n",
    "epochs = 5\n",
    "\n",
    "importance_scores_test, q_test = L2X(\n",
    "    x_train_two,\n",
    "    y_train,\n",
    "    pred_train,\n",
    "    x_test_two,\n",
    "    y_test,\n",
    "    pred_test,\n",
    "    k=k,\n",
    "    batch_size=batch_size,\n",
    "    epochs=epochs,\n",
    "    hidden_dims=hidden_dims\n",
    ")\n"
   ]
  },
  {
   "cell_type": "code",
   "execution_count": 8,
   "metadata": {
    "scrolled": false
   },
   "outputs": [
    {
     "name": "stdout",
     "output_type": "stream",
     "text": [
      "Test image 0:\n"
     ]
    },
    {
     "data": {
      "image/png": "[encoded data removed]",
      "text/plain": [
       "<Figure size 648x216 with 3 Axes>"
      ]
     },
     "metadata": {},
     "output_type": "display_data"
    },
    {
     "name": "stdout",
     "output_type": "stream",
     "text": [
      "Test image 1:\n"
     ]
    },
    {
     "data": {
      "image/png": "[encoded data removed]",
      "text/plain": [
       "<Figure size 648x216 with 3 Axes>"
      ]
     },
     "metadata": {},
     "output_type": "display_data"
    },
    {
     "name": "stdout",
     "output_type": "stream",
     "text": [
      "Test image 2:\n"
     ]
    },
    {
     "data": {
      "image/png": "[encoded data removed]",
      "text/plain": [
       "<Figure size 648x216 with 3 Axes>"
      ]
     },
     "metadata": {},
     "output_type": "display_data"
    },
    {
     "name": "stdout",
     "output_type": "stream",
     "text": [
      "Test image 3:\n"
     ]
    },
    {
     "data": {
      "image/png": "[encoded data removed]",
      "text/plain": [
       "<Figure size 648x216 with 3 Axes>"
      ]
     },
     "metadata": {},
     "output_type": "display_data"
    },
    {
     "name": "stdout",
     "output_type": "stream",
     "text": [
      "Test image 4:\n"
     ]
    },
    {
     "data": {
      "image/png": "[encoded data removed]",
      "text/plain": [
       "<Figure size 648x216 with 3 Axes>"
      ]
     },
     "metadata": {},
     "output_type": "display_data"
    },
    {
     "name": "stdout",
     "output_type": "stream",
     "text": [
      "Test image 5:\n"
     ]
    },
    {
     "data": {
      "image/png": "[encoded data removed]",
      "text/plain": [
       "<Figure size 648x216 with 3 Axes>"
      ]
     },
     "metadata": {},
     "output_type": "display_data"
    },
    {
     "name": "stdout",
     "output_type": "stream",
     "text": [
      "Test image 6:\n"
     ]
    },
    {
     "data": {
      "image/png": "[encoded data removed]",
      "text/plain": [
       "<Figure size 648x216 with 3 Axes>"
      ]
     },
     "metadata": {},
     "output_type": "display_data"
    },
    {
     "name": "stdout",
     "output_type": "stream",
     "text": [
      "Test image 7:\n"
     ]
    },
    {
     "data": {
      "image/png": "[encoded data removed]",
      "text/plain": [
       "<Figure size 648x216 with 3 Axes>"
      ]
     },
     "metadata": {},
     "output_type": "display_data"
    },
    {
     "name": "stdout",
     "output_type": "stream",
     "text": [
      "Test image 8:\n"
     ]
    },
    {
     "data": {
      "image/png": "[encoded data removed]",
      "text/plain": [
       "<Figure size 648x216 with 3 Axes>"
      ]
     },
     "metadata": {},
     "output_type": "display_data"
    },
    {
     "name": "stdout",
     "output_type": "stream",
     "text": [
      "Test image 9:\n"
     ]
    },
    {
     "data": {
      "image/png": "[encoded data removed]",
      "text/plain": [
       "<Figure size 648x216 with 3 Axes>"
      ]
     },
     "metadata": {},
     "output_type": "display_data"
    }
   ],
   "source": [
    "#Visualize a few images\n",
    "\n",
    "for plot_i in range(0, 10) :\n",
    "    \n",
    "    print(\"Test image \" + str(plot_i) + \":\")\n",
    "    \n",
    "    f, (ax1, ax2, ax3) = plt.subplots(1, 3, figsize=(3 * 3, 3))\n",
    "\n",
    "    ax1.imshow(x_test[plot_i, :, :, 0], cmap=\"Greys\", vmin=0.0, vmax=1.0, aspect='equal')\n",
    "\n",
    "    plt.sca(ax1)\n",
    "    plt.xticks([], [])\n",
    "    plt.yticks([], [])\n",
    "    \n",
    "    #ax2.imshow(importance_scores_test[plot_i, :, :, 0], cmap=\"hot\", vmin=0.0, vmax=max(1e-7, np.max(importance_scores_test[plot_i, :, :, 0])), aspect='equal')\n",
    "    \n",
    "    vmin = np.quantile(importance_scores_test[plot_i, :, :, 0], q=1. - float(k)/float(28*28))\n",
    "    vmax = np.max(importance_scores_test[plot_i, :, :, 0])\n",
    "    \n",
    "    ax2.imshow(importance_scores_test[plot_i, :, :, 0], cmap=\"hot\", vmin=vmin, vmax=vmax, aspect='equal')\n",
    "\n",
    "    plt.sca(ax2)\n",
    "    plt.xticks([], [])\n",
    "    plt.yticks([], [])\n",
    "    \n",
    "    ax3.imshow(x_test[plot_i, :, :, 0], cmap=\"Greys\", vmin=0.0, vmax=1.0, aspect='equal')\n",
    "\n",
    "    #ax3.imshow(importance_scores_test[plot_i, :, :, 0], alpha=0.75, cmap=\"hot\", vmin=0.0, vmax=max(1e-7, np.max(importance_scores_test[plot_i, :, :, 0])), aspect='equal')\n",
    "    ax3.imshow(importance_scores_test[plot_i, :, :, 0], alpha=0.75, cmap=\"hot\", vmin=vmin, vmax=vmax, aspect='equal')\n",
    "\n",
    "    plt.sca(ax3)\n",
    "    plt.xticks([], [])\n",
    "    plt.yticks([], [])\n",
    "\n",
    "    plt.tight_layout()\n",
    "    plt.show()\n"
   ]
  },
  {
   "cell_type": "code",
   "execution_count": 9,
   "metadata": {},
   "outputs": [],
   "source": [
    "#Save predicted importance scores\n",
    "\n",
    "model_name = \"l2x_\" + dataset_name\n",
    "\n",
    "np.save(model_name + \"_importance_scores_test\", importance_scores_test)\n"
   ]
  },
  {
   "cell_type": "code",
   "execution_count": null,
   "metadata": {},
   "outputs": [],
   "source": []
  }
 ],
 "metadata": {
  "kernelspec": {
   "display_name": "Environment (conda_tensorflow_p36)",
   "language": "python",
   "name": "conda_tensorflow_p36"
  },
  "language_info": {
   "codemirror_mode": {
    "name": "ipython",
    "version": 3
   },
   "file_extension": ".py",
   "mimetype": "text/x-python",
   "name": "python",
   "nbconvert_exporter": "python",
   "pygments_lexer": "ipython3",
   "version": "3.6.5"
  }
 },
 "nbformat": 4,
 "nbformat_minor": 2
}
