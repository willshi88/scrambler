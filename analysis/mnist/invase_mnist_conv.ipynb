{
 "cells": [
  {
   "cell_type": "code",
   "execution_count": 1,
   "metadata": {
    "scrolled": true
   },
   "outputs": [
    {
     "name": "stderr",
     "output_type": "stream",
     "text": [
      "Using TensorFlow backend.\n"
     ]
    }
   ],
   "source": [
    "import keras\n",
    "from keras.datasets import mnist\n",
    "from keras.models import load_model\n",
    "from keras.models import Sequential, Model\n",
    "from keras.layers import Dense, Dropout, Flatten\n",
    "from keras.layers import Conv2D, MaxPooling2D\n",
    "\n",
    "from functools import partial\n",
    "\n",
    "from collections import defaultdict\n",
    "\n",
    "import isolearn.keras as iso\n",
    "\n",
    "import os\n",
    "import pickle\n",
    "import numpy as np\n",
    "\n",
    "import scipy.sparse as sp\n",
    "import scipy.io as spio\n",
    "\n",
    "import matplotlib.pyplot as plt\n",
    "\n",
    "import tensorflow as tf\n",
    "\n",
    "from keras.backend.tensorflow_backend import set_session\n",
    "\n",
    "def contain_tf_gpu_mem_usage() :\n",
    "    config = tf.ConfigProto()\n",
    "    config.gpu_options.allow_growth = True\n",
    "    sess = tf.Session(config=config)\n",
    "    set_session(sess)\n",
    "\n",
    "contain_tf_gpu_mem_usage()\n"
   ]
  },
  {
   "cell_type": "code",
   "execution_count": 2,
   "metadata": {},
   "outputs": [
    {
     "name": "stdout",
     "output_type": "stream",
     "text": [
      "x_train.shape = (11552, 28, 28, 1)\n",
      "n train samples = 11552\n",
      "n test samples = 1888\n"
     ]
    }
   ],
   "source": [
    "#Load MNIST data\n",
    "\n",
    "dataset_name = \"mnist_3_vs_5\"\n",
    "\n",
    "img_rows, img_cols = 28, 28\n",
    "\n",
    "num_classes = 10\n",
    "batch_size = 32\n",
    "\n",
    "included_classes = { 3, 5 }\n",
    "\n",
    "(x_train, y_train), (x_test, y_test) = mnist.load_data()\n",
    "\n",
    "keep_index_train = []\n",
    "for i in range(y_train.shape[0]) :\n",
    "    if y_train[i] in included_classes :\n",
    "        keep_index_train.append(i)\n",
    "\n",
    "keep_index_test = []\n",
    "for i in range(y_test.shape[0]) :\n",
    "    if y_test[i] in included_classes :\n",
    "        keep_index_test.append(i)\n",
    "\n",
    "x_train = x_train[keep_index_train]\n",
    "x_test = x_test[keep_index_test]\n",
    "y_train = y_train[keep_index_train]\n",
    "y_test = y_test[keep_index_test]\n",
    "\n",
    "n_train = int((x_train.shape[0] // batch_size) * batch_size)\n",
    "n_test = int((x_test.shape[0] // batch_size) * batch_size)\n",
    "x_train = x_train[:n_train]\n",
    "x_test = x_test[:n_test]\n",
    "y_train = y_train[:n_train]\n",
    "y_test = y_test[:n_test]\n",
    "\n",
    "\n",
    "x_train = x_train.reshape(x_train.shape[0], img_rows, img_cols, 1)\n",
    "x_test = x_test.reshape(x_test.shape[0], img_rows, img_cols, 1)\n",
    "\n",
    "input_shape = (img_rows, img_cols, 1)\n",
    "\n",
    "x_train = x_train.astype('float32')\n",
    "x_test = x_test.astype('float32')\n",
    "x_train /= 255\n",
    "x_test /= 255\n",
    "\n",
    "print(\"x_train.shape = \" + str(x_train.shape))\n",
    "\n",
    "print(\"n train samples = \" + str(x_train.shape[0]))\n",
    "print(\"n test samples = \" + str(x_test.shape[0]))\n",
    "\n",
    "y_train = keras.utils.to_categorical(y_train, num_classes)\n",
    "y_test = keras.utils.to_categorical(y_test, num_classes)\n",
    "\n",
    "#Binarize images\n",
    "\n",
    "def _binarize_images(x, val_thresh=0.5) :\n",
    "    \n",
    "    x_bin = np.zeros(x.shape)\n",
    "    x_bin[x >= val_thresh] = 1.\n",
    "    \n",
    "    return x_bin\n",
    "\n",
    "x_train = _binarize_images(x_train, val_thresh=0.5)\n",
    "x_test = _binarize_images(x_test, val_thresh=0.5)\n",
    "\n",
    "digit_train = np.argmax(y_train, axis=1)\n",
    "digit_test = np.argmax(y_test, axis=1)\n"
   ]
  },
  {
   "cell_type": "code",
   "execution_count": 3,
   "metadata": {},
   "outputs": [
    {
     "name": "stdout",
     "output_type": "stream",
     "text": [
      "WARNING:tensorflow:From /home/ubuntu/anaconda3/envs/tensorflow_p36/lib/python3.6/site-packages/tensorflow/python/framework/op_def_library.py:263: colocate_with (from tensorflow.python.framework.ops) is deprecated and will be removed in a future version.\n",
      "Instructions for updating:\n",
      "Colocations handled automatically by placer.\n",
      "WARNING:tensorflow:From /home/ubuntu/anaconda3/envs/tensorflow_p36/lib/python3.6/site-packages/keras/backend/tensorflow_backend.py:3445: calling dropout (from tensorflow.python.ops.nn_ops) with keep_prob is deprecated and will be removed in a future version.\n",
      "Instructions for updating:\n",
      "Please use `rate` instead of `keep_prob`. Rate should be set to `rate = 1 - keep_prob`.\n"
     ]
    }
   ],
   "source": [
    "#Load predictor model\n",
    "\n",
    "predictor = Sequential()\n",
    "\n",
    "predictor.add(Conv2D(32, kernel_size=(3, 3), activation='relu', input_shape=input_shape, name='conv2d_1'))\n",
    "predictor.add(Conv2D(64, (3, 3), activation='relu', name='conv2d_2'))\n",
    "predictor.add(MaxPooling2D(pool_size=(2, 2)))\n",
    "predictor.add(Dropout(0.25))\n",
    "predictor.add(Flatten())\n",
    "predictor.add(Dense(128, activation='relu', name='dense_1'))\n",
    "predictor.add(Dropout(0.5))\n",
    "predictor.add(Dense(num_classes, activation='softmax', name='dense_2'))\n",
    "\n",
    "predictor.load_weights('saved_models/mnist_binarized_cnn_10_digits.h5')\n",
    "predictor.trainable = False\n",
    "\n",
    "predictor.compile(\n",
    "    loss=keras.losses.categorical_crossentropy,\n",
    "    optimizer=keras.optimizers.Adadelta(),\n",
    "    metrics=['accuracy']\n",
    ")\n"
   ]
  },
  {
   "cell_type": "code",
   "execution_count": 4,
   "metadata": {},
   "outputs": [],
   "source": [
    "#Generate (original) predictions\n",
    "\n",
    "pred_train = predictor.predict(x_train, batch_size=32)\n",
    "pred_test = predictor.predict(x_test, batch_size=32)\n"
   ]
  },
  {
   "cell_type": "code",
   "execution_count": 5,
   "metadata": {},
   "outputs": [],
   "source": [
    "from keras.layers import Input, Dense, Multiply, Flatten, Reshape, Conv2D, MaxPooling2D, GlobalMaxPooling2D, Activation\n",
    "from keras.layers import BatchNormalization\n",
    "from keras.models import Sequential, Model\n",
    "from keras.optimizers import Adam\n",
    "from keras import regularizers\n",
    "from keras import backend as K\n",
    "\n",
    "import tensorflow as tf\n",
    "import numpy as np\n",
    "\n",
    "from keras.layers import Layer, InputSpec\n",
    "from keras import initializers, regularizers, constraints\n",
    "\n",
    "class InstanceNormalization(Layer):\n",
    "    def __init__(self, axes=(1, 2), trainable=True, **kwargs):\n",
    "        super(InstanceNormalization, self).__init__(**kwargs)\n",
    "        self.axes = axes\n",
    "        self.trainable = trainable\n",
    "    def build(self, input_shape):\n",
    "        self.beta  = self.add_weight(name='beta',shape=(input_shape[-1],),\n",
    "                                     initializer='zeros',trainable=self.trainable)\n",
    "        self.gamma = self.add_weight(name='gamma',shape=(input_shape[-1],),\n",
    "                                     initializer='ones',trainable=self.trainable)\n",
    "    def call(self, inputs):\n",
    "        mean, variance = tf.nn.moments(inputs, self.axes, keep_dims=True)\n",
    "        return tf.nn.batch_normalization(inputs, mean, variance, self.beta, self.gamma, 1e-6)\n",
    "\n",
    "def bernoulli_sampling (prob):\n",
    "    \"\"\" Sampling Bernoulli distribution by given probability.\n",
    "\n",
    "    Args:\n",
    "    - prob: P(Y = 1) in Bernoulli distribution.\n",
    "\n",
    "    Returns:\n",
    "    - samples: samples from Bernoulli distribution\n",
    "    \"\"\"  \n",
    "\n",
    "    n, x_len, y_len, d = prob.shape\n",
    "    samples = np.random.binomial(1, prob, (n, x_len, y_len, d))\n",
    "\n",
    "    return samples\n",
    "\n",
    "class INVASE():\n",
    "    \"\"\"INVASE class.\n",
    "\n",
    "    Attributes:\n",
    "    - x_train: training features\n",
    "    - y_train: training labels\n",
    "    - model_type: invase or invase_minus\n",
    "    - model_parameters:\n",
    "      - actor_h_dim: hidden state dimensions for actor\n",
    "      - critic_h_dim: hidden state dimensions for critic\n",
    "      - n_layer: the number of layers\n",
    "      - batch_size: the number of samples in mini batch\n",
    "      - iteration: the number of iterations\n",
    "      - activation: activation function of models\n",
    "      - learning_rate: learning rate of model training\n",
    "      - lamda: hyper-parameter of INVASE\n",
    "    \"\"\"\n",
    "\n",
    "    def __init__(self, x_train, y_train, model_type, model_parameters):\n",
    "\n",
    "        self.lamda = model_parameters['lamda']\n",
    "        self.actor_h_dim = model_parameters['actor_h_dim']\n",
    "        self.critic_h_dim = model_parameters['critic_h_dim']\n",
    "        self.n_layer = model_parameters['n_layer']\n",
    "        self.batch_size = model_parameters['batch_size']\n",
    "        self.iteration = model_parameters['iteration']\n",
    "        self.activation = model_parameters['activation']\n",
    "        self.learning_rate = model_parameters['learning_rate']\n",
    "\n",
    "        #Modified Code\n",
    "        self.x_len = x_train.shape[1]\n",
    "        self.y_len = x_train.shape[2]\n",
    "        self.dim = x_train.shape[3] \n",
    "        self.label_dim = y_train.shape[1]\n",
    "\n",
    "        self.model_type = model_type\n",
    "\n",
    "        optimizer = Adam(self.learning_rate)\n",
    "\n",
    "        # Build and compile critic\n",
    "        self.critic = self.build_critic()\n",
    "        self.critic.compile(loss='categorical_crossentropy', \n",
    "                            optimizer=optimizer, metrics=['acc'])\n",
    "\n",
    "        # Build and compile the actor\n",
    "        self.actor = self.build_actor()\n",
    "        self.actor.compile(loss=self.actor_loss, optimizer=optimizer)\n",
    "\n",
    "        if self.model_type == 'invase':\n",
    "            # Build and compile the baseline\n",
    "            self.baseline = self.build_baseline()\n",
    "            self.baseline.compile(loss='categorical_crossentropy', optimizer=optimizer, metrics=['acc'])\n",
    "\n",
    "\n",
    "    def actor_loss(self, y_true, y_pred):\n",
    "        \"\"\"Custom loss for the actor.\n",
    "\n",
    "        Args:\n",
    "          - y_true:\n",
    "            - actor_out: actor output after sampling\n",
    "            - critic_out: critic output \n",
    "            - baseline_out: baseline output (only for invase)\n",
    "          - y_pred: output of the actor network\n",
    "\n",
    "        Returns:\n",
    "          - loss: actor loss\n",
    "        \"\"\"\n",
    "        \n",
    "        y_pred = K.reshape(y_pred, (K.shape(y_pred)[0], self.x_len*self.y_len*1))\n",
    "        y_true = y_true[:, 0, 0, :]\n",
    "\n",
    "        # Actor output\n",
    "        actor_out = y_true[:, :self.x_len*self.y_len*1]\n",
    "        # Critic output\n",
    "        critic_out = y_true[:, self.x_len*self.y_len*1:(self.x_len*self.y_len*1+self.label_dim)]\n",
    "\n",
    "        if self.model_type == 'invase':\n",
    "            # Baseline output\n",
    "            baseline_out = \\\n",
    "            y_true[:, (self.x_len*self.y_len*1+self.label_dim):(self.x_len*self.y_len*1+2*self.label_dim)]\n",
    "            # Ground truth label\n",
    "            y_out = y_true[:, (self.x_len*self.y_len*1+2*self.label_dim):]        \n",
    "        elif self.model_type == 'invase_minus':\n",
    "            # Ground truth label\n",
    "            y_out = y_true[:, (self.x_len*self.y_len*1+self.label_dim):]         \n",
    "\n",
    "        # Critic loss\n",
    "        critic_loss = -tf.reduce_sum(y_out * tf.log(critic_out + 1e-8), axis = 1)  \n",
    "\n",
    "        if self.model_type == 'invase':        \n",
    "            # Baseline loss\n",
    "            baseline_loss = -tf.reduce_sum(y_out * tf.log(baseline_out + 1e-8), \n",
    "                                         axis = 1)  \n",
    "            # Reward\n",
    "            Reward = -(critic_loss - baseline_loss)\n",
    "        elif self.model_type == 'invase_minus':\n",
    "            Reward = -critic_loss\n",
    "\n",
    "        # Policy gradient loss computation. \n",
    "        custom_actor_loss = \\\n",
    "        Reward * tf.reduce_sum(actor_out * K.log(y_pred + 1e-8) + \\\n",
    "        (1-actor_out) * K.log(1-y_pred + 1e-8), axis = 1) - \\\n",
    "        self.lamda * tf.reduce_mean(y_pred, axis = 1)\n",
    "\n",
    "        # custom actor loss\n",
    "        custom_actor_loss = tf.reduce_mean(-custom_actor_loss)\n",
    "\n",
    "        return custom_actor_loss\n",
    "\n",
    "\n",
    "    def build_actor(self):\n",
    "        \"\"\"Build actor.\n",
    "\n",
    "        Use feature as the input and output selection probability\n",
    "        \"\"\"\n",
    "        actor_model = Sequential()\n",
    "        \n",
    "        actor_model.add(Conv2D(self.actor_h_dim, (3, 3), padding='same', activation='linear'))\n",
    "        actor_model.add(InstanceNormalization())\n",
    "        actor_model.add(Activation(self.activation))\n",
    "        for _ in range(self.n_layer - 2):\n",
    "            actor_model.add(Conv2D(self.actor_h_dim, (3, 3), padding='same', activation='linear'))\n",
    "            actor_model.add(InstanceNormalization())\n",
    "            actor_model.add(Activation(self.activation))\n",
    "        actor_model.add(Conv2D(1, (1, 1), padding='same', activation='sigmoid'))\n",
    "\n",
    "        feature = Input(shape=(self.x_len, self.y_len, self.dim), dtype='float32')\n",
    "        selection_probability = actor_model(feature)\n",
    "\n",
    "        return Model(feature, selection_probability)\n",
    "\n",
    "\n",
    "    def build_critic(self):\n",
    "        \"\"\"Build critic.\n",
    "\n",
    "        Use selected feature as the input and predict labels\n",
    "        \"\"\"\n",
    "        critic_model = Sequential()\n",
    "        \n",
    "        critic_model.add(Conv2D(self.critic_h_dim, (3, 3), padding='same', activation='linear'))\n",
    "        critic_model.add(InstanceNormalization())\n",
    "        critic_model.add(Activation(self.activation))\n",
    "        for _ in range(self.n_layer - 2):\n",
    "            critic_model.add(Conv2D(self.critic_h_dim, (3, 3), padding='same', activation='linear'))\n",
    "            critic_model.add(InstanceNormalization())\n",
    "            critic_model.add(Activation(self.activation))\n",
    "        critic_model.add(Flatten())\n",
    "        critic_model.add(Dense(self.critic_h_dim, activation=self.activation))\n",
    "        critic_model.add(Dropout(0.2))\n",
    "        critic_model.add(Dense(self.label_dim, activation ='softmax'))\n",
    "\n",
    "        ## Inputs\n",
    "        # Features\n",
    "        feature = Input(shape=(self.x_len, self.y_len, self.dim), dtype='float32')\n",
    "        # Binary selection\n",
    "        selection = Input(shape=(self.x_len, self.y_len, 1), dtype='float32')         \n",
    "\n",
    "        # Element-wise multiplication\n",
    "        critic_model_input = Multiply()([feature, selection])\n",
    "        y_hat = critic_model(critic_model_input)\n",
    "\n",
    "        return Model([feature, selection], y_hat)\n",
    "\n",
    "\n",
    "    def build_baseline(self):\n",
    "        \"\"\"Build baseline.\n",
    "\n",
    "        Use the feature as the input and predict labels\n",
    "        \"\"\"\n",
    "        baseline_model = Sequential()\n",
    "        \n",
    "        baseline_model.add(Conv2D(self.critic_h_dim, (3, 3), padding='same', activation='linear'))\n",
    "        baseline_model.add(InstanceNormalization())\n",
    "        baseline_model.add(Activation(self.activation))\n",
    "        for _ in range(self.n_layer - 2):\n",
    "            baseline_model.add(Conv2D(self.critic_h_dim, (3, 3), padding='same', activation='linear'))\n",
    "            baseline_model.add(InstanceNormalization())\n",
    "            baseline_model.add(Activation(self.activation))\n",
    "        baseline_model.add(Flatten())\n",
    "        baseline_model.add(Dense(self.critic_h_dim, activation=self.activation))\n",
    "        baseline_model.add(Dropout(0.2))\n",
    "        baseline_model.add(Dense(self.label_dim, activation ='softmax'))\n",
    "\n",
    "        # Input\n",
    "        feature = Input(shape=(self.x_len, self.y_len, self.dim), dtype='float32')       \n",
    "        # Output        \n",
    "        y_hat = baseline_model(feature)\n",
    "\n",
    "        return Model(feature, y_hat)\n",
    "\n",
    "\n",
    "    def train(self, x_train, y_train):\n",
    "        \"\"\"Train INVASE.\n",
    "\n",
    "        Args:\n",
    "          - x_train: training features\n",
    "          - y_train: training labels\n",
    "        \"\"\"\n",
    "\n",
    "        for iter_idx in range(self.iteration):\n",
    "\n",
    "            ## Train critic\n",
    "            # Select a random batch of samples\n",
    "            idx = np.random.randint(0, x_train.shape[0], self.batch_size)\n",
    "            x_batch = x_train[idx,:]\n",
    "            y_batch = y_train[idx,:]\n",
    "\n",
    "            # Generate a batch of selection probability\n",
    "            selection_probability = self.actor.predict(x_batch)            \n",
    "            # Sampling the features based on the selection_probability\n",
    "            selection = bernoulli_sampling(selection_probability)     \n",
    "            # Critic loss\n",
    "            critic_loss = self.critic.train_on_batch([x_batch, selection], y_batch)                        \n",
    "            # Critic output\n",
    "            critic_out = self.critic.predict([x_batch, selection])\n",
    "\n",
    "            # Baseline output\n",
    "            if self.model_type == 'invase':   \n",
    "              # Baseline loss\n",
    "              baseline_loss = self.baseline.train_on_batch(x_batch, y_batch)                        \n",
    "              # Baseline output\n",
    "              baseline_out = self.baseline.predict(x_batch)\n",
    "\n",
    "            ## Train actor\n",
    "            # Use multiple things as the y_true: \n",
    "            # - selection, critic_out, baseline_out, and ground truth (y_batch)\n",
    "            if self.model_type == 'invase':\n",
    "                y_batch_final = np.concatenate((np.reshape(selection, (y_batch.shape[0], -1)), \n",
    "                                            np.asarray(critic_out), \n",
    "                                            np.asarray(baseline_out), \n",
    "                                            y_batch), axis = 1)\n",
    "            elif self.model_type == 'invase_minus':\n",
    "                y_batch_final = np.concatenate((np.reshape(selection, (y_batch.shape[0], -1)), \n",
    "                                            np.asarray(critic_out), \n",
    "                                            y_batch), axis = 1)\n",
    "\n",
    "            y_batch_final = y_batch_final[:, None, None, :]\n",
    "            \n",
    "            # Train the actor\n",
    "            actor_loss = self.actor.train_on_batch(x_batch, y_batch_final)\n",
    "\n",
    "            if self.model_type == 'invase':\n",
    "                # Print the progress\n",
    "                dialog = 'Iterations: ' + str(iter_idx) + \\\n",
    "                     ', critic accuracy: ' + str(critic_loss[1]) + \\\n",
    "                     ', baseline accuracy: ' + str(baseline_loss[1]) + \\\n",
    "                     ', actor loss: ' + str(np.round(actor_loss,4))\n",
    "            elif self.model_type == 'invase_minus':\n",
    "                # Print the progress\n",
    "                dialog = 'Iterations: ' + str(iter_idx) + \\\n",
    "                     ', critic accuracy: ' + str(critic_loss[1]) + \\\n",
    "                     ', actor loss: ' + str(np.round(actor_loss,4))\n",
    "\n",
    "            if iter_idx % 100 == 0:\n",
    "                print(dialog)\n",
    "\n",
    "    def importance_score(self, x):\n",
    "        \"\"\"Return featuer importance score.\n",
    "\n",
    "        Args:\n",
    "          - x: feature\n",
    "\n",
    "        Returns:\n",
    "          - feature_importance: instance-wise feature importance for x\n",
    "        \"\"\"        \n",
    "        feature_importance = self.actor.predict(x)        \n",
    "        return np.asarray(feature_importance)\n",
    "\n",
    "\n",
    "    def predict(self, x):\n",
    "        \"\"\"Predict outcomes.\n",
    "\n",
    "        Args:\n",
    "          - x: feature\n",
    "\n",
    "        Returns:\n",
    "          - y_hat: predictions    \n",
    "        \"\"\"        \n",
    "        # Generate a batch of selection probability\n",
    "        selection_probability = self.actor.predict(x)            \n",
    "        # Sampling the features based on the selection_probability\n",
    "        selection = bernoulli_sampling(selection_probability)   \n",
    "        # Prediction \n",
    "        y_hat = self.critic.predict([x, selection])\n",
    "\n",
    "        return np.asarray(y_hat)\n"
   ]
  },
  {
   "cell_type": "code",
   "execution_count": 6,
   "metadata": {},
   "outputs": [],
   "source": [
    "#Create two-channel patterns for MNIST images\n",
    "\n",
    "x_train_two = np.concatenate([\n",
    "    1. - x_train,\n",
    "    x_train\n",
    "], axis=-1)\n",
    "\n",
    "x_test_two = np.concatenate([\n",
    "    1. - x_test,\n",
    "    x_test\n",
    "], axis=-1)\n"
   ]
  },
  {
   "cell_type": "code",
   "execution_count": 7,
   "metadata": {
    "scrolled": true
   },
   "outputs": [
    {
     "name": "stdout",
     "output_type": "stream",
     "text": [
      "WARNING:tensorflow:From /home/ubuntu/anaconda3/envs/tensorflow_p36/lib/python3.6/site-packages/tensorflow/python/ops/math_ops.py:3066: to_int32 (from tensorflow.python.ops.math_ops) is deprecated and will be removed in a future version.\n",
      "Instructions for updating:\n",
      "Use tf.cast instead.\n",
      "Iterations: 0, critic accuracy: 0.0546875, baseline accuracy: 0.09375, actor loss: 0.5301\n",
      "Iterations: 100, critic accuracy: 0.765625, baseline accuracy: 0.9609375, actor loss: -126.7701\n",
      "Iterations: 200, critic accuracy: 0.8984375, baseline accuracy: 0.9765625, actor loss: -55.4913\n",
      "Iterations: 300, critic accuracy: 0.9375, baseline accuracy: 0.9921875, actor loss: -40.4428\n",
      "Iterations: 400, critic accuracy: 0.9140625, baseline accuracy: 0.9921875, actor loss: -58.2112\n",
      "Iterations: 500, critic accuracy: 0.953125, baseline accuracy: 0.9921875, actor loss: -31.0696\n",
      "Iterations: 600, critic accuracy: 0.96875, baseline accuracy: 1.0, actor loss: -25.3682\n",
      "Iterations: 700, critic accuracy: 0.9765625, baseline accuracy: 1.0, actor loss: -10.9407\n",
      "Iterations: 800, critic accuracy: 0.9765625, baseline accuracy: 0.9921875, actor loss: -64.5081\n",
      "Iterations: 900, critic accuracy: 0.9375, baseline accuracy: 0.9921875, actor loss: -70.2498\n",
      "Iterations: 1000, critic accuracy: 0.953125, baseline accuracy: 1.0, actor loss: -32.4824\n",
      "Iterations: 1100, critic accuracy: 0.984375, baseline accuracy: 1.0, actor loss: -17.9473\n",
      "Iterations: 1200, critic accuracy: 0.953125, baseline accuracy: 1.0, actor loss: -13.2006\n",
      "Iterations: 1300, critic accuracy: 0.953125, baseline accuracy: 0.9921875, actor loss: -30.1242\n",
      "Iterations: 1400, critic accuracy: 0.9375, baseline accuracy: 1.0, actor loss: -40.1618\n",
      "Iterations: 1500, critic accuracy: 0.9921875, baseline accuracy: 1.0, actor loss: -6.5048\n",
      "Iterations: 1600, critic accuracy: 0.9765625, baseline accuracy: 1.0, actor loss: -11.2601\n",
      "Iterations: 1700, critic accuracy: 0.96875, baseline accuracy: 1.0, actor loss: -9.9666\n",
      "Iterations: 1800, critic accuracy: 0.9609375, baseline accuracy: 0.9921875, actor loss: -11.0371\n",
      "Iterations: 1900, critic accuracy: 0.96875, baseline accuracy: 0.9921875, actor loss: -15.9043\n",
      "Iterations: 2000, critic accuracy: 0.96875, baseline accuracy: 0.9921875, actor loss: -6.8113\n",
      "Iterations: 2100, critic accuracy: 0.984375, baseline accuracy: 1.0, actor loss: -8.0905\n",
      "Iterations: 2200, critic accuracy: 0.96875, baseline accuracy: 1.0, actor loss: -9.7279\n",
      "Iterations: 2300, critic accuracy: 0.96875, baseline accuracy: 1.0, actor loss: -5.7113\n",
      "Iterations: 2400, critic accuracy: 0.96875, baseline accuracy: 1.0, actor loss: -11.9318\n",
      "Iterations: 2500, critic accuracy: 1.0, baseline accuracy: 1.0, actor loss: -0.7025\n",
      "Iterations: 2600, critic accuracy: 0.96875, baseline accuracy: 1.0, actor loss: -4.2449\n",
      "Iterations: 2700, critic accuracy: 0.9453125, baseline accuracy: 1.0, actor loss: -20.015\n",
      "Iterations: 2800, critic accuracy: 0.96875, baseline accuracy: 1.0, actor loss: -6.2715\n",
      "Iterations: 2900, critic accuracy: 0.984375, baseline accuracy: 1.0, actor loss: -2.1776\n",
      "Iterations: 3000, critic accuracy: 0.953125, baseline accuracy: 1.0, actor loss: -8.7301\n",
      "Iterations: 3100, critic accuracy: 0.984375, baseline accuracy: 1.0, actor loss: -6.091\n",
      "Iterations: 3200, critic accuracy: 0.96875, baseline accuracy: 0.984375, actor loss: -4.4995\n",
      "Iterations: 3300, critic accuracy: 0.96875, baseline accuracy: 1.0, actor loss: -6.7\n",
      "Iterations: 3400, critic accuracy: 0.9921875, baseline accuracy: 1.0, actor loss: -4.3992\n",
      "Iterations: 3500, critic accuracy: 0.9609375, baseline accuracy: 1.0, actor loss: -7.4747\n",
      "Iterations: 3600, critic accuracy: 0.9921875, baseline accuracy: 1.0, actor loss: -0.7618\n",
      "Iterations: 3700, critic accuracy: 0.984375, baseline accuracy: 0.9921875, actor loss: -4.0759\n",
      "Iterations: 3800, critic accuracy: 0.9765625, baseline accuracy: 1.0, actor loss: -4.0711\n",
      "Iterations: 3900, critic accuracy: 0.96875, baseline accuracy: 0.9921875, actor loss: -5.918\n",
      "Iterations: 4000, critic accuracy: 0.953125, baseline accuracy: 1.0, actor loss: -3.8301\n",
      "Iterations: 4100, critic accuracy: 0.96875, baseline accuracy: 1.0, actor loss: -4.5352\n",
      "Iterations: 4200, critic accuracy: 0.9765625, baseline accuracy: 1.0, actor loss: -3.8586\n",
      "Iterations: 4300, critic accuracy: 0.96875, baseline accuracy: 0.9921875, actor loss: -6.3067\n",
      "Iterations: 4400, critic accuracy: 0.984375, baseline accuracy: 1.0, actor loss: -3.2354\n",
      "Iterations: 4500, critic accuracy: 0.9921875, baseline accuracy: 1.0, actor loss: -0.3817\n"
     ]
    }
   ],
   "source": [
    "#Execute INVASE\n",
    "\n",
    "mask_penalty = 5.#200.\n",
    "hidden_dims = 32\n",
    "n_layers = 5\n",
    "epochs = 50\n",
    "batch_size = 128\n",
    "\n",
    "model_parameters = {\n",
    "    'lamda': mask_penalty,\n",
    "    'actor_h_dim': hidden_dims, \n",
    "    'critic_h_dim': hidden_dims,\n",
    "    'n_layer': n_layers,\n",
    "    'batch_size': batch_size,\n",
    "    'iteration': int(x_train.shape[0] * epochs / batch_size), \n",
    "    'activation': 'relu', \n",
    "    'learning_rate': 0.0001\n",
    "}\n",
    "\n",
    "invase_model = INVASE(x_train_two, pred_train, 'invase', model_parameters)\n",
    "\n",
    "invase_model.train(x_train_two, pred_train)    \n",
    "\n",
    "importance_scores_test = invase_model.importance_score(x_test_two)\n"
   ]
  },
  {
   "cell_type": "code",
   "execution_count": 8,
   "metadata": {},
   "outputs": [
    {
     "name": "stdout",
     "output_type": "stream",
     "text": [
      "Training Accuracy = 0.9846779778393352\n",
      "Test Accuracy     = 0.9830508474576272\n"
     ]
    }
   ],
   "source": [
    "#Evaluate INVASE model on train and test data\n",
    "\n",
    "invase_pred_train = invase_model.predict(x_train_two)\n",
    "invase_pred_test = invase_model.predict(x_test_two)\n",
    "\n",
    "print(\"Training Accuracy = \" + str(np.sum(np.argmax(invase_pred_train, axis=1) == np.argmax(pred_train, axis=1)) / float(pred_train.shape[0])))\n",
    "print(\"Test Accuracy     = \" + str(np.sum(np.argmax(invase_pred_test, axis=1) == np.argmax(pred_test, axis=1)) / float(pred_test.shape[0])))\n"
   ]
  },
  {
   "cell_type": "code",
   "execution_count": 9,
   "metadata": {
    "scrolled": false
   },
   "outputs": [
    {
     "name": "stdout",
     "output_type": "stream",
     "text": [
      "Test image 0:\n"
     ]
    },
    {
     "data": {
      "image/png": "[encoded data removed]",
      "text/plain": [
       "<Figure size 648x216 with 3 Axes>"
      ]
     },
     "metadata": {},
     "output_type": "display_data"
    },
    {
     "name": "stdout",
     "output_type": "stream",
     "text": [
      "Test image 1:\n"
     ]
    },
    {
     "data": {
      "image/png": "[encoded data removed]",
      "text/plain": [
       "<Figure size 648x216 with 3 Axes>"
      ]
     },
     "metadata": {},
     "output_type": "display_data"
    },
    {
     "name": "stdout",
     "output_type": "stream",
     "text": [
      "Test image 2:\n"
     ]
    },
    {
     "data": {
      "image/png": "[encoded data removed]",
      "text/plain": [
       "<Figure size 648x216 with 3 Axes>"
      ]
     },
     "metadata": {},
     "output_type": "display_data"
    },
    {
     "name": "stdout",
     "output_type": "stream",
     "text": [
      "Test image 3:\n"
     ]
    },
    {
     "data": {
      "image/png": "[encoded data removed]",
      "text/plain": [
       "<Figure size 648x216 with 3 Axes>"
      ]
     },
     "metadata": {},
     "output_type": "display_data"
    },
    {
     "name": "stdout",
     "output_type": "stream",
     "text": [
      "Test image 4:\n"
     ]
    },
    {
     "data": {
      "image/png": "[encoded data removed]",
      "text/plain": [
       "<Figure size 648x216 with 3 Axes>"
      ]
     },
     "metadata": {},
     "output_type": "display_data"
    },
    {
     "name": "stdout",
     "output_type": "stream",
     "text": [
      "Test image 5:\n"
     ]
    },
    {
     "data": {
      "image/png": "[encoded data removed]",
      "text/plain": [
       "<Figure size 648x216 with 3 Axes>"
      ]
     },
     "metadata": {},
     "output_type": "display_data"
    },
    {
     "name": "stdout",
     "output_type": "stream",
     "text": [
      "Test image 6:\n"
     ]
    },
    {
     "data": {
      "image/png": "[encoded data removed]",
      "text/plain": [
       "<Figure size 648x216 with 3 Axes>"
      ]
     },
     "metadata": {},
     "output_type": "display_data"
    },
    {
     "name": "stdout",
     "output_type": "stream",
     "text": [
      "Test image 7:\n"
     ]
    },
    {
     "data": {
      "image/png": "[encoded data removed]",
      "text/plain": [
       "<Figure size 648x216 with 3 Axes>"
      ]
     },
     "metadata": {},
     "output_type": "display_data"
    },
    {
     "name": "stdout",
     "output_type": "stream",
     "text": [
      "Test image 8:\n"
     ]
    },
    {
     "data": {
      "image/png": "[encoded data removed]",
      "text/plain": [
       "<Figure size 648x216 with 3 Axes>"
      ]
     },
     "metadata": {},
     "output_type": "display_data"
    },
    {
     "name": "stdout",
     "output_type": "stream",
     "text": [
      "Test image 9:\n"
     ]
    },
    {
     "data": {
      "image/png": "[encoded data removed]",
      "text/plain": [
       "<Figure size 648x216 with 3 Axes>"
      ]
     },
     "metadata": {},
     "output_type": "display_data"
    }
   ],
   "source": [
    "#Visualize a few images\n",
    "\n",
    "for plot_i in range(0, 10) :\n",
    "    \n",
    "    print(\"Test image \" + str(plot_i) + \":\")\n",
    "    \n",
    "    f, (ax1, ax2, ax3) = plt.subplots(1, 3, figsize=(3 * 3, 3))\n",
    "\n",
    "    ax1.imshow(x_test[plot_i, :, :, 0], cmap=\"Greys\", vmin=0.0, vmax=1.0, aspect='equal')\n",
    "\n",
    "    plt.sca(ax1)\n",
    "    plt.xticks([], [])\n",
    "    plt.yticks([], [])\n",
    "    \n",
    "    ax2.imshow(importance_scores_test[plot_i, :, :, 0], cmap=\"hot\", vmin=0.0, vmax=max(1e-7, np.max(importance_scores_test[plot_i, :, :, 0])), aspect='equal')\n",
    "    \n",
    "    plt.sca(ax2)\n",
    "    plt.xticks([], [])\n",
    "    plt.yticks([], [])\n",
    "    \n",
    "    ax3.imshow(x_test[plot_i, :, :, 0], cmap=\"Greys\", vmin=0.0, vmax=1.0, aspect='equal')\n",
    "\n",
    "    ax3.imshow(importance_scores_test[plot_i, :, :, 0], alpha=0.75, cmap=\"hot\", vmin=0.0, vmax=max(1e-7, np.max(importance_scores_test[plot_i, :, :, 0])), aspect='equal')\n",
    "    \n",
    "    plt.sca(ax3)\n",
    "    plt.xticks([], [])\n",
    "    plt.yticks([], [])\n",
    "\n",
    "    plt.tight_layout()\n",
    "    plt.show()\n"
   ]
  },
  {
   "cell_type": "code",
   "execution_count": 10,
   "metadata": {},
   "outputs": [],
   "source": [
    "#Save predicted importance scores\n",
    "\n",
    "model_name = \"invase_\" + dataset_name + \"_conv\"\n",
    "\n",
    "np.save(model_name + \"_importance_scores_test\", importance_scores_test)\n"
   ]
  },
  {
   "cell_type": "code",
   "execution_count": null,
   "metadata": {},
   "outputs": [],
   "source": []
  }
 ],
 "metadata": {
  "kernelspec": {
   "display_name": "Environment (conda_tensorflow_p36)",
   "language": "python",
   "name": "conda_tensorflow_p36"
  },
  "language_info": {
   "codemirror_mode": {
    "name": "ipython",
    "version": 3
   },
   "file_extension": ".py",
   "mimetype": "text/x-python",
   "name": "python",
   "nbconvert_exporter": "python",
   "pygments_lexer": "ipython3",
   "version": "3.6.5"
  }
 },
 "nbformat": 4,
 "nbformat_minor": 2
}
